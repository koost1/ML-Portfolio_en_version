{
 "cells": [
  {
   "cell_type": "markdown",
   "metadata": {},
   "source": [
    "# Determining the cost of cars"
   ]
  },
  {
   "cell_type": "markdown",
   "metadata": {},
   "source": [
    "The used car sales service \"Not beaten, not painted\" is developing an application to attract new customers. You can quickly find out the market value of your car in it. Historical data is at your disposal: technical specifications, complete sets and prices of cars. You need to build a model to determine the cost. \n",
    "\n",
    "Important to the customer:\n",
    "\n",
    "- quality of prediction;\n",
    "- speed of prediction;\n",
    "- training time."
   ]
  },
  {
   "cell_type": "markdown",
   "metadata": {},
   "source": [
    "## Importing libraries"
   ]
  },
  {
   "cell_type": "code",
   "execution_count": 11,
   "metadata": {},
   "outputs": [],
   "source": [
    "import pandas as pd\n",
    "import numpy as np\n",
    "import matplotlib.pyplot as plt\n",
    "from sklearn.model_selection import train_test_split\n",
    "from sklearn.tree import DecisionTreeClassifier\n",
    "from sklearn.preprocessing import OrdinalEncoder\n",
    "from sklearn.metrics import accuracy_score\n",
    "from sklearn.metrics import mean_squared_error\n",
    "from math import sqrt\n",
    "from sklearn.preprocessing import StandardScaler\n",
    "from sklearn.model_selection import GridSearchCV\n",
    "from sklearn.ensemble import RandomForestRegressor\n",
    "from sklearn.tree import DecisionTreeRegressor\n",
    "from catboost import Pool, cv\n",
    "from catboost import CatBoostRegressor"
   ]
  },
  {
   "cell_type": "markdown",
   "metadata": {},
   "source": [
    "## Data preparation"
   ]
  },
  {
   "cell_type": "markdown",
   "metadata": {},
   "source": [
    "### Uploading and analyzing a dataframe"
   ]
  },
  {
   "cell_type": "code",
   "execution_count": 15,
   "metadata": {},
   "outputs": [],
   "source": [
    "#загружаю датасет\n",
    "data = pd.read_csv('autos.csv')"
   ]
  },
  {
   "cell_type": "code",
   "execution_count": 16,
   "metadata": {},
   "outputs": [
    {
     "data": {
      "text/html": [
       "<div>\n",
       "<style scoped>\n",
       "    .dataframe tbody tr th:only-of-type {\n",
       "        vertical-align: middle;\n",
       "    }\n",
       "\n",
       "    .dataframe tbody tr th {\n",
       "        vertical-align: top;\n",
       "    }\n",
       "\n",
       "    .dataframe thead th {\n",
       "        text-align: right;\n",
       "    }\n",
       "</style>\n",
       "<table border=\"1\" class=\"dataframe\">\n",
       "  <thead>\n",
       "    <tr style=\"text-align: right;\">\n",
       "      <th></th>\n",
       "      <th>DateCrawled</th>\n",
       "      <th>Price</th>\n",
       "      <th>VehicleType</th>\n",
       "      <th>RegistrationYear</th>\n",
       "      <th>Gearbox</th>\n",
       "      <th>Power</th>\n",
       "      <th>Model</th>\n",
       "      <th>Kilometer</th>\n",
       "      <th>RegistrationMonth</th>\n",
       "      <th>FuelType</th>\n",
       "      <th>Brand</th>\n",
       "      <th>Repaired</th>\n",
       "      <th>DateCreated</th>\n",
       "      <th>NumberOfPictures</th>\n",
       "      <th>PostalCode</th>\n",
       "      <th>LastSeen</th>\n",
       "    </tr>\n",
       "  </thead>\n",
       "  <tbody>\n",
       "    <tr>\n",
       "      <th>0</th>\n",
       "      <td>2016-03-24 11:52:17</td>\n",
       "      <td>480</td>\n",
       "      <td>NaN</td>\n",
       "      <td>1993</td>\n",
       "      <td>manual</td>\n",
       "      <td>0</td>\n",
       "      <td>golf</td>\n",
       "      <td>150000</td>\n",
       "      <td>0</td>\n",
       "      <td>petrol</td>\n",
       "      <td>volkswagen</td>\n",
       "      <td>NaN</td>\n",
       "      <td>2016-03-24 00:00:00</td>\n",
       "      <td>0</td>\n",
       "      <td>70435</td>\n",
       "      <td>2016-04-07 03:16:57</td>\n",
       "    </tr>\n",
       "    <tr>\n",
       "      <th>1</th>\n",
       "      <td>2016-03-24 10:58:45</td>\n",
       "      <td>18300</td>\n",
       "      <td>coupe</td>\n",
       "      <td>2011</td>\n",
       "      <td>manual</td>\n",
       "      <td>190</td>\n",
       "      <td>NaN</td>\n",
       "      <td>125000</td>\n",
       "      <td>5</td>\n",
       "      <td>gasoline</td>\n",
       "      <td>audi</td>\n",
       "      <td>yes</td>\n",
       "      <td>2016-03-24 00:00:00</td>\n",
       "      <td>0</td>\n",
       "      <td>66954</td>\n",
       "      <td>2016-04-07 01:46:50</td>\n",
       "    </tr>\n",
       "    <tr>\n",
       "      <th>2</th>\n",
       "      <td>2016-03-14 12:52:21</td>\n",
       "      <td>9800</td>\n",
       "      <td>suv</td>\n",
       "      <td>2004</td>\n",
       "      <td>auto</td>\n",
       "      <td>163</td>\n",
       "      <td>grand</td>\n",
       "      <td>125000</td>\n",
       "      <td>8</td>\n",
       "      <td>gasoline</td>\n",
       "      <td>jeep</td>\n",
       "      <td>NaN</td>\n",
       "      <td>2016-03-14 00:00:00</td>\n",
       "      <td>0</td>\n",
       "      <td>90480</td>\n",
       "      <td>2016-04-05 12:47:46</td>\n",
       "    </tr>\n",
       "    <tr>\n",
       "      <th>3</th>\n",
       "      <td>2016-03-17 16:54:04</td>\n",
       "      <td>1500</td>\n",
       "      <td>small</td>\n",
       "      <td>2001</td>\n",
       "      <td>manual</td>\n",
       "      <td>75</td>\n",
       "      <td>golf</td>\n",
       "      <td>150000</td>\n",
       "      <td>6</td>\n",
       "      <td>petrol</td>\n",
       "      <td>volkswagen</td>\n",
       "      <td>no</td>\n",
       "      <td>2016-03-17 00:00:00</td>\n",
       "      <td>0</td>\n",
       "      <td>91074</td>\n",
       "      <td>2016-03-17 17:40:17</td>\n",
       "    </tr>\n",
       "    <tr>\n",
       "      <th>4</th>\n",
       "      <td>2016-03-31 17:25:20</td>\n",
       "      <td>3600</td>\n",
       "      <td>small</td>\n",
       "      <td>2008</td>\n",
       "      <td>manual</td>\n",
       "      <td>69</td>\n",
       "      <td>fabia</td>\n",
       "      <td>90000</td>\n",
       "      <td>7</td>\n",
       "      <td>gasoline</td>\n",
       "      <td>skoda</td>\n",
       "      <td>no</td>\n",
       "      <td>2016-03-31 00:00:00</td>\n",
       "      <td>0</td>\n",
       "      <td>60437</td>\n",
       "      <td>2016-04-06 10:17:21</td>\n",
       "    </tr>\n",
       "  </tbody>\n",
       "</table>\n",
       "</div>"
      ],
      "text/plain": [
       "           DateCrawled  Price VehicleType  RegistrationYear Gearbox  Power  \\\n",
       "0  2016-03-24 11:52:17    480         NaN              1993  manual      0   \n",
       "1  2016-03-24 10:58:45  18300       coupe              2011  manual    190   \n",
       "2  2016-03-14 12:52:21   9800         suv              2004    auto    163   \n",
       "3  2016-03-17 16:54:04   1500       small              2001  manual     75   \n",
       "4  2016-03-31 17:25:20   3600       small              2008  manual     69   \n",
       "\n",
       "   Model  Kilometer  RegistrationMonth  FuelType       Brand Repaired  \\\n",
       "0   golf     150000                  0    petrol  volkswagen      NaN   \n",
       "1    NaN     125000                  5  gasoline        audi      yes   \n",
       "2  grand     125000                  8  gasoline        jeep      NaN   \n",
       "3   golf     150000                  6    petrol  volkswagen       no   \n",
       "4  fabia      90000                  7  gasoline       skoda       no   \n",
       "\n",
       "           DateCreated  NumberOfPictures  PostalCode             LastSeen  \n",
       "0  2016-03-24 00:00:00                 0       70435  2016-04-07 03:16:57  \n",
       "1  2016-03-24 00:00:00                 0       66954  2016-04-07 01:46:50  \n",
       "2  2016-03-14 00:00:00                 0       90480  2016-04-05 12:47:46  \n",
       "3  2016-03-17 00:00:00                 0       91074  2016-03-17 17:40:17  \n",
       "4  2016-03-31 00:00:00                 0       60437  2016-04-06 10:17:21  "
      ]
     },
     "execution_count": 16,
     "metadata": {},
     "output_type": "execute_result"
    }
   ],
   "source": [
    "#вывожу первые пять столбцов\n",
    "data.head()"
   ]
  },
  {
   "cell_type": "code",
   "execution_count": 19,
   "metadata": {},
   "outputs": [
    {
     "name": "stdout",
     "output_type": "stream",
     "text": [
      "<class 'pandas.core.frame.DataFrame'>\n",
      "RangeIndex: 354369 entries, 0 to 354368\n",
      "Data columns (total 16 columns):\n",
      " #   Column             Non-Null Count   Dtype \n",
      "---  ------             --------------   ----- \n",
      " 0   DateCrawled        354369 non-null  object\n",
      " 1   Price              354369 non-null  int64 \n",
      " 2   VehicleType        316879 non-null  object\n",
      " 3   RegistrationYear   354369 non-null  int64 \n",
      " 4   Gearbox            334536 non-null  object\n",
      " 5   Power              354369 non-null  int64 \n",
      " 6   Model              334664 non-null  object\n",
      " 7   Kilometer          354369 non-null  int64 \n",
      " 8   RegistrationMonth  354369 non-null  int64 \n",
      " 9   FuelType           321474 non-null  object\n",
      " 10  Brand              354369 non-null  object\n",
      " 11  Repaired           283215 non-null  object\n",
      " 12  DateCreated        354369 non-null  object\n",
      " 13  NumberOfPictures   354369 non-null  int64 \n",
      " 14  PostalCode         354369 non-null  int64 \n",
      " 15  LastSeen           354369 non-null  object\n",
      "dtypes: int64(7), object(9)\n",
      "memory usage: 43.3+ MB\n"
     ]
    }
   ],
   "source": [
    "#общая информация о таблице\n",
    "data.info()"
   ]
  },
  {
   "cell_type": "code",
   "execution_count": 21,
   "metadata": {},
   "outputs": [
    {
     "data": {
      "text/html": [
       "<div>\n",
       "<style scoped>\n",
       "    .dataframe tbody tr th:only-of-type {\n",
       "        vertical-align: middle;\n",
       "    }\n",
       "\n",
       "    .dataframe tbody tr th {\n",
       "        vertical-align: top;\n",
       "    }\n",
       "\n",
       "    .dataframe thead th {\n",
       "        text-align: right;\n",
       "    }\n",
       "</style>\n",
       "<table border=\"1\" class=\"dataframe\">\n",
       "  <thead>\n",
       "    <tr style=\"text-align: right;\">\n",
       "      <th></th>\n",
       "      <th>count</th>\n",
       "      <th>mean</th>\n",
       "      <th>std</th>\n",
       "      <th>min</th>\n",
       "      <th>25%</th>\n",
       "      <th>50%</th>\n",
       "      <th>75%</th>\n",
       "      <th>max</th>\n",
       "    </tr>\n",
       "  </thead>\n",
       "  <tbody>\n",
       "    <tr>\n",
       "      <th>Price</th>\n",
       "      <td>354369.0</td>\n",
       "      <td>4416.656776</td>\n",
       "      <td>4514.158514</td>\n",
       "      <td>0.0</td>\n",
       "      <td>1050.0</td>\n",
       "      <td>2700.0</td>\n",
       "      <td>6400.0</td>\n",
       "      <td>20000.0</td>\n",
       "    </tr>\n",
       "    <tr>\n",
       "      <th>RegistrationYear</th>\n",
       "      <td>354369.0</td>\n",
       "      <td>2004.234448</td>\n",
       "      <td>90.227958</td>\n",
       "      <td>1000.0</td>\n",
       "      <td>1999.0</td>\n",
       "      <td>2003.0</td>\n",
       "      <td>2008.0</td>\n",
       "      <td>9999.0</td>\n",
       "    </tr>\n",
       "    <tr>\n",
       "      <th>Power</th>\n",
       "      <td>354369.0</td>\n",
       "      <td>110.094337</td>\n",
       "      <td>189.850405</td>\n",
       "      <td>0.0</td>\n",
       "      <td>69.0</td>\n",
       "      <td>105.0</td>\n",
       "      <td>143.0</td>\n",
       "      <td>20000.0</td>\n",
       "    </tr>\n",
       "    <tr>\n",
       "      <th>Kilometer</th>\n",
       "      <td>354369.0</td>\n",
       "      <td>128211.172535</td>\n",
       "      <td>37905.341530</td>\n",
       "      <td>5000.0</td>\n",
       "      <td>125000.0</td>\n",
       "      <td>150000.0</td>\n",
       "      <td>150000.0</td>\n",
       "      <td>150000.0</td>\n",
       "    </tr>\n",
       "    <tr>\n",
       "      <th>RegistrationMonth</th>\n",
       "      <td>354369.0</td>\n",
       "      <td>5.714645</td>\n",
       "      <td>3.726421</td>\n",
       "      <td>0.0</td>\n",
       "      <td>3.0</td>\n",
       "      <td>6.0</td>\n",
       "      <td>9.0</td>\n",
       "      <td>12.0</td>\n",
       "    </tr>\n",
       "    <tr>\n",
       "      <th>NumberOfPictures</th>\n",
       "      <td>354369.0</td>\n",
       "      <td>0.000000</td>\n",
       "      <td>0.000000</td>\n",
       "      <td>0.0</td>\n",
       "      <td>0.0</td>\n",
       "      <td>0.0</td>\n",
       "      <td>0.0</td>\n",
       "      <td>0.0</td>\n",
       "    </tr>\n",
       "    <tr>\n",
       "      <th>PostalCode</th>\n",
       "      <td>354369.0</td>\n",
       "      <td>50508.689087</td>\n",
       "      <td>25783.096248</td>\n",
       "      <td>1067.0</td>\n",
       "      <td>30165.0</td>\n",
       "      <td>49413.0</td>\n",
       "      <td>71083.0</td>\n",
       "      <td>99998.0</td>\n",
       "    </tr>\n",
       "  </tbody>\n",
       "</table>\n",
       "</div>"
      ],
      "text/plain": [
       "                      count           mean           std     min       25%  \\\n",
       "Price              354369.0    4416.656776   4514.158514     0.0    1050.0   \n",
       "RegistrationYear   354369.0    2004.234448     90.227958  1000.0    1999.0   \n",
       "Power              354369.0     110.094337    189.850405     0.0      69.0   \n",
       "Kilometer          354369.0  128211.172535  37905.341530  5000.0  125000.0   \n",
       "RegistrationMonth  354369.0       5.714645      3.726421     0.0       3.0   \n",
       "NumberOfPictures   354369.0       0.000000      0.000000     0.0       0.0   \n",
       "PostalCode         354369.0   50508.689087  25783.096248  1067.0   30165.0   \n",
       "\n",
       "                        50%       75%       max  \n",
       "Price                2700.0    6400.0   20000.0  \n",
       "RegistrationYear     2003.0    2008.0    9999.0  \n",
       "Power                 105.0     143.0   20000.0  \n",
       "Kilometer          150000.0  150000.0  150000.0  \n",
       "RegistrationMonth       6.0       9.0      12.0  \n",
       "NumberOfPictures        0.0       0.0       0.0  \n",
       "PostalCode          49413.0   71083.0   99998.0  "
      ]
     },
     "execution_count": 21,
     "metadata": {},
     "output_type": "execute_result"
    }
   ],
   "source": [
    "#числовая информация о таблице\n",
    "data.describe().T"
   ]
  },
  {
   "cell_type": "markdown",
   "metadata": {},
   "source": [
    "### Removing abnormal values"
   ]
  },
  {
   "cell_type": "code",
   "execution_count": 24,
   "metadata": {},
   "outputs": [
    {
     "data": {
      "image/png": "[encoded data removed]",
      "text/plain": [
       "<Figure size 640x480 with 1 Axes>"
      ]
     },
     "metadata": {},
     "output_type": "display_data"
    }
   ],
   "source": [
    "#строю ящик с усами для столбца power\n",
    "data['Power'].plot.box()\n",
    "plt.grid(True)\n",
    "plt.ylim(0, 1000);\n",
    "plt.ylabel('Number of horsepower');\n",
    "plt.title('Distribution by Power column');"
   ]
  },
  {
   "cell_type": "markdown",
   "metadata": {},
   "source": [
    "**I think it's worth removing values that are greater than 99.8 quantiles and equal to 0**"
   ]
  },
  {
   "cell_type": "code",
   "execution_count": 27,
   "metadata": {},
   "outputs": [],
   "source": [
    "#убираю значения, которые больше 99,8 квантиля и равные нулю\n",
    "data = data[(data['Power']<data['Power'].quantile(0.998))&(data['Power']>0)]"
   ]
  },
  {
   "cell_type": "code",
   "execution_count": 29,
   "metadata": {},
   "outputs": [
    {
     "data": {
      "image/png": "[encoded data removed]",
      "text/plain": [
       "<Figure size 640x480 with 1 Axes>"
      ]
     },
     "metadata": {},
     "output_type": "display_data"
    }
   ],
   "source": [
    "#строю ящик с усами для столбца price\n",
    "data['Price'].plot.box()\n",
    "plt.grid(True)\n",
    "plt.ylim(0, 22500);\n",
    "plt.ylabel('The cost of the car in euros');\n",
    "plt.title('Distribution according to the Price column');"
   ]
  },
  {
   "cell_type": "markdown",
   "metadata": {},
   "source": [
    "**In this case, I think it is necessary to remove values that are less than 5 quantiles.**"
   ]
  },
  {
   "cell_type": "code",
   "execution_count": 32,
   "metadata": {},
   "outputs": [],
   "source": [
    "#убираю значения, которые меньше 1 квантиля\n",
    "data = data[data['Price']>data['Price'].quantile(0.05)]"
   ]
  },
  {
   "cell_type": "code",
   "execution_count": 34,
   "metadata": {},
   "outputs": [
    {
     "data": {
      "image/png": "[encoded data removed]",
      "text/plain": [
       "<Figure size 640x480 with 1 Axes>"
      ]
     },
     "metadata": {},
     "output_type": "display_data"
    }
   ],
   "source": [
    "#строю ящик с усами для столбца RegistrationYear\n",
    "data['RegistrationYear'].plot.box()\n",
    "plt.grid(True)\n",
    "plt.ylim(0, 22500);\n",
    "plt.ylabel('Year of car registration');\n",
    "plt.title('Distribution by RegistrationYear column');"
   ]
  },
  {
   "cell_type": "markdown",
   "metadata": {},
   "source": [
    "**Since the project description does not say anything about the year of the data,\n",
    "so we assume that the data should be deleted after 2023.**"
   ]
  },
  {
   "cell_type": "code",
   "execution_count": 37,
   "metadata": {},
   "outputs": [],
   "source": [
    "#убираю значения больше 2023 года\n",
    "data = data[data['RegistrationYear']<2023]"
   ]
  },
  {
   "cell_type": "markdown",
   "metadata": {},
   "source": [
    "### Filling in the passes"
   ]
  },
  {
   "cell_type": "code",
   "execution_count": 40,
   "metadata": {},
   "outputs": [
    {
     "data": {
      "text/plain": [
       "DateCrawled              0\n",
       "Price                    0\n",
       "VehicleType          19497\n",
       "RegistrationYear         0\n",
       "Gearbox               5490\n",
       "Power                    0\n",
       "Model                11563\n",
       "Kilometer                0\n",
       "RegistrationMonth        0\n",
       "FuelType             17898\n",
       "Brand                    0\n",
       "Repaired             43420\n",
       "DateCreated              0\n",
       "NumberOfPictures         0\n",
       "PostalCode               0\n",
       "LastSeen                 0\n",
       "dtype: int64"
      ]
     },
     "execution_count": 40,
     "metadata": {},
     "output_type": "execute_result"
    }
   ],
   "source": [
    "#смотрю в каких столбцах пропуски и сколько их\n",
    "data.isna().sum()"
   ]
  },
  {
   "cell_type": "markdown",
   "metadata": {},
   "source": [
    "**I believe that in the Model column, the missing values can be filled in with the word other. In the Repaired column, the gaps can be filled in with the word no. Let's assume that each seller is honest and did not indicate whether there was a repair or not, because there was no repair, and not because he wants to hide information from the buyer. And for the other columns, I have an idea how to fill in the passes.**"
   ]
  },
  {
   "cell_type": "code",
   "execution_count": 43,
   "metadata": {},
   "outputs": [],
   "source": [
    "#заполняю пропуски в столбцах Model и Repaired\n",
    "data['Model'] = data['Model'].fillna('other')\n",
    "data['Repaired'] = data['Repaired'].fillna('no')"
   ]
  },
  {
   "cell_type": "code",
   "execution_count": 45,
   "metadata": {},
   "outputs": [],
   "source": [
    "#создаю функцию для заполнения пропусков с помощью предсказания\n",
    "def isna(data, column):\n",
    "    #создаю список со всеми значениями столбца, в котором я буду заполнять пропуски\n",
    "    a = data[column].unique()\n",
    "    b = [np.nan]\n",
    "    #убираю пропуски, чтобы не кодировать их\n",
    "    z = [x for x in a if x not in b]\n",
    "    #кодирую все значения цифрами, чтобы можно было обучить модель \n",
    "    for i in range(len(z)):\n",
    "        data.loc[data[column]==z[i], column] = i\n",
    "    #создаю две таблицы, в одной есть пропуски, а в другой нет\n",
    "    x = data[data[column].isna()==0]\n",
    "    y = data[data[column].isna()==1]\n",
    "    #отделяю целевой признак от таблиц\n",
    "    features_x = x.drop(labels=column, axis=1)\n",
    "    target_x = x[column]\n",
    "    #меняю тип данных, чтобы можно было обучить модель\n",
    "    target_x = target_x.astype('int')\n",
    "    features_y = y.drop(labels=column, axis=1)\n",
    "    #заменяю категориальные признаки на цифры\n",
    "    encoder = OrdinalEncoder()\n",
    "    encoder.fit(features_x)\n",
    "    x_ordinal = pd.DataFrame(encoder.transform(features_x), columns=features_x.columns)\n",
    "    y_ordinal = pd.DataFrame(encoder.transform(features_y), columns=features_y.columns)\n",
    "    #создаю и обучаю модель для предсказания пропусков\n",
    "    model = DecisionTreeClassifier()\n",
    "    model.fit(x_ordinal, target_x)\n",
    "    predict = model.predict(y_ordinal)\n",
    "    #создаю таблицу с двумя столбцами, в первом предсказания будут в числовом виде, а во втором предсказания будут в виде слов\n",
    "    zero = []\n",
    "    for k in range(len(predict)):\n",
    "        zero.append(0)\n",
    "    double_zero = list(zip(zero, zero))\n",
    "    df = pd.DataFrame(double_zero, columns=['figure', 'words'])\n",
    "    df['figure'] = predict\n",
    "    for j in range(len(z)):\n",
    "        df.loc[df['figure']==j, 'words'] = z[j]\n",
    "    #считаю accuracy\n",
    "    score = accuracy_score(target_x, model.predict(x_ordinal))\n",
    "    return score, df"
   ]
  },
  {
   "cell_type": "code",
   "execution_count": 47,
   "metadata": {},
   "outputs": [
    {
     "name": "stderr",
     "output_type": "stream",
     "text": [
      "/var/folders/j1/s87kb4rs25s6jmdt61g1wsxr0000gn/T/ipykernel_51195/1706552367.py:37: FutureWarning: Setting an item of incompatible dtype is deprecated and will raise an error in a future version of pandas. Value 'coupe' has dtype incompatible with int64, please explicitly cast to a compatible dtype first.\n",
      "  df.loc[df['figure']==j, 'words'] = z[j]\n",
      "/var/folders/j1/s87kb4rs25s6jmdt61g1wsxr0000gn/T/ipykernel_51195/2394747498.py:10: SettingWithCopyWarning: \n",
      "A value is trying to be set on a copy of a slice from a DataFrame.\n",
      "Try using .loc[row_indexer,col_indexer] = value instead\n",
      "\n",
      "See the caveats in the documentation: https://pandas.pydata.org/pandas-docs/stable/user_guide/indexing.html#returning-a-view-versus-a-copy\n",
      "  data1['VehicleType'] = np.array(df['words'])\n"
     ]
    },
    {
     "data": {
      "text/plain": [
       "'Насколько хорошо модель предсказала пропуски: 0.6643006639722864'"
      ]
     },
     "metadata": {},
     "output_type": "display_data"
    },
    {
     "data": {
      "text/plain": [
       "'Количество пропусков:0'"
      ]
     },
     "metadata": {},
     "output_type": "display_data"
    },
    {
     "data": {
      "text/html": [
       "<div>\n",
       "<style scoped>\n",
       "    .dataframe tbody tr th:only-of-type {\n",
       "        vertical-align: middle;\n",
       "    }\n",
       "\n",
       "    .dataframe tbody tr th {\n",
       "        vertical-align: top;\n",
       "    }\n",
       "\n",
       "    .dataframe thead th {\n",
       "        text-align: right;\n",
       "    }\n",
       "</style>\n",
       "<table border=\"1\" class=\"dataframe\">\n",
       "  <thead>\n",
       "    <tr style=\"text-align: right;\">\n",
       "      <th></th>\n",
       "      <th>DateCrawled</th>\n",
       "      <th>Price</th>\n",
       "      <th>VehicleType</th>\n",
       "      <th>RegistrationYear</th>\n",
       "      <th>Gearbox</th>\n",
       "      <th>Power</th>\n",
       "      <th>Model</th>\n",
       "      <th>Kilometer</th>\n",
       "      <th>RegistrationMonth</th>\n",
       "      <th>FuelType</th>\n",
       "      <th>Brand</th>\n",
       "      <th>Repaired</th>\n",
       "      <th>DateCreated</th>\n",
       "      <th>NumberOfPictures</th>\n",
       "      <th>PostalCode</th>\n",
       "      <th>LastSeen</th>\n",
       "    </tr>\n",
       "  </thead>\n",
       "  <tbody>\n",
       "    <tr>\n",
       "      <th>1</th>\n",
       "      <td>2016-03-24 10:58:45</td>\n",
       "      <td>18300</td>\n",
       "      <td>coupe</td>\n",
       "      <td>2011</td>\n",
       "      <td>manual</td>\n",
       "      <td>190</td>\n",
       "      <td>other</td>\n",
       "      <td>125000</td>\n",
       "      <td>5</td>\n",
       "      <td>gasoline</td>\n",
       "      <td>audi</td>\n",
       "      <td>yes</td>\n",
       "      <td>2016-03-24 00:00:00</td>\n",
       "      <td>0</td>\n",
       "      <td>66954</td>\n",
       "      <td>2016-04-07 01:46:50</td>\n",
       "    </tr>\n",
       "    <tr>\n",
       "      <th>2</th>\n",
       "      <td>2016-03-14 12:52:21</td>\n",
       "      <td>9800</td>\n",
       "      <td>suv</td>\n",
       "      <td>2004</td>\n",
       "      <td>auto</td>\n",
       "      <td>163</td>\n",
       "      <td>grand</td>\n",
       "      <td>125000</td>\n",
       "      <td>8</td>\n",
       "      <td>gasoline</td>\n",
       "      <td>jeep</td>\n",
       "      <td>no</td>\n",
       "      <td>2016-03-14 00:00:00</td>\n",
       "      <td>0</td>\n",
       "      <td>90480</td>\n",
       "      <td>2016-04-05 12:47:46</td>\n",
       "    </tr>\n",
       "    <tr>\n",
       "      <th>3</th>\n",
       "      <td>2016-03-17 16:54:04</td>\n",
       "      <td>1500</td>\n",
       "      <td>small</td>\n",
       "      <td>2001</td>\n",
       "      <td>manual</td>\n",
       "      <td>75</td>\n",
       "      <td>golf</td>\n",
       "      <td>150000</td>\n",
       "      <td>6</td>\n",
       "      <td>petrol</td>\n",
       "      <td>volkswagen</td>\n",
       "      <td>no</td>\n",
       "      <td>2016-03-17 00:00:00</td>\n",
       "      <td>0</td>\n",
       "      <td>91074</td>\n",
       "      <td>2016-03-17 17:40:17</td>\n",
       "    </tr>\n",
       "    <tr>\n",
       "      <th>4</th>\n",
       "      <td>2016-03-31 17:25:20</td>\n",
       "      <td>3600</td>\n",
       "      <td>small</td>\n",
       "      <td>2008</td>\n",
       "      <td>manual</td>\n",
       "      <td>69</td>\n",
       "      <td>fabia</td>\n",
       "      <td>90000</td>\n",
       "      <td>7</td>\n",
       "      <td>gasoline</td>\n",
       "      <td>skoda</td>\n",
       "      <td>no</td>\n",
       "      <td>2016-03-31 00:00:00</td>\n",
       "      <td>0</td>\n",
       "      <td>60437</td>\n",
       "      <td>2016-04-06 10:17:21</td>\n",
       "    </tr>\n",
       "    <tr>\n",
       "      <th>5</th>\n",
       "      <td>2016-04-04 17:36:23</td>\n",
       "      <td>650</td>\n",
       "      <td>sedan</td>\n",
       "      <td>1995</td>\n",
       "      <td>manual</td>\n",
       "      <td>102</td>\n",
       "      <td>3er</td>\n",
       "      <td>150000</td>\n",
       "      <td>10</td>\n",
       "      <td>petrol</td>\n",
       "      <td>bmw</td>\n",
       "      <td>yes</td>\n",
       "      <td>2016-04-04 00:00:00</td>\n",
       "      <td>0</td>\n",
       "      <td>33775</td>\n",
       "      <td>2016-04-06 19:17:07</td>\n",
       "    </tr>\n",
       "  </tbody>\n",
       "</table>\n",
       "</div>"
      ],
      "text/plain": [
       "           DateCrawled  Price VehicleType  RegistrationYear Gearbox  Power  \\\n",
       "1  2016-03-24 10:58:45  18300       coupe              2011  manual    190   \n",
       "2  2016-03-14 12:52:21   9800         suv              2004    auto    163   \n",
       "3  2016-03-17 16:54:04   1500       small              2001  manual     75   \n",
       "4  2016-03-31 17:25:20   3600       small              2008  manual     69   \n",
       "5  2016-04-04 17:36:23    650       sedan              1995  manual    102   \n",
       "\n",
       "   Model  Kilometer  RegistrationMonth  FuelType       Brand Repaired  \\\n",
       "1  other     125000                  5  gasoline        audi      yes   \n",
       "2  grand     125000                  8  gasoline        jeep       no   \n",
       "3   golf     150000                  6    petrol  volkswagen       no   \n",
       "4  fabia      90000                  7  gasoline       skoda       no   \n",
       "5    3er     150000                 10    petrol         bmw      yes   \n",
       "\n",
       "           DateCreated  NumberOfPictures  PostalCode             LastSeen  \n",
       "1  2016-03-24 00:00:00                 0       66954  2016-04-07 01:46:50  \n",
       "2  2016-03-14 00:00:00                 0       90480  2016-04-05 12:47:46  \n",
       "3  2016-03-17 00:00:00                 0       91074  2016-03-17 17:40:17  \n",
       "4  2016-03-31 00:00:00                 0       60437  2016-04-06 10:17:21  \n",
       "5  2016-04-04 00:00:00                 0       33775  2016-04-06 19:17:07  "
      ]
     },
     "execution_count": 47,
     "metadata": {},
     "output_type": "execute_result"
    }
   ],
   "source": [
    "#предсказываю пропуски для столбца VehicleType\n",
    "#разделяю таблицу на две части, в одной есть пропуски, а в другой нет\n",
    "data0 = data[data['VehicleType'].isna()==0]\n",
    "data1 = data[data['VehicleType'].isna()==1]\n",
    "#создаю отдельную таблицу для функции\n",
    "data2 = data[['Model', 'Brand', 'VehicleType']]\n",
    "#сохраняю значение метрики и предсказания\n",
    "score, df = isna(data2, 'VehicleType')\n",
    "#вставляю предсказания\n",
    "data1['VehicleType'] = np.array(df['words'])\n",
    "#соединяю две таблицы\n",
    "data = pd.concat([data0, data1])\n",
    "#вывожу метрику, новую таблицу и проверяю есть ли пропуски\n",
    "display(f'Насколько хорошо модель предсказала пропуски: {score}')\n",
    "display(f'Количество пропусков:{data[\"VehicleType\"].isna().sum()}')\n",
    "data.head()"
   ]
  },
  {
   "cell_type": "code",
   "execution_count": 49,
   "metadata": {},
   "outputs": [
    {
     "name": "stderr",
     "output_type": "stream",
     "text": [
      "/var/folders/j1/s87kb4rs25s6jmdt61g1wsxr0000gn/T/ipykernel_51195/1706552367.py:37: FutureWarning: Setting an item of incompatible dtype is deprecated and will raise an error in a future version of pandas. Value 'manual' has dtype incompatible with int64, please explicitly cast to a compatible dtype first.\n",
      "  df.loc[df['figure']==j, 'words'] = z[j]\n",
      "/var/folders/j1/s87kb4rs25s6jmdt61g1wsxr0000gn/T/ipykernel_51195/3610372632.py:10: SettingWithCopyWarning: \n",
      "A value is trying to be set on a copy of a slice from a DataFrame.\n",
      "Try using .loc[row_indexer,col_indexer] = value instead\n",
      "\n",
      "See the caveats in the documentation: https://pandas.pydata.org/pandas-docs/stable/user_guide/indexing.html#returning-a-view-versus-a-copy\n",
      "  data1['Gearbox'] = np.array(df['words'])\n"
     ]
    },
    {
     "data": {
      "text/plain": [
       "'Насколько хорошо модель предсказала пропуски: 0.8434978548880729'"
      ]
     },
     "metadata": {},
     "output_type": "display_data"
    },
    {
     "data": {
      "text/plain": [
       "'Количество пропусков:0'"
      ]
     },
     "metadata": {},
     "output_type": "display_data"
    },
    {
     "data": {
      "text/html": [
       "<div>\n",
       "<style scoped>\n",
       "    .dataframe tbody tr th:only-of-type {\n",
       "        vertical-align: middle;\n",
       "    }\n",
       "\n",
       "    .dataframe tbody tr th {\n",
       "        vertical-align: top;\n",
       "    }\n",
       "\n",
       "    .dataframe thead th {\n",
       "        text-align: right;\n",
       "    }\n",
       "</style>\n",
       "<table border=\"1\" class=\"dataframe\">\n",
       "  <thead>\n",
       "    <tr style=\"text-align: right;\">\n",
       "      <th></th>\n",
       "      <th>DateCrawled</th>\n",
       "      <th>Price</th>\n",
       "      <th>VehicleType</th>\n",
       "      <th>RegistrationYear</th>\n",
       "      <th>Gearbox</th>\n",
       "      <th>Power</th>\n",
       "      <th>Model</th>\n",
       "      <th>Kilometer</th>\n",
       "      <th>RegistrationMonth</th>\n",
       "      <th>FuelType</th>\n",
       "      <th>Brand</th>\n",
       "      <th>Repaired</th>\n",
       "      <th>DateCreated</th>\n",
       "      <th>NumberOfPictures</th>\n",
       "      <th>PostalCode</th>\n",
       "      <th>LastSeen</th>\n",
       "    </tr>\n",
       "  </thead>\n",
       "  <tbody>\n",
       "    <tr>\n",
       "      <th>1</th>\n",
       "      <td>2016-03-24 10:58:45</td>\n",
       "      <td>18300</td>\n",
       "      <td>coupe</td>\n",
       "      <td>2011</td>\n",
       "      <td>manual</td>\n",
       "      <td>190</td>\n",
       "      <td>other</td>\n",
       "      <td>125000</td>\n",
       "      <td>5</td>\n",
       "      <td>gasoline</td>\n",
       "      <td>audi</td>\n",
       "      <td>yes</td>\n",
       "      <td>2016-03-24 00:00:00</td>\n",
       "      <td>0</td>\n",
       "      <td>66954</td>\n",
       "      <td>2016-04-07 01:46:50</td>\n",
       "    </tr>\n",
       "    <tr>\n",
       "      <th>2</th>\n",
       "      <td>2016-03-14 12:52:21</td>\n",
       "      <td>9800</td>\n",
       "      <td>suv</td>\n",
       "      <td>2004</td>\n",
       "      <td>auto</td>\n",
       "      <td>163</td>\n",
       "      <td>grand</td>\n",
       "      <td>125000</td>\n",
       "      <td>8</td>\n",
       "      <td>gasoline</td>\n",
       "      <td>jeep</td>\n",
       "      <td>no</td>\n",
       "      <td>2016-03-14 00:00:00</td>\n",
       "      <td>0</td>\n",
       "      <td>90480</td>\n",
       "      <td>2016-04-05 12:47:46</td>\n",
       "    </tr>\n",
       "    <tr>\n",
       "      <th>3</th>\n",
       "      <td>2016-03-17 16:54:04</td>\n",
       "      <td>1500</td>\n",
       "      <td>small</td>\n",
       "      <td>2001</td>\n",
       "      <td>manual</td>\n",
       "      <td>75</td>\n",
       "      <td>golf</td>\n",
       "      <td>150000</td>\n",
       "      <td>6</td>\n",
       "      <td>petrol</td>\n",
       "      <td>volkswagen</td>\n",
       "      <td>no</td>\n",
       "      <td>2016-03-17 00:00:00</td>\n",
       "      <td>0</td>\n",
       "      <td>91074</td>\n",
       "      <td>2016-03-17 17:40:17</td>\n",
       "    </tr>\n",
       "    <tr>\n",
       "      <th>4</th>\n",
       "      <td>2016-03-31 17:25:20</td>\n",
       "      <td>3600</td>\n",
       "      <td>small</td>\n",
       "      <td>2008</td>\n",
       "      <td>manual</td>\n",
       "      <td>69</td>\n",
       "      <td>fabia</td>\n",
       "      <td>90000</td>\n",
       "      <td>7</td>\n",
       "      <td>gasoline</td>\n",
       "      <td>skoda</td>\n",
       "      <td>no</td>\n",
       "      <td>2016-03-31 00:00:00</td>\n",
       "      <td>0</td>\n",
       "      <td>60437</td>\n",
       "      <td>2016-04-06 10:17:21</td>\n",
       "    </tr>\n",
       "    <tr>\n",
       "      <th>5</th>\n",
       "      <td>2016-04-04 17:36:23</td>\n",
       "      <td>650</td>\n",
       "      <td>sedan</td>\n",
       "      <td>1995</td>\n",
       "      <td>manual</td>\n",
       "      <td>102</td>\n",
       "      <td>3er</td>\n",
       "      <td>150000</td>\n",
       "      <td>10</td>\n",
       "      <td>petrol</td>\n",
       "      <td>bmw</td>\n",
       "      <td>yes</td>\n",
       "      <td>2016-04-04 00:00:00</td>\n",
       "      <td>0</td>\n",
       "      <td>33775</td>\n",
       "      <td>2016-04-06 19:17:07</td>\n",
       "    </tr>\n",
       "  </tbody>\n",
       "</table>\n",
       "</div>"
      ],
      "text/plain": [
       "           DateCrawled  Price VehicleType  RegistrationYear Gearbox  Power  \\\n",
       "1  2016-03-24 10:58:45  18300       coupe              2011  manual    190   \n",
       "2  2016-03-14 12:52:21   9800         suv              2004    auto    163   \n",
       "3  2016-03-17 16:54:04   1500       small              2001  manual     75   \n",
       "4  2016-03-31 17:25:20   3600       small              2008  manual     69   \n",
       "5  2016-04-04 17:36:23    650       sedan              1995  manual    102   \n",
       "\n",
       "   Model  Kilometer  RegistrationMonth  FuelType       Brand Repaired  \\\n",
       "1  other     125000                  5  gasoline        audi      yes   \n",
       "2  grand     125000                  8  gasoline        jeep       no   \n",
       "3   golf     150000                  6    petrol  volkswagen       no   \n",
       "4  fabia      90000                  7  gasoline       skoda       no   \n",
       "5    3er     150000                 10    petrol         bmw      yes   \n",
       "\n",
       "           DateCreated  NumberOfPictures  PostalCode             LastSeen  \n",
       "1  2016-03-24 00:00:00                 0       66954  2016-04-07 01:46:50  \n",
       "2  2016-03-14 00:00:00                 0       90480  2016-04-05 12:47:46  \n",
       "3  2016-03-17 00:00:00                 0       91074  2016-03-17 17:40:17  \n",
       "4  2016-03-31 00:00:00                 0       60437  2016-04-06 10:17:21  \n",
       "5  2016-04-04 00:00:00                 0       33775  2016-04-06 19:17:07  "
      ]
     },
     "execution_count": 49,
     "metadata": {},
     "output_type": "execute_result"
    }
   ],
   "source": [
    "#предсказываю пропуски для столбца Gearbox\n",
    "#разделяю таблицу на две части, в одной есть пропуски, а в другой нет\n",
    "data0 = data[data['Gearbox'].isna()==0]\n",
    "data1 = data[data['Gearbox'].isna()==1]\n",
    "#создаю отдельную таблицу для функции\n",
    "data2 = data[['Model', 'Brand', 'Gearbox']]\n",
    "#сохраняю значение метрики и предсказания\n",
    "score, df = isna(data2, 'Gearbox')\n",
    "#вставляю предсказания\n",
    "data1['Gearbox'] = np.array(df['words'])\n",
    "#соединяю две таблицы\n",
    "data = pd.concat([data0, data1])\n",
    "#вывожу метрику, новую таблицу и проверяю есть ли пропуски\n",
    "display(f'Насколько хорошо модель предсказала пропуски: {score}')\n",
    "display(f'Количество пропусков:{data[\"Gearbox\"].isna().sum()}')\n",
    "data.head()"
   ]
  },
  {
   "cell_type": "code",
   "execution_count": 51,
   "metadata": {},
   "outputs": [
    {
     "name": "stderr",
     "output_type": "stream",
     "text": [
      "/var/folders/j1/s87kb4rs25s6jmdt61g1wsxr0000gn/T/ipykernel_51195/1706552367.py:37: FutureWarning: Setting an item of incompatible dtype is deprecated and will raise an error in a future version of pandas. Value 'gasoline' has dtype incompatible with int64, please explicitly cast to a compatible dtype first.\n",
      "  df.loc[df['figure']==j, 'words'] = z[j]\n",
      "/var/folders/j1/s87kb4rs25s6jmdt61g1wsxr0000gn/T/ipykernel_51195/1560378766.py:10: SettingWithCopyWarning: \n",
      "A value is trying to be set on a copy of a slice from a DataFrame.\n",
      "Try using .loc[row_indexer,col_indexer] = value instead\n",
      "\n",
      "See the caveats in the documentation: https://pandas.pydata.org/pandas-docs/stable/user_guide/indexing.html#returning-a-view-versus-a-copy\n",
      "  data1['FuelType'] = np.array(df['words'])\n"
     ]
    },
    {
     "data": {
      "text/plain": [
       "'Насколько хорошо модель предсказала пропуски: 0.7363581241321905'"
      ]
     },
     "metadata": {},
     "output_type": "display_data"
    },
    {
     "data": {
      "text/plain": [
       "'Количество пропусков:0'"
      ]
     },
     "metadata": {},
     "output_type": "display_data"
    },
    {
     "data": {
      "text/html": [
       "<div>\n",
       "<style scoped>\n",
       "    .dataframe tbody tr th:only-of-type {\n",
       "        vertical-align: middle;\n",
       "    }\n",
       "\n",
       "    .dataframe tbody tr th {\n",
       "        vertical-align: top;\n",
       "    }\n",
       "\n",
       "    .dataframe thead th {\n",
       "        text-align: right;\n",
       "    }\n",
       "</style>\n",
       "<table border=\"1\" class=\"dataframe\">\n",
       "  <thead>\n",
       "    <tr style=\"text-align: right;\">\n",
       "      <th></th>\n",
       "      <th>DateCrawled</th>\n",
       "      <th>Price</th>\n",
       "      <th>VehicleType</th>\n",
       "      <th>RegistrationYear</th>\n",
       "      <th>Gearbox</th>\n",
       "      <th>Power</th>\n",
       "      <th>Model</th>\n",
       "      <th>Kilometer</th>\n",
       "      <th>RegistrationMonth</th>\n",
       "      <th>FuelType</th>\n",
       "      <th>Brand</th>\n",
       "      <th>Repaired</th>\n",
       "      <th>DateCreated</th>\n",
       "      <th>NumberOfPictures</th>\n",
       "      <th>PostalCode</th>\n",
       "      <th>LastSeen</th>\n",
       "    </tr>\n",
       "  </thead>\n",
       "  <tbody>\n",
       "    <tr>\n",
       "      <th>1</th>\n",
       "      <td>2016-03-24 10:58:45</td>\n",
       "      <td>18300</td>\n",
       "      <td>coupe</td>\n",
       "      <td>2011</td>\n",
       "      <td>manual</td>\n",
       "      <td>190</td>\n",
       "      <td>other</td>\n",
       "      <td>125000</td>\n",
       "      <td>5</td>\n",
       "      <td>gasoline</td>\n",
       "      <td>audi</td>\n",
       "      <td>yes</td>\n",
       "      <td>2016-03-24 00:00:00</td>\n",
       "      <td>0</td>\n",
       "      <td>66954</td>\n",
       "      <td>2016-04-07 01:46:50</td>\n",
       "    </tr>\n",
       "    <tr>\n",
       "      <th>2</th>\n",
       "      <td>2016-03-14 12:52:21</td>\n",
       "      <td>9800</td>\n",
       "      <td>suv</td>\n",
       "      <td>2004</td>\n",
       "      <td>auto</td>\n",
       "      <td>163</td>\n",
       "      <td>grand</td>\n",
       "      <td>125000</td>\n",
       "      <td>8</td>\n",
       "      <td>gasoline</td>\n",
       "      <td>jeep</td>\n",
       "      <td>no</td>\n",
       "      <td>2016-03-14 00:00:00</td>\n",
       "      <td>0</td>\n",
       "      <td>90480</td>\n",
       "      <td>2016-04-05 12:47:46</td>\n",
       "    </tr>\n",
       "    <tr>\n",
       "      <th>3</th>\n",
       "      <td>2016-03-17 16:54:04</td>\n",
       "      <td>1500</td>\n",
       "      <td>small</td>\n",
       "      <td>2001</td>\n",
       "      <td>manual</td>\n",
       "      <td>75</td>\n",
       "      <td>golf</td>\n",
       "      <td>150000</td>\n",
       "      <td>6</td>\n",
       "      <td>petrol</td>\n",
       "      <td>volkswagen</td>\n",
       "      <td>no</td>\n",
       "      <td>2016-03-17 00:00:00</td>\n",
       "      <td>0</td>\n",
       "      <td>91074</td>\n",
       "      <td>2016-03-17 17:40:17</td>\n",
       "    </tr>\n",
       "    <tr>\n",
       "      <th>4</th>\n",
       "      <td>2016-03-31 17:25:20</td>\n",
       "      <td>3600</td>\n",
       "      <td>small</td>\n",
       "      <td>2008</td>\n",
       "      <td>manual</td>\n",
       "      <td>69</td>\n",
       "      <td>fabia</td>\n",
       "      <td>90000</td>\n",
       "      <td>7</td>\n",
       "      <td>gasoline</td>\n",
       "      <td>skoda</td>\n",
       "      <td>no</td>\n",
       "      <td>2016-03-31 00:00:00</td>\n",
       "      <td>0</td>\n",
       "      <td>60437</td>\n",
       "      <td>2016-04-06 10:17:21</td>\n",
       "    </tr>\n",
       "    <tr>\n",
       "      <th>5</th>\n",
       "      <td>2016-04-04 17:36:23</td>\n",
       "      <td>650</td>\n",
       "      <td>sedan</td>\n",
       "      <td>1995</td>\n",
       "      <td>manual</td>\n",
       "      <td>102</td>\n",
       "      <td>3er</td>\n",
       "      <td>150000</td>\n",
       "      <td>10</td>\n",
       "      <td>petrol</td>\n",
       "      <td>bmw</td>\n",
       "      <td>yes</td>\n",
       "      <td>2016-04-04 00:00:00</td>\n",
       "      <td>0</td>\n",
       "      <td>33775</td>\n",
       "      <td>2016-04-06 19:17:07</td>\n",
       "    </tr>\n",
       "  </tbody>\n",
       "</table>\n",
       "</div>"
      ],
      "text/plain": [
       "           DateCrawled  Price VehicleType  RegistrationYear Gearbox  Power  \\\n",
       "1  2016-03-24 10:58:45  18300       coupe              2011  manual    190   \n",
       "2  2016-03-14 12:52:21   9800         suv              2004    auto    163   \n",
       "3  2016-03-17 16:54:04   1500       small              2001  manual     75   \n",
       "4  2016-03-31 17:25:20   3600       small              2008  manual     69   \n",
       "5  2016-04-04 17:36:23    650       sedan              1995  manual    102   \n",
       "\n",
       "   Model  Kilometer  RegistrationMonth  FuelType       Brand Repaired  \\\n",
       "1  other     125000                  5  gasoline        audi      yes   \n",
       "2  grand     125000                  8  gasoline        jeep       no   \n",
       "3   golf     150000                  6    petrol  volkswagen       no   \n",
       "4  fabia      90000                  7  gasoline       skoda       no   \n",
       "5    3er     150000                 10    petrol         bmw      yes   \n",
       "\n",
       "           DateCreated  NumberOfPictures  PostalCode             LastSeen  \n",
       "1  2016-03-24 00:00:00                 0       66954  2016-04-07 01:46:50  \n",
       "2  2016-03-14 00:00:00                 0       90480  2016-04-05 12:47:46  \n",
       "3  2016-03-17 00:00:00                 0       91074  2016-03-17 17:40:17  \n",
       "4  2016-03-31 00:00:00                 0       60437  2016-04-06 10:17:21  \n",
       "5  2016-04-04 00:00:00                 0       33775  2016-04-06 19:17:07  "
      ]
     },
     "execution_count": 51,
     "metadata": {},
     "output_type": "execute_result"
    }
   ],
   "source": [
    "#предсказываю пропуски для столбца FuelType\n",
    "#разделяю таблицу на две части, в одной есть пропуски, а в другой нет\n",
    "data0 = data[data['FuelType'].isna()==0]\n",
    "data1 = data[data['FuelType'].isna()==1]\n",
    "#создаю отдельную таблицу для функции\n",
    "data2 = data[['Model', 'Brand', 'FuelType']]\n",
    "#сохраняю значение метрики и предсказания\n",
    "score, df = isna(data2, 'FuelType')\n",
    "#вставляю предсказания\n",
    "data1['FuelType'] = np.array(df['words'])\n",
    "#соединяю две таблицы\n",
    "data = pd.concat([data0, data1])\n",
    "#вывожу метрику, новую таблицу и проверяю есть ли пропуски\n",
    "display(f'Насколько хорошо модель предсказала пропуски: {score}')\n",
    "display(f'Количество пропусков:{data[\"FuelType\"].isna().sum()}')\n",
    "data.head()"
   ]
  },
  {
   "cell_type": "code",
   "execution_count": 53,
   "metadata": {},
   "outputs": [
    {
     "data": {
      "text/plain": [
       "DateCrawled          0\n",
       "Price                0\n",
       "VehicleType          0\n",
       "RegistrationYear     0\n",
       "Gearbox              0\n",
       "Power                0\n",
       "Model                0\n",
       "Kilometer            0\n",
       "RegistrationMonth    0\n",
       "FuelType             0\n",
       "Brand                0\n",
       "Repaired             0\n",
       "DateCreated          0\n",
       "NumberOfPictures     0\n",
       "PostalCode           0\n",
       "LastSeen             0\n",
       "dtype: int64"
      ]
     },
     "execution_count": 53,
     "metadata": {},
     "output_type": "execute_result"
    }
   ],
   "source": [
    "#еще раз проверяю, что в таблице не осталось ни одного пропуска\n",
    "data.isna().sum()"
   ]
  },
  {
   "cell_type": "markdown",
   "metadata": {},
   "source": [
    "### Checking for duplicates"
   ]
  },
  {
   "cell_type": "code",
   "execution_count": 56,
   "metadata": {},
   "outputs": [
    {
     "data": {
      "text/plain": [
       "5"
      ]
     },
     "execution_count": 56,
     "metadata": {},
     "output_type": "execute_result"
    }
   ],
   "source": [
    "#считаю количество дубликатов\n",
    "data.duplicated().sum()"
   ]
  },
  {
   "cell_type": "code",
   "execution_count": 58,
   "metadata": {},
   "outputs": [],
   "source": [
    "#убираю дубликаты \n",
    "data = data.drop_duplicates(keep='first')"
   ]
  },
  {
   "cell_type": "code",
   "execution_count": 60,
   "metadata": {},
   "outputs": [
    {
     "data": {
      "text/plain": [
       "0"
      ]
     },
     "execution_count": 60,
     "metadata": {},
     "output_type": "execute_result"
    }
   ],
   "source": [
    "#проверяю\n",
    "data.duplicated().sum()"
   ]
  },
  {
   "cell_type": "markdown",
   "metadata": {},
   "source": [
    "### Removing uninformative signs"
   ]
  },
  {
   "cell_type": "code",
   "execution_count": 63,
   "metadata": {},
   "outputs": [],
   "source": [
    "#создаю список ненужных признаков\n",
    "unnecessary_features = ['DateCrawled', 'DateCreated', 'NumberOfPictures', 'PostalCode', 'LastSeen']"
   ]
  },
  {
   "cell_type": "code",
   "execution_count": 65,
   "metadata": {},
   "outputs": [],
   "source": [
    "#удаляю ненужные признаки \n",
    "data = data.drop(labels=unnecessary_features, axis=1)"
   ]
  },
  {
   "cell_type": "code",
   "execution_count": 67,
   "metadata": {},
   "outputs": [
    {
     "data": {
      "text/html": [
       "<div>\n",
       "<style scoped>\n",
       "    .dataframe tbody tr th:only-of-type {\n",
       "        vertical-align: middle;\n",
       "    }\n",
       "\n",
       "    .dataframe tbody tr th {\n",
       "        vertical-align: top;\n",
       "    }\n",
       "\n",
       "    .dataframe thead th {\n",
       "        text-align: right;\n",
       "    }\n",
       "</style>\n",
       "<table border=\"1\" class=\"dataframe\">\n",
       "  <thead>\n",
       "    <tr style=\"text-align: right;\">\n",
       "      <th></th>\n",
       "      <th>Price</th>\n",
       "      <th>VehicleType</th>\n",
       "      <th>RegistrationYear</th>\n",
       "      <th>Gearbox</th>\n",
       "      <th>Power</th>\n",
       "      <th>Model</th>\n",
       "      <th>Kilometer</th>\n",
       "      <th>RegistrationMonth</th>\n",
       "      <th>FuelType</th>\n",
       "      <th>Brand</th>\n",
       "      <th>Repaired</th>\n",
       "    </tr>\n",
       "  </thead>\n",
       "  <tbody>\n",
       "    <tr>\n",
       "      <th>1</th>\n",
       "      <td>18300</td>\n",
       "      <td>coupe</td>\n",
       "      <td>2011</td>\n",
       "      <td>manual</td>\n",
       "      <td>190</td>\n",
       "      <td>other</td>\n",
       "      <td>125000</td>\n",
       "      <td>5</td>\n",
       "      <td>gasoline</td>\n",
       "      <td>audi</td>\n",
       "      <td>yes</td>\n",
       "    </tr>\n",
       "    <tr>\n",
       "      <th>2</th>\n",
       "      <td>9800</td>\n",
       "      <td>suv</td>\n",
       "      <td>2004</td>\n",
       "      <td>auto</td>\n",
       "      <td>163</td>\n",
       "      <td>grand</td>\n",
       "      <td>125000</td>\n",
       "      <td>8</td>\n",
       "      <td>gasoline</td>\n",
       "      <td>jeep</td>\n",
       "      <td>no</td>\n",
       "    </tr>\n",
       "    <tr>\n",
       "      <th>3</th>\n",
       "      <td>1500</td>\n",
       "      <td>small</td>\n",
       "      <td>2001</td>\n",
       "      <td>manual</td>\n",
       "      <td>75</td>\n",
       "      <td>golf</td>\n",
       "      <td>150000</td>\n",
       "      <td>6</td>\n",
       "      <td>petrol</td>\n",
       "      <td>volkswagen</td>\n",
       "      <td>no</td>\n",
       "    </tr>\n",
       "    <tr>\n",
       "      <th>4</th>\n",
       "      <td>3600</td>\n",
       "      <td>small</td>\n",
       "      <td>2008</td>\n",
       "      <td>manual</td>\n",
       "      <td>69</td>\n",
       "      <td>fabia</td>\n",
       "      <td>90000</td>\n",
       "      <td>7</td>\n",
       "      <td>gasoline</td>\n",
       "      <td>skoda</td>\n",
       "      <td>no</td>\n",
       "    </tr>\n",
       "    <tr>\n",
       "      <th>5</th>\n",
       "      <td>650</td>\n",
       "      <td>sedan</td>\n",
       "      <td>1995</td>\n",
       "      <td>manual</td>\n",
       "      <td>102</td>\n",
       "      <td>3er</td>\n",
       "      <td>150000</td>\n",
       "      <td>10</td>\n",
       "      <td>petrol</td>\n",
       "      <td>bmw</td>\n",
       "      <td>yes</td>\n",
       "    </tr>\n",
       "    <tr>\n",
       "      <th>...</th>\n",
       "      <td>...</td>\n",
       "      <td>...</td>\n",
       "      <td>...</td>\n",
       "      <td>...</td>\n",
       "      <td>...</td>\n",
       "      <td>...</td>\n",
       "      <td>...</td>\n",
       "      <td>...</td>\n",
       "      <td>...</td>\n",
       "      <td>...</td>\n",
       "      <td>...</td>\n",
       "    </tr>\n",
       "    <tr>\n",
       "      <th>352626</th>\n",
       "      <td>1850</td>\n",
       "      <td>small</td>\n",
       "      <td>2000</td>\n",
       "      <td>manual</td>\n",
       "      <td>89</td>\n",
       "      <td>other</td>\n",
       "      <td>150000</td>\n",
       "      <td>7</td>\n",
       "      <td>petrol</td>\n",
       "      <td>fiat</td>\n",
       "      <td>no</td>\n",
       "    </tr>\n",
       "    <tr>\n",
       "      <th>352841</th>\n",
       "      <td>999</td>\n",
       "      <td>sedan</td>\n",
       "      <td>2017</td>\n",
       "      <td>auto</td>\n",
       "      <td>54</td>\n",
       "      <td>other</td>\n",
       "      <td>150000</td>\n",
       "      <td>0</td>\n",
       "      <td>petrol</td>\n",
       "      <td>mercedes_benz</td>\n",
       "      <td>no</td>\n",
       "    </tr>\n",
       "    <tr>\n",
       "      <th>353062</th>\n",
       "      <td>799</td>\n",
       "      <td>small</td>\n",
       "      <td>2018</td>\n",
       "      <td>manual</td>\n",
       "      <td>59</td>\n",
       "      <td>twingo</td>\n",
       "      <td>150000</td>\n",
       "      <td>11</td>\n",
       "      <td>petrol</td>\n",
       "      <td>renault</td>\n",
       "      <td>no</td>\n",
       "    </tr>\n",
       "    <tr>\n",
       "      <th>353104</th>\n",
       "      <td>1200</td>\n",
       "      <td>small</td>\n",
       "      <td>2000</td>\n",
       "      <td>manual</td>\n",
       "      <td>75</td>\n",
       "      <td>other</td>\n",
       "      <td>150000</td>\n",
       "      <td>0</td>\n",
       "      <td>petrol</td>\n",
       "      <td>volkswagen</td>\n",
       "      <td>no</td>\n",
       "    </tr>\n",
       "    <tr>\n",
       "      <th>353653</th>\n",
       "      <td>999</td>\n",
       "      <td>sedan</td>\n",
       "      <td>2016</td>\n",
       "      <td>manual</td>\n",
       "      <td>125</td>\n",
       "      <td>a3</td>\n",
       "      <td>150000</td>\n",
       "      <td>0</td>\n",
       "      <td>petrol</td>\n",
       "      <td>audi</td>\n",
       "      <td>no</td>\n",
       "    </tr>\n",
       "  </tbody>\n",
       "</table>\n",
       "<p>296612 rows × 11 columns</p>\n",
       "</div>"
      ],
      "text/plain": [
       "        Price VehicleType  RegistrationYear Gearbox  Power   Model  Kilometer  \\\n",
       "1       18300       coupe              2011  manual    190   other     125000   \n",
       "2        9800         suv              2004    auto    163   grand     125000   \n",
       "3        1500       small              2001  manual     75    golf     150000   \n",
       "4        3600       small              2008  manual     69   fabia      90000   \n",
       "5         650       sedan              1995  manual    102     3er     150000   \n",
       "...       ...         ...               ...     ...    ...     ...        ...   \n",
       "352626   1850       small              2000  manual     89   other     150000   \n",
       "352841    999       sedan              2017    auto     54   other     150000   \n",
       "353062    799       small              2018  manual     59  twingo     150000   \n",
       "353104   1200       small              2000  manual     75   other     150000   \n",
       "353653    999       sedan              2016  manual    125      a3     150000   \n",
       "\n",
       "        RegistrationMonth  FuelType          Brand Repaired  \n",
       "1                       5  gasoline           audi      yes  \n",
       "2                       8  gasoline           jeep       no  \n",
       "3                       6    petrol     volkswagen       no  \n",
       "4                       7  gasoline          skoda       no  \n",
       "5                      10    petrol            bmw      yes  \n",
       "...                   ...       ...            ...      ...  \n",
       "352626                  7    petrol           fiat       no  \n",
       "352841                  0    petrol  mercedes_benz       no  \n",
       "353062                 11    petrol        renault       no  \n",
       "353104                  0    petrol     volkswagen       no  \n",
       "353653                  0    petrol           audi       no  \n",
       "\n",
       "[296612 rows x 11 columns]"
      ]
     },
     "execution_count": 67,
     "metadata": {},
     "output_type": "execute_result"
    }
   ],
   "source": [
    "#проверяю\n",
    "data"
   ]
  },
  {
   "cell_type": "markdown",
   "metadata": {},
   "source": [
    "### Conclusion: Saved the data, removed the anomalies from the Power and Price columns. In the Model and Repaired columns, I filled in the gaps with plugs, and in the FuelType, Gearbox, and VehicleType columns, I filled in the gaps with predictions, and in one of the columns, the metric wasn't super good, but I think it's much better than just filling in neutral values. Then I removed the duplicates, but there weren't many of them. In the end, I removed the uninformative signs."
   ]
  },
  {
   "cell_type": "markdown",
   "metadata": {},
   "source": [
    "## Preparing data for training"
   ]
  },
  {
   "cell_type": "code",
   "execution_count": 71,
   "metadata": {},
   "outputs": [],
   "source": [
    "#разделяю данные на features и target\n",
    "features = data.drop(labels='Price', axis=1)\n",
    "target = data['Price']"
   ]
  },
  {
   "cell_type": "code",
   "execution_count": 73,
   "metadata": {},
   "outputs": [
    {
     "data": {
      "text/plain": [
       "(163136, 10)"
      ]
     },
     "metadata": {},
     "output_type": "display_data"
    },
    {
     "data": {
      "text/plain": [
       "(163136,)"
      ]
     },
     "metadata": {},
     "output_type": "display_data"
    },
    {
     "data": {
      "text/plain": [
       "(73411, 10)"
      ]
     },
     "metadata": {},
     "output_type": "display_data"
    },
    {
     "data": {
      "text/plain": [
       "(73411,)"
      ]
     },
     "metadata": {},
     "output_type": "display_data"
    },
    {
     "data": {
      "text/plain": [
       "(60065, 10)"
      ]
     },
     "metadata": {},
     "output_type": "display_data"
    },
    {
     "data": {
      "text/plain": [
       "(60065,)"
      ]
     },
     "execution_count": 73,
     "metadata": {},
     "output_type": "execute_result"
    }
   ],
   "source": [
    "#разделяю данные на две выборки \n",
    "features_train, features_temporary, target_train, target_temporary = train_test_split(features, target, test_size=0.45,\n",
    "                                                                                      random_state=12345)\n",
    "#разделяю временную выборку на две, на тестовую и валидационную\n",
    "features_valid, features_test, target_valid, target_test = train_test_split(features_temporary, target_temporary,\n",
    "                                                                            test_size=0.45, random_state=12345)\n",
    "#проверяю\n",
    "display(features_train.shape)\n",
    "display(target_train.shape)\n",
    "display(features_valid.shape)\n",
    "display(target_valid.shape)\n",
    "display(features_test.shape)\n",
    "target_test.shape"
   ]
  },
  {
   "cell_type": "code",
   "execution_count": 75,
   "metadata": {},
   "outputs": [],
   "source": [
    "#создаю список с категориальными данными\n",
    "ordinal = ['VehicleType', 'Gearbox', 'Model', 'FuelType', 'Brand', 'Repaired']\n",
    "#преобразовываю категориальные признаки с помощью техники OrdinalEncoder, поэтому в дальнейшем соревнование линейной регрессии не будет\n",
    "encoder = OrdinalEncoder(handle_unknown='error')\n",
    "encoder.fit(features_train.loc[:, ordinal])\n",
    "features_train.loc[:, ordinal] = encoder.transform(features_train.loc[:, ordinal])\n",
    "features_valid.loc[:, ordinal] = encoder.transform(features_valid.loc[:, ordinal])\n",
    "features_test.loc[:, ordinal] = encoder.transform(features_test.loc[:, ordinal])"
   ]
  },
  {
   "cell_type": "code",
   "execution_count": 77,
   "metadata": {},
   "outputs": [],
   "source": [
    "#поработаем с числами\n",
    "scaler = StandardScaler()\n",
    "scaler.fit(features_train)\n",
    "features_train = pd.DataFrame(scaler.transform(features_train), columns=features_train.columns)\n",
    "features_valid = pd.DataFrame(scaler.transform(features_valid), columns=features_valid.columns)\n",
    "features_test = pd.DataFrame(scaler.transform(features_test), columns=features_test.columns)"
   ]
  },
  {
   "cell_type": "markdown",
   "metadata": {},
   "source": [
    "### Conclusion: Prepared the data for training"
   ]
  },
  {
   "cell_type": "markdown",
   "metadata": {},
   "source": [
    "## Model analysis"
   ]
  },
  {
   "cell_type": "markdown",
   "metadata": {},
   "source": [
    "**will test wooden models at the very beginning**"
   ]
  },
  {
   "cell_type": "code",
   "execution_count": 82,
   "metadata": {},
   "outputs": [
    {
     "data": {
      "text/plain": [
       "{'max_depth': 10,\n",
       " 'max_features': 7,\n",
       " 'min_samples_leaf': 2,\n",
       " 'min_samples_split': 2,\n",
       " 'random_state': 12345}"
      ]
     },
     "execution_count": 82,
     "metadata": {},
     "output_type": "execute_result"
    }
   ],
   "source": [
    "#начну с дерева решений\n",
    "grid_space = {'max_depth':[2, 3, 4, 5, 6, 7, 8, 9, 10],\n",
    "             'max_features':[1, 3, 5, 7],\n",
    "             'min_samples_leaf':[2, 3, 4], \n",
    "             'min_samples_split':[2, 3, 4],\n",
    "             'random_state':[12345]}\n",
    "#создаю модель\n",
    "model = DecisionTreeRegressor()\n",
    "grid = GridSearchCV(model, param_grid=grid_space, cv=3, scoring='neg_mean_squared_error')\n",
    "model_grid = grid.fit(features_train, target_train)\n",
    "#сохраняю наилучшии параметры\n",
    "best_parametrs = model_grid.best_params_\n",
    "best_parametrs"
   ]
  },
  {
   "cell_type": "code",
   "execution_count": 83,
   "metadata": {},
   "outputs": [
    {
     "name": "stdout",
     "output_type": "stream",
     "text": [
      "CPU times: user 117 ms, sys: 1.47 ms, total: 119 ms\n",
      "Wall time: 118 ms\n"
     ]
    },
    {
     "data": {
      "text/html": [
       "<style>#sk-container-id-1 {\n",
       "  /* Definition of color scheme common for light and dark mode */\n",
       "  --sklearn-color-text: #000;\n",
       "  --sklearn-color-text-muted: #666;\n",
       "  --sklearn-color-line: gray;\n",
       "  /* Definition of color scheme for unfitted estimators */\n",
       "  --sklearn-color-unfitted-level-0: #fff5e6;\n",
       "  --sklearn-color-unfitted-level-1: #f6e4d2;\n",
       "  --sklearn-color-unfitted-level-2: #ffe0b3;\n",
       "  --sklearn-color-unfitted-level-3: chocolate;\n",
       "  /* Definition of color scheme for fitted estimators */\n",
       "  --sklearn-color-fitted-level-0: #f0f8ff;\n",
       "  --sklearn-color-fitted-level-1: #d4ebff;\n",
       "  --sklearn-color-fitted-level-2: #b3dbfd;\n",
       "  --sklearn-color-fitted-level-3: cornflowerblue;\n",
       "\n",
       "  /* Specific color for light theme */\n",
       "  --sklearn-color-text-on-default-background: var(--sg-text-color, var(--theme-code-foreground, var(--jp-content-font-color1, black)));\n",
       "  --sklearn-color-background: var(--sg-background-color, var(--theme-background, var(--jp-layout-color0, white)));\n",
       "  --sklearn-color-border-box: var(--sg-text-color, var(--theme-code-foreground, var(--jp-content-font-color1, black)));\n",
       "  --sklearn-color-icon: #696969;\n",
       "\n",
       "  @media (prefers-color-scheme: dark) {\n",
       "    /* Redefinition of color scheme for dark theme */\n",
       "    --sklearn-color-text-on-default-background: var(--sg-text-color, var(--theme-code-foreground, var(--jp-content-font-color1, white)));\n",
       "    --sklearn-color-background: var(--sg-background-color, var(--theme-background, var(--jp-layout-color0, #111)));\n",
       "    --sklearn-color-border-box: var(--sg-text-color, var(--theme-code-foreground, var(--jp-content-font-color1, white)));\n",
       "    --sklearn-color-icon: #878787;\n",
       "  }\n",
       "}\n",
       "\n",
       "#sk-container-id-1 {\n",
       "  color: var(--sklearn-color-text);\n",
       "}\n",
       "\n",
       "#sk-container-id-1 pre {\n",
       "  padding: 0;\n",
       "}\n",
       "\n",
       "#sk-container-id-1 input.sk-hidden--visually {\n",
       "  border: 0;\n",
       "  clip: rect(1px 1px 1px 1px);\n",
       "  clip: rect(1px, 1px, 1px, 1px);\n",
       "  height: 1px;\n",
       "  margin: -1px;\n",
       "  overflow: hidden;\n",
       "  padding: 0;\n",
       "  position: absolute;\n",
       "  width: 1px;\n",
       "}\n",
       "\n",
       "#sk-container-id-1 div.sk-dashed-wrapped {\n",
       "  border: 1px dashed var(--sklearn-color-line);\n",
       "  margin: 0 0.4em 0.5em 0.4em;\n",
       "  box-sizing: border-box;\n",
       "  padding-bottom: 0.4em;\n",
       "  background-color: var(--sklearn-color-background);\n",
       "}\n",
       "\n",
       "#sk-container-id-1 div.sk-container {\n",
       "  /* jupyter's `normalize.less` sets `[hidden] { display: none; }`\n",
       "     but bootstrap.min.css set `[hidden] { display: none !important; }`\n",
       "     so we also need the `!important` here to be able to override the\n",
       "     default hidden behavior on the sphinx rendered scikit-learn.org.\n",
       "     See: https://github.com/scikit-learn/scikit-learn/issues/21755 */\n",
       "  display: inline-block !important;\n",
       "  position: relative;\n",
       "}\n",
       "\n",
       "#sk-container-id-1 div.sk-text-repr-fallback {\n",
       "  display: none;\n",
       "}\n",
       "\n",
       "div.sk-parallel-item,\n",
       "div.sk-serial,\n",
       "div.sk-item {\n",
       "  /* draw centered vertical line to link estimators */\n",
       "  background-image: linear-gradient(var(--sklearn-color-text-on-default-background), var(--sklearn-color-text-on-default-background));\n",
       "  background-size: 2px 100%;\n",
       "  background-repeat: no-repeat;\n",
       "  background-position: center center;\n",
       "}\n",
       "\n",
       "/* Parallel-specific style estimator block */\n",
       "\n",
       "#sk-container-id-1 div.sk-parallel-item::after {\n",
       "  content: \"\";\n",
       "  width: 100%;\n",
       "  border-bottom: 2px solid var(--sklearn-color-text-on-default-background);\n",
       "  flex-grow: 1;\n",
       "}\n",
       "\n",
       "#sk-container-id-1 div.sk-parallel {\n",
       "  display: flex;\n",
       "  align-items: stretch;\n",
       "  justify-content: center;\n",
       "  background-color: var(--sklearn-color-background);\n",
       "  position: relative;\n",
       "}\n",
       "\n",
       "#sk-container-id-1 div.sk-parallel-item {\n",
       "  display: flex;\n",
       "  flex-direction: column;\n",
       "}\n",
       "\n",
       "#sk-container-id-1 div.sk-parallel-item:first-child::after {\n",
       "  align-self: flex-end;\n",
       "  width: 50%;\n",
       "}\n",
       "\n",
       "#sk-container-id-1 div.sk-parallel-item:last-child::after {\n",
       "  align-self: flex-start;\n",
       "  width: 50%;\n",
       "}\n",
       "\n",
       "#sk-container-id-1 div.sk-parallel-item:only-child::after {\n",
       "  width: 0;\n",
       "}\n",
       "\n",
       "/* Serial-specific style estimator block */\n",
       "\n",
       "#sk-container-id-1 div.sk-serial {\n",
       "  display: flex;\n",
       "  flex-direction: column;\n",
       "  align-items: center;\n",
       "  background-color: var(--sklearn-color-background);\n",
       "  padding-right: 1em;\n",
       "  padding-left: 1em;\n",
       "}\n",
       "\n",
       "\n",
       "/* Toggleable style: style used for estimator/Pipeline/ColumnTransformer box that is\n",
       "clickable and can be expanded/collapsed.\n",
       "- Pipeline and ColumnTransformer use this feature and define the default style\n",
       "- Estimators will overwrite some part of the style using the `sk-estimator` class\n",
       "*/\n",
       "\n",
       "/* Pipeline and ColumnTransformer style (default) */\n",
       "\n",
       "#sk-container-id-1 div.sk-toggleable {\n",
       "  /* Default theme specific background. It is overwritten whether we have a\n",
       "  specific estimator or a Pipeline/ColumnTransformer */\n",
       "  background-color: var(--sklearn-color-background);\n",
       "}\n",
       "\n",
       "/* Toggleable label */\n",
       "#sk-container-id-1 label.sk-toggleable__label {\n",
       "  cursor: pointer;\n",
       "  display: flex;\n",
       "  width: 100%;\n",
       "  margin-bottom: 0;\n",
       "  padding: 0.5em;\n",
       "  box-sizing: border-box;\n",
       "  text-align: center;\n",
       "  align-items: start;\n",
       "  justify-content: space-between;\n",
       "  gap: 0.5em;\n",
       "}\n",
       "\n",
       "#sk-container-id-1 label.sk-toggleable__label .caption {\n",
       "  font-size: 0.6rem;\n",
       "  font-weight: lighter;\n",
       "  color: var(--sklearn-color-text-muted);\n",
       "}\n",
       "\n",
       "#sk-container-id-1 label.sk-toggleable__label-arrow:before {\n",
       "  /* Arrow on the left of the label */\n",
       "  content: \"▸\";\n",
       "  float: left;\n",
       "  margin-right: 0.25em;\n",
       "  color: var(--sklearn-color-icon);\n",
       "}\n",
       "\n",
       "#sk-container-id-1 label.sk-toggleable__label-arrow:hover:before {\n",
       "  color: var(--sklearn-color-text);\n",
       "}\n",
       "\n",
       "/* Toggleable content - dropdown */\n",
       "\n",
       "#sk-container-id-1 div.sk-toggleable__content {\n",
       "  max-height: 0;\n",
       "  max-width: 0;\n",
       "  overflow: hidden;\n",
       "  text-align: left;\n",
       "  /* unfitted */\n",
       "  background-color: var(--sklearn-color-unfitted-level-0);\n",
       "}\n",
       "\n",
       "#sk-container-id-1 div.sk-toggleable__content.fitted {\n",
       "  /* fitted */\n",
       "  background-color: var(--sklearn-color-fitted-level-0);\n",
       "}\n",
       "\n",
       "#sk-container-id-1 div.sk-toggleable__content pre {\n",
       "  margin: 0.2em;\n",
       "  border-radius: 0.25em;\n",
       "  color: var(--sklearn-color-text);\n",
       "  /* unfitted */\n",
       "  background-color: var(--sklearn-color-unfitted-level-0);\n",
       "}\n",
       "\n",
       "#sk-container-id-1 div.sk-toggleable__content.fitted pre {\n",
       "  /* unfitted */\n",
       "  background-color: var(--sklearn-color-fitted-level-0);\n",
       "}\n",
       "\n",
       "#sk-container-id-1 input.sk-toggleable__control:checked~div.sk-toggleable__content {\n",
       "  /* Expand drop-down */\n",
       "  max-height: 200px;\n",
       "  max-width: 100%;\n",
       "  overflow: auto;\n",
       "}\n",
       "\n",
       "#sk-container-id-1 input.sk-toggleable__control:checked~label.sk-toggleable__label-arrow:before {\n",
       "  content: \"▾\";\n",
       "}\n",
       "\n",
       "/* Pipeline/ColumnTransformer-specific style */\n",
       "\n",
       "#sk-container-id-1 div.sk-label input.sk-toggleable__control:checked~label.sk-toggleable__label {\n",
       "  color: var(--sklearn-color-text);\n",
       "  background-color: var(--sklearn-color-unfitted-level-2);\n",
       "}\n",
       "\n",
       "#sk-container-id-1 div.sk-label.fitted input.sk-toggleable__control:checked~label.sk-toggleable__label {\n",
       "  background-color: var(--sklearn-color-fitted-level-2);\n",
       "}\n",
       "\n",
       "/* Estimator-specific style */\n",
       "\n",
       "/* Colorize estimator box */\n",
       "#sk-container-id-1 div.sk-estimator input.sk-toggleable__control:checked~label.sk-toggleable__label {\n",
       "  /* unfitted */\n",
       "  background-color: var(--sklearn-color-unfitted-level-2);\n",
       "}\n",
       "\n",
       "#sk-container-id-1 div.sk-estimator.fitted input.sk-toggleable__control:checked~label.sk-toggleable__label {\n",
       "  /* fitted */\n",
       "  background-color: var(--sklearn-color-fitted-level-2);\n",
       "}\n",
       "\n",
       "#sk-container-id-1 div.sk-label label.sk-toggleable__label,\n",
       "#sk-container-id-1 div.sk-label label {\n",
       "  /* The background is the default theme color */\n",
       "  color: var(--sklearn-color-text-on-default-background);\n",
       "}\n",
       "\n",
       "/* On hover, darken the color of the background */\n",
       "#sk-container-id-1 div.sk-label:hover label.sk-toggleable__label {\n",
       "  color: var(--sklearn-color-text);\n",
       "  background-color: var(--sklearn-color-unfitted-level-2);\n",
       "}\n",
       "\n",
       "/* Label box, darken color on hover, fitted */\n",
       "#sk-container-id-1 div.sk-label.fitted:hover label.sk-toggleable__label.fitted {\n",
       "  color: var(--sklearn-color-text);\n",
       "  background-color: var(--sklearn-color-fitted-level-2);\n",
       "}\n",
       "\n",
       "/* Estimator label */\n",
       "\n",
       "#sk-container-id-1 div.sk-label label {\n",
       "  font-family: monospace;\n",
       "  font-weight: bold;\n",
       "  display: inline-block;\n",
       "  line-height: 1.2em;\n",
       "}\n",
       "\n",
       "#sk-container-id-1 div.sk-label-container {\n",
       "  text-align: center;\n",
       "}\n",
       "\n",
       "/* Estimator-specific */\n",
       "#sk-container-id-1 div.sk-estimator {\n",
       "  font-family: monospace;\n",
       "  border: 1px dotted var(--sklearn-color-border-box);\n",
       "  border-radius: 0.25em;\n",
       "  box-sizing: border-box;\n",
       "  margin-bottom: 0.5em;\n",
       "  /* unfitted */\n",
       "  background-color: var(--sklearn-color-unfitted-level-0);\n",
       "}\n",
       "\n",
       "#sk-container-id-1 div.sk-estimator.fitted {\n",
       "  /* fitted */\n",
       "  background-color: var(--sklearn-color-fitted-level-0);\n",
       "}\n",
       "\n",
       "/* on hover */\n",
       "#sk-container-id-1 div.sk-estimator:hover {\n",
       "  /* unfitted */\n",
       "  background-color: var(--sklearn-color-unfitted-level-2);\n",
       "}\n",
       "\n",
       "#sk-container-id-1 div.sk-estimator.fitted:hover {\n",
       "  /* fitted */\n",
       "  background-color: var(--sklearn-color-fitted-level-2);\n",
       "}\n",
       "\n",
       "/* Specification for estimator info (e.g. \"i\" and \"?\") */\n",
       "\n",
       "/* Common style for \"i\" and \"?\" */\n",
       "\n",
       ".sk-estimator-doc-link,\n",
       "a:link.sk-estimator-doc-link,\n",
       "a:visited.sk-estimator-doc-link {\n",
       "  float: right;\n",
       "  font-size: smaller;\n",
       "  line-height: 1em;\n",
       "  font-family: monospace;\n",
       "  background-color: var(--sklearn-color-background);\n",
       "  border-radius: 1em;\n",
       "  height: 1em;\n",
       "  width: 1em;\n",
       "  text-decoration: none !important;\n",
       "  margin-left: 0.5em;\n",
       "  text-align: center;\n",
       "  /* unfitted */\n",
       "  border: var(--sklearn-color-unfitted-level-1) 1pt solid;\n",
       "  color: var(--sklearn-color-unfitted-level-1);\n",
       "}\n",
       "\n",
       ".sk-estimator-doc-link.fitted,\n",
       "a:link.sk-estimator-doc-link.fitted,\n",
       "a:visited.sk-estimator-doc-link.fitted {\n",
       "  /* fitted */\n",
       "  border: var(--sklearn-color-fitted-level-1) 1pt solid;\n",
       "  color: var(--sklearn-color-fitted-level-1);\n",
       "}\n",
       "\n",
       "/* On hover */\n",
       "div.sk-estimator:hover .sk-estimator-doc-link:hover,\n",
       ".sk-estimator-doc-link:hover,\n",
       "div.sk-label-container:hover .sk-estimator-doc-link:hover,\n",
       ".sk-estimator-doc-link:hover {\n",
       "  /* unfitted */\n",
       "  background-color: var(--sklearn-color-unfitted-level-3);\n",
       "  color: var(--sklearn-color-background);\n",
       "  text-decoration: none;\n",
       "}\n",
       "\n",
       "div.sk-estimator.fitted:hover .sk-estimator-doc-link.fitted:hover,\n",
       ".sk-estimator-doc-link.fitted:hover,\n",
       "div.sk-label-container:hover .sk-estimator-doc-link.fitted:hover,\n",
       ".sk-estimator-doc-link.fitted:hover {\n",
       "  /* fitted */\n",
       "  background-color: var(--sklearn-color-fitted-level-3);\n",
       "  color: var(--sklearn-color-background);\n",
       "  text-decoration: none;\n",
       "}\n",
       "\n",
       "/* Span, style for the box shown on hovering the info icon */\n",
       ".sk-estimator-doc-link span {\n",
       "  display: none;\n",
       "  z-index: 9999;\n",
       "  position: relative;\n",
       "  font-weight: normal;\n",
       "  right: .2ex;\n",
       "  padding: .5ex;\n",
       "  margin: .5ex;\n",
       "  width: min-content;\n",
       "  min-width: 20ex;\n",
       "  max-width: 50ex;\n",
       "  color: var(--sklearn-color-text);\n",
       "  box-shadow: 2pt 2pt 4pt #999;\n",
       "  /* unfitted */\n",
       "  background: var(--sklearn-color-unfitted-level-0);\n",
       "  border: .5pt solid var(--sklearn-color-unfitted-level-3);\n",
       "}\n",
       "\n",
       ".sk-estimator-doc-link.fitted span {\n",
       "  /* fitted */\n",
       "  background: var(--sklearn-color-fitted-level-0);\n",
       "  border: var(--sklearn-color-fitted-level-3);\n",
       "}\n",
       "\n",
       ".sk-estimator-doc-link:hover span {\n",
       "  display: block;\n",
       "}\n",
       "\n",
       "/* \"?\"-specific style due to the `<a>` HTML tag */\n",
       "\n",
       "#sk-container-id-1 a.estimator_doc_link {\n",
       "  float: right;\n",
       "  font-size: 1rem;\n",
       "  line-height: 1em;\n",
       "  font-family: monospace;\n",
       "  background-color: var(--sklearn-color-background);\n",
       "  border-radius: 1rem;\n",
       "  height: 1rem;\n",
       "  width: 1rem;\n",
       "  text-decoration: none;\n",
       "  /* unfitted */\n",
       "  color: var(--sklearn-color-unfitted-level-1);\n",
       "  border: var(--sklearn-color-unfitted-level-1) 1pt solid;\n",
       "}\n",
       "\n",
       "#sk-container-id-1 a.estimator_doc_link.fitted {\n",
       "  /* fitted */\n",
       "  border: var(--sklearn-color-fitted-level-1) 1pt solid;\n",
       "  color: var(--sklearn-color-fitted-level-1);\n",
       "}\n",
       "\n",
       "/* On hover */\n",
       "#sk-container-id-1 a.estimator_doc_link:hover {\n",
       "  /* unfitted */\n",
       "  background-color: var(--sklearn-color-unfitted-level-3);\n",
       "  color: var(--sklearn-color-background);\n",
       "  text-decoration: none;\n",
       "}\n",
       "\n",
       "#sk-container-id-1 a.estimator_doc_link.fitted:hover {\n",
       "  /* fitted */\n",
       "  background-color: var(--sklearn-color-fitted-level-3);\n",
       "}\n",
       "</style><div id=\"sk-container-id-1\" class=\"sk-top-container\"><div class=\"sk-text-repr-fallback\"><pre>DecisionTreeRegressor(max_depth=10, max_features=7, min_samples_leaf=2,\n",
       "                      random_state=12345)</pre><b>In a Jupyter environment, please rerun this cell to show the HTML representation or trust the notebook. <br />On GitHub, the HTML representation is unable to render, please try loading this page with nbviewer.org.</b></div><div class=\"sk-container\" hidden><div class=\"sk-item\"><div class=\"sk-estimator fitted sk-toggleable\"><input class=\"sk-toggleable__control sk-hidden--visually\" id=\"sk-estimator-id-1\" type=\"checkbox\" checked><label for=\"sk-estimator-id-1\" class=\"sk-toggleable__label fitted sk-toggleable__label-arrow\"><div><div>DecisionTreeRegressor</div></div><div><a class=\"sk-estimator-doc-link fitted\" rel=\"noreferrer\" target=\"_blank\" href=\"https://scikit-learn.org/1.6/modules/generated/sklearn.tree.DecisionTreeRegressor.html\">?<span>Documentation for DecisionTreeRegressor</span></a><span class=\"sk-estimator-doc-link fitted\">i<span>Fitted</span></span></div></label><div class=\"sk-toggleable__content fitted\"><pre>DecisionTreeRegressor(max_depth=10, max_features=7, min_samples_leaf=2,\n",
       "                      random_state=12345)</pre></div> </div></div></div></div>"
      ],
      "text/plain": [
       "DecisionTreeRegressor(max_depth=10, max_features=7, min_samples_leaf=2,\n",
       "                      random_state=12345)"
      ]
     },
     "execution_count": 83,
     "metadata": {},
     "output_type": "execute_result"
    }
   ],
   "source": [
    "%%time\n",
    "model = DecisionTreeRegressor(**best_parametrs)\n",
    "model.fit(features_train, target_train)"
   ]
  },
  {
   "cell_type": "code",
   "execution_count": 86,
   "metadata": {},
   "outputs": [
    {
     "name": "stdout",
     "output_type": "stream",
     "text": [
      "CPU times: user 10.5 ms, sys: 4.21 ms, total: 14.7 ms\n",
      "Wall time: 10.7 ms\n"
     ]
    },
    {
     "data": {
      "text/plain": [
       "2035.8859865251104"
      ]
     },
     "execution_count": 86,
     "metadata": {},
     "output_type": "execute_result"
    }
   ],
   "source": [
    "%%time \n",
    "predict = model.predict(features_valid)\n",
    "sqrt(mean_squared_error(target_valid, predict))"
   ]
  },
  {
   "cell_type": "code",
   "execution_count": 88,
   "metadata": {},
   "outputs": [
    {
     "data": {
      "text/plain": [
       "{'max_depth': 5, 'n_estimators': 40, 'random_state': 12345}"
      ]
     },
     "execution_count": 88,
     "metadata": {},
     "output_type": "execute_result"
    }
   ],
   "source": [
    "#теперь случайный лес\n",
    "grid_space = {'max_depth':[1, 2, 3, 4, 5],\n",
    "             'n_estimators':[10, 20, 30, 40, 50],\n",
    "             'random_state':[12345]}\n",
    "#создаю модель\n",
    "model = RandomForestRegressor()\n",
    "grid = GridSearchCV(model, param_grid=grid_space, cv=3, scoring='neg_mean_squared_error')\n",
    "model_grid = grid.fit(features_train, target_train)\n",
    "#сохраняю наилучшии параметры\n",
    "best_parametrs = model_grid.best_params_\n",
    "best_parametrs"
   ]
  },
  {
   "cell_type": "code",
   "execution_count": 89,
   "metadata": {},
   "outputs": [
    {
     "name": "stdout",
     "output_type": "stream",
     "text": [
      "CPU times: user 2.78 s, sys: 10.8 ms, total: 2.79 s\n",
      "Wall time: 2.79 s\n"
     ]
    },
    {
     "data": {
      "text/html": [
       "<style>#sk-container-id-2 {\n",
       "  /* Definition of color scheme common for light and dark mode */\n",
       "  --sklearn-color-text: #000;\n",
       "  --sklearn-color-text-muted: #666;\n",
       "  --sklearn-color-line: gray;\n",
       "  /* Definition of color scheme for unfitted estimators */\n",
       "  --sklearn-color-unfitted-level-0: #fff5e6;\n",
       "  --sklearn-color-unfitted-level-1: #f6e4d2;\n",
       "  --sklearn-color-unfitted-level-2: #ffe0b3;\n",
       "  --sklearn-color-unfitted-level-3: chocolate;\n",
       "  /* Definition of color scheme for fitted estimators */\n",
       "  --sklearn-color-fitted-level-0: #f0f8ff;\n",
       "  --sklearn-color-fitted-level-1: #d4ebff;\n",
       "  --sklearn-color-fitted-level-2: #b3dbfd;\n",
       "  --sklearn-color-fitted-level-3: cornflowerblue;\n",
       "\n",
       "  /* Specific color for light theme */\n",
       "  --sklearn-color-text-on-default-background: var(--sg-text-color, var(--theme-code-foreground, var(--jp-content-font-color1, black)));\n",
       "  --sklearn-color-background: var(--sg-background-color, var(--theme-background, var(--jp-layout-color0, white)));\n",
       "  --sklearn-color-border-box: var(--sg-text-color, var(--theme-code-foreground, var(--jp-content-font-color1, black)));\n",
       "  --sklearn-color-icon: #696969;\n",
       "\n",
       "  @media (prefers-color-scheme: dark) {\n",
       "    /* Redefinition of color scheme for dark theme */\n",
       "    --sklearn-color-text-on-default-background: var(--sg-text-color, var(--theme-code-foreground, var(--jp-content-font-color1, white)));\n",
       "    --sklearn-color-background: var(--sg-background-color, var(--theme-background, var(--jp-layout-color0, #111)));\n",
       "    --sklearn-color-border-box: var(--sg-text-color, var(--theme-code-foreground, var(--jp-content-font-color1, white)));\n",
       "    --sklearn-color-icon: #878787;\n",
       "  }\n",
       "}\n",
       "\n",
       "#sk-container-id-2 {\n",
       "  color: var(--sklearn-color-text);\n",
       "}\n",
       "\n",
       "#sk-container-id-2 pre {\n",
       "  padding: 0;\n",
       "}\n",
       "\n",
       "#sk-container-id-2 input.sk-hidden--visually {\n",
       "  border: 0;\n",
       "  clip: rect(1px 1px 1px 1px);\n",
       "  clip: rect(1px, 1px, 1px, 1px);\n",
       "  height: 1px;\n",
       "  margin: -1px;\n",
       "  overflow: hidden;\n",
       "  padding: 0;\n",
       "  position: absolute;\n",
       "  width: 1px;\n",
       "}\n",
       "\n",
       "#sk-container-id-2 div.sk-dashed-wrapped {\n",
       "  border: 1px dashed var(--sklearn-color-line);\n",
       "  margin: 0 0.4em 0.5em 0.4em;\n",
       "  box-sizing: border-box;\n",
       "  padding-bottom: 0.4em;\n",
       "  background-color: var(--sklearn-color-background);\n",
       "}\n",
       "\n",
       "#sk-container-id-2 div.sk-container {\n",
       "  /* jupyter's `normalize.less` sets `[hidden] { display: none; }`\n",
       "     but bootstrap.min.css set `[hidden] { display: none !important; }`\n",
       "     so we also need the `!important` here to be able to override the\n",
       "     default hidden behavior on the sphinx rendered scikit-learn.org.\n",
       "     See: https://github.com/scikit-learn/scikit-learn/issues/21755 */\n",
       "  display: inline-block !important;\n",
       "  position: relative;\n",
       "}\n",
       "\n",
       "#sk-container-id-2 div.sk-text-repr-fallback {\n",
       "  display: none;\n",
       "}\n",
       "\n",
       "div.sk-parallel-item,\n",
       "div.sk-serial,\n",
       "div.sk-item {\n",
       "  /* draw centered vertical line to link estimators */\n",
       "  background-image: linear-gradient(var(--sklearn-color-text-on-default-background), var(--sklearn-color-text-on-default-background));\n",
       "  background-size: 2px 100%;\n",
       "  background-repeat: no-repeat;\n",
       "  background-position: center center;\n",
       "}\n",
       "\n",
       "/* Parallel-specific style estimator block */\n",
       "\n",
       "#sk-container-id-2 div.sk-parallel-item::after {\n",
       "  content: \"\";\n",
       "  width: 100%;\n",
       "  border-bottom: 2px solid var(--sklearn-color-text-on-default-background);\n",
       "  flex-grow: 1;\n",
       "}\n",
       "\n",
       "#sk-container-id-2 div.sk-parallel {\n",
       "  display: flex;\n",
       "  align-items: stretch;\n",
       "  justify-content: center;\n",
       "  background-color: var(--sklearn-color-background);\n",
       "  position: relative;\n",
       "}\n",
       "\n",
       "#sk-container-id-2 div.sk-parallel-item {\n",
       "  display: flex;\n",
       "  flex-direction: column;\n",
       "}\n",
       "\n",
       "#sk-container-id-2 div.sk-parallel-item:first-child::after {\n",
       "  align-self: flex-end;\n",
       "  width: 50%;\n",
       "}\n",
       "\n",
       "#sk-container-id-2 div.sk-parallel-item:last-child::after {\n",
       "  align-self: flex-start;\n",
       "  width: 50%;\n",
       "}\n",
       "\n",
       "#sk-container-id-2 div.sk-parallel-item:only-child::after {\n",
       "  width: 0;\n",
       "}\n",
       "\n",
       "/* Serial-specific style estimator block */\n",
       "\n",
       "#sk-container-id-2 div.sk-serial {\n",
       "  display: flex;\n",
       "  flex-direction: column;\n",
       "  align-items: center;\n",
       "  background-color: var(--sklearn-color-background);\n",
       "  padding-right: 1em;\n",
       "  padding-left: 1em;\n",
       "}\n",
       "\n",
       "\n",
       "/* Toggleable style: style used for estimator/Pipeline/ColumnTransformer box that is\n",
       "clickable and can be expanded/collapsed.\n",
       "- Pipeline and ColumnTransformer use this feature and define the default style\n",
       "- Estimators will overwrite some part of the style using the `sk-estimator` class\n",
       "*/\n",
       "\n",
       "/* Pipeline and ColumnTransformer style (default) */\n",
       "\n",
       "#sk-container-id-2 div.sk-toggleable {\n",
       "  /* Default theme specific background. It is overwritten whether we have a\n",
       "  specific estimator or a Pipeline/ColumnTransformer */\n",
       "  background-color: var(--sklearn-color-background);\n",
       "}\n",
       "\n",
       "/* Toggleable label */\n",
       "#sk-container-id-2 label.sk-toggleable__label {\n",
       "  cursor: pointer;\n",
       "  display: flex;\n",
       "  width: 100%;\n",
       "  margin-bottom: 0;\n",
       "  padding: 0.5em;\n",
       "  box-sizing: border-box;\n",
       "  text-align: center;\n",
       "  align-items: start;\n",
       "  justify-content: space-between;\n",
       "  gap: 0.5em;\n",
       "}\n",
       "\n",
       "#sk-container-id-2 label.sk-toggleable__label .caption {\n",
       "  font-size: 0.6rem;\n",
       "  font-weight: lighter;\n",
       "  color: var(--sklearn-color-text-muted);\n",
       "}\n",
       "\n",
       "#sk-container-id-2 label.sk-toggleable__label-arrow:before {\n",
       "  /* Arrow on the left of the label */\n",
       "  content: \"▸\";\n",
       "  float: left;\n",
       "  margin-right: 0.25em;\n",
       "  color: var(--sklearn-color-icon);\n",
       "}\n",
       "\n",
       "#sk-container-id-2 label.sk-toggleable__label-arrow:hover:before {\n",
       "  color: var(--sklearn-color-text);\n",
       "}\n",
       "\n",
       "/* Toggleable content - dropdown */\n",
       "\n",
       "#sk-container-id-2 div.sk-toggleable__content {\n",
       "  max-height: 0;\n",
       "  max-width: 0;\n",
       "  overflow: hidden;\n",
       "  text-align: left;\n",
       "  /* unfitted */\n",
       "  background-color: var(--sklearn-color-unfitted-level-0);\n",
       "}\n",
       "\n",
       "#sk-container-id-2 div.sk-toggleable__content.fitted {\n",
       "  /* fitted */\n",
       "  background-color: var(--sklearn-color-fitted-level-0);\n",
       "}\n",
       "\n",
       "#sk-container-id-2 div.sk-toggleable__content pre {\n",
       "  margin: 0.2em;\n",
       "  border-radius: 0.25em;\n",
       "  color: var(--sklearn-color-text);\n",
       "  /* unfitted */\n",
       "  background-color: var(--sklearn-color-unfitted-level-0);\n",
       "}\n",
       "\n",
       "#sk-container-id-2 div.sk-toggleable__content.fitted pre {\n",
       "  /* unfitted */\n",
       "  background-color: var(--sklearn-color-fitted-level-0);\n",
       "}\n",
       "\n",
       "#sk-container-id-2 input.sk-toggleable__control:checked~div.sk-toggleable__content {\n",
       "  /* Expand drop-down */\n",
       "  max-height: 200px;\n",
       "  max-width: 100%;\n",
       "  overflow: auto;\n",
       "}\n",
       "\n",
       "#sk-container-id-2 input.sk-toggleable__control:checked~label.sk-toggleable__label-arrow:before {\n",
       "  content: \"▾\";\n",
       "}\n",
       "\n",
       "/* Pipeline/ColumnTransformer-specific style */\n",
       "\n",
       "#sk-container-id-2 div.sk-label input.sk-toggleable__control:checked~label.sk-toggleable__label {\n",
       "  color: var(--sklearn-color-text);\n",
       "  background-color: var(--sklearn-color-unfitted-level-2);\n",
       "}\n",
       "\n",
       "#sk-container-id-2 div.sk-label.fitted input.sk-toggleable__control:checked~label.sk-toggleable__label {\n",
       "  background-color: var(--sklearn-color-fitted-level-2);\n",
       "}\n",
       "\n",
       "/* Estimator-specific style */\n",
       "\n",
       "/* Colorize estimator box */\n",
       "#sk-container-id-2 div.sk-estimator input.sk-toggleable__control:checked~label.sk-toggleable__label {\n",
       "  /* unfitted */\n",
       "  background-color: var(--sklearn-color-unfitted-level-2);\n",
       "}\n",
       "\n",
       "#sk-container-id-2 div.sk-estimator.fitted input.sk-toggleable__control:checked~label.sk-toggleable__label {\n",
       "  /* fitted */\n",
       "  background-color: var(--sklearn-color-fitted-level-2);\n",
       "}\n",
       "\n",
       "#sk-container-id-2 div.sk-label label.sk-toggleable__label,\n",
       "#sk-container-id-2 div.sk-label label {\n",
       "  /* The background is the default theme color */\n",
       "  color: var(--sklearn-color-text-on-default-background);\n",
       "}\n",
       "\n",
       "/* On hover, darken the color of the background */\n",
       "#sk-container-id-2 div.sk-label:hover label.sk-toggleable__label {\n",
       "  color: var(--sklearn-color-text);\n",
       "  background-color: var(--sklearn-color-unfitted-level-2);\n",
       "}\n",
       "\n",
       "/* Label box, darken color on hover, fitted */\n",
       "#sk-container-id-2 div.sk-label.fitted:hover label.sk-toggleable__label.fitted {\n",
       "  color: var(--sklearn-color-text);\n",
       "  background-color: var(--sklearn-color-fitted-level-2);\n",
       "}\n",
       "\n",
       "/* Estimator label */\n",
       "\n",
       "#sk-container-id-2 div.sk-label label {\n",
       "  font-family: monospace;\n",
       "  font-weight: bold;\n",
       "  display: inline-block;\n",
       "  line-height: 1.2em;\n",
       "}\n",
       "\n",
       "#sk-container-id-2 div.sk-label-container {\n",
       "  text-align: center;\n",
       "}\n",
       "\n",
       "/* Estimator-specific */\n",
       "#sk-container-id-2 div.sk-estimator {\n",
       "  font-family: monospace;\n",
       "  border: 1px dotted var(--sklearn-color-border-box);\n",
       "  border-radius: 0.25em;\n",
       "  box-sizing: border-box;\n",
       "  margin-bottom: 0.5em;\n",
       "  /* unfitted */\n",
       "  background-color: var(--sklearn-color-unfitted-level-0);\n",
       "}\n",
       "\n",
       "#sk-container-id-2 div.sk-estimator.fitted {\n",
       "  /* fitted */\n",
       "  background-color: var(--sklearn-color-fitted-level-0);\n",
       "}\n",
       "\n",
       "/* on hover */\n",
       "#sk-container-id-2 div.sk-estimator:hover {\n",
       "  /* unfitted */\n",
       "  background-color: var(--sklearn-color-unfitted-level-2);\n",
       "}\n",
       "\n",
       "#sk-container-id-2 div.sk-estimator.fitted:hover {\n",
       "  /* fitted */\n",
       "  background-color: var(--sklearn-color-fitted-level-2);\n",
       "}\n",
       "\n",
       "/* Specification for estimator info (e.g. \"i\" and \"?\") */\n",
       "\n",
       "/* Common style for \"i\" and \"?\" */\n",
       "\n",
       ".sk-estimator-doc-link,\n",
       "a:link.sk-estimator-doc-link,\n",
       "a:visited.sk-estimator-doc-link {\n",
       "  float: right;\n",
       "  font-size: smaller;\n",
       "  line-height: 1em;\n",
       "  font-family: monospace;\n",
       "  background-color: var(--sklearn-color-background);\n",
       "  border-radius: 1em;\n",
       "  height: 1em;\n",
       "  width: 1em;\n",
       "  text-decoration: none !important;\n",
       "  margin-left: 0.5em;\n",
       "  text-align: center;\n",
       "  /* unfitted */\n",
       "  border: var(--sklearn-color-unfitted-level-1) 1pt solid;\n",
       "  color: var(--sklearn-color-unfitted-level-1);\n",
       "}\n",
       "\n",
       ".sk-estimator-doc-link.fitted,\n",
       "a:link.sk-estimator-doc-link.fitted,\n",
       "a:visited.sk-estimator-doc-link.fitted {\n",
       "  /* fitted */\n",
       "  border: var(--sklearn-color-fitted-level-1) 1pt solid;\n",
       "  color: var(--sklearn-color-fitted-level-1);\n",
       "}\n",
       "\n",
       "/* On hover */\n",
       "div.sk-estimator:hover .sk-estimator-doc-link:hover,\n",
       ".sk-estimator-doc-link:hover,\n",
       "div.sk-label-container:hover .sk-estimator-doc-link:hover,\n",
       ".sk-estimator-doc-link:hover {\n",
       "  /* unfitted */\n",
       "  background-color: var(--sklearn-color-unfitted-level-3);\n",
       "  color: var(--sklearn-color-background);\n",
       "  text-decoration: none;\n",
       "}\n",
       "\n",
       "div.sk-estimator.fitted:hover .sk-estimator-doc-link.fitted:hover,\n",
       ".sk-estimator-doc-link.fitted:hover,\n",
       "div.sk-label-container:hover .sk-estimator-doc-link.fitted:hover,\n",
       ".sk-estimator-doc-link.fitted:hover {\n",
       "  /* fitted */\n",
       "  background-color: var(--sklearn-color-fitted-level-3);\n",
       "  color: var(--sklearn-color-background);\n",
       "  text-decoration: none;\n",
       "}\n",
       "\n",
       "/* Span, style for the box shown on hovering the info icon */\n",
       ".sk-estimator-doc-link span {\n",
       "  display: none;\n",
       "  z-index: 9999;\n",
       "  position: relative;\n",
       "  font-weight: normal;\n",
       "  right: .2ex;\n",
       "  padding: .5ex;\n",
       "  margin: .5ex;\n",
       "  width: min-content;\n",
       "  min-width: 20ex;\n",
       "  max-width: 50ex;\n",
       "  color: var(--sklearn-color-text);\n",
       "  box-shadow: 2pt 2pt 4pt #999;\n",
       "  /* unfitted */\n",
       "  background: var(--sklearn-color-unfitted-level-0);\n",
       "  border: .5pt solid var(--sklearn-color-unfitted-level-3);\n",
       "}\n",
       "\n",
       ".sk-estimator-doc-link.fitted span {\n",
       "  /* fitted */\n",
       "  background: var(--sklearn-color-fitted-level-0);\n",
       "  border: var(--sklearn-color-fitted-level-3);\n",
       "}\n",
       "\n",
       ".sk-estimator-doc-link:hover span {\n",
       "  display: block;\n",
       "}\n",
       "\n",
       "/* \"?\"-specific style due to the `<a>` HTML tag */\n",
       "\n",
       "#sk-container-id-2 a.estimator_doc_link {\n",
       "  float: right;\n",
       "  font-size: 1rem;\n",
       "  line-height: 1em;\n",
       "  font-family: monospace;\n",
       "  background-color: var(--sklearn-color-background);\n",
       "  border-radius: 1rem;\n",
       "  height: 1rem;\n",
       "  width: 1rem;\n",
       "  text-decoration: none;\n",
       "  /* unfitted */\n",
       "  color: var(--sklearn-color-unfitted-level-1);\n",
       "  border: var(--sklearn-color-unfitted-level-1) 1pt solid;\n",
       "}\n",
       "\n",
       "#sk-container-id-2 a.estimator_doc_link.fitted {\n",
       "  /* fitted */\n",
       "  border: var(--sklearn-color-fitted-level-1) 1pt solid;\n",
       "  color: var(--sklearn-color-fitted-level-1);\n",
       "}\n",
       "\n",
       "/* On hover */\n",
       "#sk-container-id-2 a.estimator_doc_link:hover {\n",
       "  /* unfitted */\n",
       "  background-color: var(--sklearn-color-unfitted-level-3);\n",
       "  color: var(--sklearn-color-background);\n",
       "  text-decoration: none;\n",
       "}\n",
       "\n",
       "#sk-container-id-2 a.estimator_doc_link.fitted:hover {\n",
       "  /* fitted */\n",
       "  background-color: var(--sklearn-color-fitted-level-3);\n",
       "}\n",
       "</style><div id=\"sk-container-id-2\" class=\"sk-top-container\"><div class=\"sk-text-repr-fallback\"><pre>RandomForestRegressor(max_depth=5, n_estimators=40, random_state=12345)</pre><b>In a Jupyter environment, please rerun this cell to show the HTML representation or trust the notebook. <br />On GitHub, the HTML representation is unable to render, please try loading this page with nbviewer.org.</b></div><div class=\"sk-container\" hidden><div class=\"sk-item\"><div class=\"sk-estimator fitted sk-toggleable\"><input class=\"sk-toggleable__control sk-hidden--visually\" id=\"sk-estimator-id-2\" type=\"checkbox\" checked><label for=\"sk-estimator-id-2\" class=\"sk-toggleable__label fitted sk-toggleable__label-arrow\"><div><div>RandomForestRegressor</div></div><div><a class=\"sk-estimator-doc-link fitted\" rel=\"noreferrer\" target=\"_blank\" href=\"https://scikit-learn.org/1.6/modules/generated/sklearn.ensemble.RandomForestRegressor.html\">?<span>Documentation for RandomForestRegressor</span></a><span class=\"sk-estimator-doc-link fitted\">i<span>Fitted</span></span></div></label><div class=\"sk-toggleable__content fitted\"><pre>RandomForestRegressor(max_depth=5, n_estimators=40, random_state=12345)</pre></div> </div></div></div></div>"
      ],
      "text/plain": [
       "RandomForestRegressor(max_depth=5, n_estimators=40, random_state=12345)"
      ]
     },
     "execution_count": 89,
     "metadata": {},
     "output_type": "execute_result"
    }
   ],
   "source": [
    "%%time\n",
    "model = RandomForestRegressor(**best_parametrs)\n",
    "model.fit(features_train, target_train)"
   ]
  },
  {
   "cell_type": "code",
   "execution_count": 90,
   "metadata": {},
   "outputs": [
    {
     "name": "stdout",
     "output_type": "stream",
     "text": [
      "CPU times: user 60.7 ms, sys: 1.64 ms, total: 62.3 ms\n",
      "Wall time: 61.6 ms\n"
     ]
    },
    {
     "data": {
      "text/plain": [
       "2442.3122753583243"
      ]
     },
     "execution_count": 90,
     "metadata": {},
     "output_type": "execute_result"
    }
   ],
   "source": [
    "%%time \n",
    "predict = model.predict(features_valid)\n",
    "sqrt(mean_squared_error(target_valid, predict))"
   ]
  },
  {
   "cell_type": "code",
   "execution_count": 91,
   "metadata": {},
   "outputs": [
    {
     "name": "stdout",
     "output_type": "stream",
     "text": [
      "Training on fold [0/5]\n",
      "\n",
      "bestTest = 0.3591298729\n",
      "bestIteration = 997\n",
      "\n",
      "Training on fold [1/5]\n",
      "\n",
      "bestTest = 0.3594728078\n",
      "bestIteration = 999\n",
      "\n",
      "Training on fold [2/5]\n",
      "\n",
      "bestTest = 0.3570560716\n",
      "bestIteration = 989\n",
      "\n",
      "Training on fold [3/5]\n",
      "\n",
      "bestTest = 0.3611881022\n",
      "bestIteration = 984\n",
      "\n",
      "Training on fold [4/5]\n",
      "\n",
      "bestTest = 0.3568578282\n",
      "bestIteration = 995\n",
      "\n"
     ]
    }
   ],
   "source": [
    "#теперь проверю catboost\n",
    "#ищу наилучшее количество итераций с помощью кроссвалидации\n",
    "data_pool = Pool(data=features_train, label=target_train)\n",
    "#создаю словарь параметров и подбираю learning_rate\n",
    "params = {'eval_metric':'MAPE',\n",
    "         'loss_function':'RMSE',\n",
    "         'learning_rate':0.4,\n",
    "         'random_seed':2007, \n",
    "         'verbose':1000}\n",
    "cv_data = cv(\n",
    "    params=params,\n",
    "    pool=data_pool,\n",
    "    fold_count=5,\n",
    "    shuffle=True,\n",
    "    partition_random_seed=0,\n",
    "    verbose=False,\n",
    "    early_stopping_rounds=200\n",
    ")"
   ]
  },
  {
   "cell_type": "code",
   "execution_count": 92,
   "metadata": {},
   "outputs": [],
   "source": [
    "params = {'iterations': 995,\n",
    "         'eval_metric':'MAPE',\n",
    "         'loss_function':'RMSE',\n",
    "         'learning_rate':0.4,\n",
    "         'random_seed':2007, \n",
    "         'verbose':100}\n",
    "#создаю модель\n",
    "model = CatBoostRegressor(**params)"
   ]
  },
  {
   "cell_type": "code",
   "execution_count": 93,
   "metadata": {},
   "outputs": [
    {
     "name": "stdout",
     "output_type": "stream",
     "text": [
      "0:\tlearn: 1.4042646\ttotal: 6.72ms\tremaining: 6.68s\n",
      "100:\tlearn: 0.3853652\ttotal: 438ms\tremaining: 3.88s\n",
      "200:\tlearn: 0.3670565\ttotal: 811ms\tremaining: 3.21s\n",
      "300:\tlearn: 0.3572985\ttotal: 1.18s\tremaining: 2.72s\n",
      "400:\tlearn: 0.3491799\ttotal: 1.54s\tremaining: 2.29s\n",
      "500:\tlearn: 0.3437409\ttotal: 1.91s\tremaining: 1.88s\n",
      "600:\tlearn: 0.3395554\ttotal: 2.28s\tremaining: 1.49s\n",
      "700:\tlearn: 0.3355989\ttotal: 2.64s\tremaining: 1.11s\n",
      "800:\tlearn: 0.3319970\ttotal: 3s\tremaining: 727ms\n",
      "900:\tlearn: 0.3289102\ttotal: 3.36s\tremaining: 351ms\n",
      "994:\tlearn: 0.3265350\ttotal: 3.71s\tremaining: 0us\n",
      "CPU times: user 16.6 s, sys: 5.36 s, total: 21.9 s\n",
      "Wall time: 3.77 s\n"
     ]
    },
    {
     "data": {
      "text/plain": [
       "<catboost.core.CatBoostRegressor at 0x315d3c990>"
      ]
     },
     "execution_count": 93,
     "metadata": {},
     "output_type": "execute_result"
    }
   ],
   "source": [
    "%%time\n",
    "model.fit(data_pool)"
   ]
  },
  {
   "cell_type": "code",
   "execution_count": 94,
   "metadata": {},
   "outputs": [
    {
     "name": "stdout",
     "output_type": "stream",
     "text": [
      "CPU times: user 94 ms, sys: 4.56 ms, total: 98.6 ms\n",
      "Wall time: 12.6 ms\n"
     ]
    },
    {
     "data": {
      "text/plain": [
       "1574.0188581890939"
      ]
     },
     "execution_count": 94,
     "metadata": {},
     "output_type": "execute_result"
    }
   ],
   "source": [
    "%%time\n",
    "predict = model.predict(features_valid)\n",
    "sqrt(mean_squared_error(target_valid, predict))"
   ]
  },
  {
   "cell_type": "markdown",
   "metadata": {},
   "source": [
    "## Checking the best model on a test sample"
   ]
  },
  {
   "cell_type": "code",
   "execution_count": 96,
   "metadata": {},
   "outputs": [
    {
     "name": "stdout",
     "output_type": "stream",
     "text": [
      "0:\tlearn: 1.4042646\ttotal: 3.7ms\tremaining: 3.68s\n",
      "100:\tlearn: 0.3853652\ttotal: 370ms\tremaining: 3.27s\n",
      "200:\tlearn: 0.3670565\ttotal: 732ms\tremaining: 2.89s\n",
      "300:\tlearn: 0.3572985\ttotal: 1.1s\tremaining: 2.53s\n",
      "400:\tlearn: 0.3491799\ttotal: 1.47s\tremaining: 2.18s\n",
      "500:\tlearn: 0.3437409\ttotal: 1.84s\tremaining: 1.82s\n",
      "600:\tlearn: 0.3395554\ttotal: 2.21s\tremaining: 1.45s\n",
      "700:\tlearn: 0.3355989\ttotal: 2.58s\tremaining: 1.08s\n",
      "800:\tlearn: 0.3319970\ttotal: 2.94s\tremaining: 711ms\n",
      "900:\tlearn: 0.3289102\ttotal: 3.3s\tremaining: 344ms\n",
      "994:\tlearn: 0.3265350\ttotal: 3.65s\tremaining: 0us\n",
      "CPU times: user 16.4 s, sys: 5.35 s, total: 21.8 s\n",
      "Wall time: 3.7 s\n"
     ]
    },
    {
     "data": {
      "text/plain": [
       "<catboost.core.CatBoostRegressor at 0x309cc9f90>"
      ]
     },
     "execution_count": 96,
     "metadata": {},
     "output_type": "execute_result"
    }
   ],
   "source": [
    "%%time\n",
    "model = CatBoostRegressor(**params)\n",
    "model.fit(features_train, target_train)"
   ]
  },
  {
   "cell_type": "code",
   "execution_count": 97,
   "metadata": {},
   "outputs": [
    {
     "name": "stdout",
     "output_type": "stream",
     "text": [
      "CPU times: user 82.6 ms, sys: 9.85 ms, total: 92.5 ms\n",
      "Wall time: 13.3 ms\n"
     ]
    },
    {
     "data": {
      "text/plain": [
       "1608.8543000894083"
      ]
     },
     "execution_count": 97,
     "metadata": {},
     "output_type": "execute_result"
    }
   ],
   "source": [
    "%%time\n",
    "predict = model.predict(features_test)\n",
    "sqrt(mean_squared_error(target_test, predict))"
   ]
  },
  {
   "cell_type": "markdown",
   "metadata": {},
   "source": [
    "**The general conclusion: At the very beginning, I uploaded the data and did the initial analysis. Then I removed the outliers, filled in the gaps, and removed duplicates and unnecessary features. After I started preparing the data for training, I transformed all the categorical data using the OrdinalEncoder technique, then brought all the numbers to the same scale using the StandardScaler. Next, I divided the data into two samples. After that, I started checking the models. In my opinion, the catboost model proved to be the best. So catboost is the most suitable for the customer.**"
   ]
  }
 ],
 "metadata": {
  "ExecuteTimeLog": [
   {
    "duration": 1509,
    "start_time": "2023-09-14T09:14:16.561Z"
   },
   {
    "duration": 1269,
    "start_time": "2023-09-14T09:15:10.189Z"
   },
   {
    "duration": 19,
    "start_time": "2023-09-14T09:15:46.890Z"
   },
   {
    "duration": 161,
    "start_time": "2023-09-14T09:16:02.047Z"
   },
   {
    "duration": 107,
    "start_time": "2023-09-14T09:16:13.878Z"
   },
   {
    "duration": 115,
    "start_time": "2023-09-14T09:16:16.709Z"
   },
   {
    "duration": 106,
    "start_time": "2023-09-14T09:16:20.933Z"
   },
   {
    "duration": 5,
    "start_time": "2023-09-14T09:18:50.699Z"
   },
   {
    "duration": 25,
    "start_time": "2023-09-14T09:34:54.880Z"
   },
   {
    "duration": 25,
    "start_time": "2023-09-14T09:35:04.084Z"
   },
   {
    "duration": 2150,
    "start_time": "2023-09-16T10:13:13.033Z"
   },
   {
    "duration": 2181,
    "start_time": "2023-09-16T10:13:16.215Z"
   },
   {
    "duration": 23,
    "start_time": "2023-09-16T10:13:18.398Z"
   },
   {
    "duration": 277,
    "start_time": "2023-09-16T10:13:18.422Z"
   },
   {
    "duration": 116,
    "start_time": "2023-09-16T10:13:18.704Z"
   },
   {
    "duration": 3,
    "start_time": "2023-09-16T10:21:16.334Z"
   },
   {
    "duration": 46,
    "start_time": "2023-09-16T10:21:48.463Z"
   },
   {
    "duration": 27,
    "start_time": "2023-09-16T10:21:58.034Z"
   },
   {
    "duration": 165,
    "start_time": "2023-09-16T10:24:24.274Z"
   },
   {
    "duration": 131,
    "start_time": "2023-09-16T10:25:41.695Z"
   },
   {
    "duration": 132,
    "start_time": "2023-09-16T10:25:45.699Z"
   },
   {
    "duration": 68,
    "start_time": "2023-09-16T10:25:49.969Z"
   },
   {
    "duration": 108,
    "start_time": "2023-09-16T10:26:19.978Z"
   },
   {
    "duration": 14,
    "start_time": "2023-09-16T10:26:21.084Z"
   },
   {
    "duration": 209,
    "start_time": "2023-09-16T10:27:00.091Z"
   },
   {
    "duration": 19,
    "start_time": "2023-09-16T10:27:01.298Z"
   },
   {
    "duration": 72,
    "start_time": "2023-09-16T10:28:53.125Z"
   },
   {
    "duration": 3,
    "start_time": "2023-09-16T10:29:30.012Z"
   },
   {
    "duration": 6,
    "start_time": "2023-09-16T10:29:32.517Z"
   },
   {
    "duration": 64,
    "start_time": "2023-09-16T10:30:25.678Z"
   },
   {
    "duration": 34,
    "start_time": "2023-09-16T10:34:00.896Z"
   },
   {
    "duration": 103,
    "start_time": "2023-09-16T10:34:10.036Z"
   },
   {
    "duration": 69,
    "start_time": "2023-09-16T10:34:27.752Z"
   },
   {
    "duration": 57,
    "start_time": "2023-09-16T10:34:31.620Z"
   },
   {
    "duration": 88,
    "start_time": "2023-09-16T10:34:53.512Z"
   },
   {
    "duration": 16,
    "start_time": "2023-09-16T10:38:55.774Z"
   },
   {
    "duration": 13,
    "start_time": "2023-09-16T10:39:01.795Z"
   },
   {
    "duration": 15,
    "start_time": "2023-09-16T10:39:31.966Z"
   },
   {
    "duration": 8,
    "start_time": "2023-09-16T10:39:51.903Z"
   },
   {
    "duration": 14,
    "start_time": "2023-09-16T10:41:24.807Z"
   },
   {
    "duration": 17,
    "start_time": "2023-09-16T10:41:35.190Z"
   },
   {
    "duration": 7,
    "start_time": "2023-09-16T10:42:01.579Z"
   },
   {
    "duration": 2632,
    "start_time": "2023-09-16T10:42:02.362Z"
   },
   {
    "duration": 102,
    "start_time": "2023-09-16T10:46:26.323Z"
   },
   {
    "duration": 18,
    "start_time": "2023-09-16T10:46:31.473Z"
   },
   {
    "duration": 102,
    "start_time": "2023-09-16T10:47:01.238Z"
   },
   {
    "duration": 27,
    "start_time": "2023-09-16T10:47:02.071Z"
   },
   {
    "duration": 100,
    "start_time": "2023-09-16T10:47:22.177Z"
   },
   {
    "duration": 14,
    "start_time": "2023-09-16T10:47:23.495Z"
   },
   {
    "duration": 101,
    "start_time": "2023-09-16T10:47:33.506Z"
   },
   {
    "duration": 40,
    "start_time": "2023-09-16T10:47:34.142Z"
   },
   {
    "duration": 100,
    "start_time": "2023-09-16T10:47:39.521Z"
   },
   {
    "duration": 12,
    "start_time": "2023-09-16T10:47:41.006Z"
   },
   {
    "duration": 137,
    "start_time": "2023-09-16T10:47:44.970Z"
   },
   {
    "duration": 13,
    "start_time": "2023-09-16T10:47:45.708Z"
   },
   {
    "duration": 110,
    "start_time": "2023-09-16T10:47:58.635Z"
   },
   {
    "duration": 13,
    "start_time": "2023-09-16T10:47:59.217Z"
   },
   {
    "duration": 42,
    "start_time": "2023-09-16T10:48:49.662Z"
   },
   {
    "duration": 39,
    "start_time": "2023-09-16T10:48:53.690Z"
   },
   {
    "duration": 23,
    "start_time": "2023-09-16T10:49:07.199Z"
   },
   {
    "duration": 100,
    "start_time": "2023-09-16T10:50:23.377Z"
   },
   {
    "duration": 12,
    "start_time": "2023-09-16T10:51:20.363Z"
   },
   {
    "duration": 112,
    "start_time": "2023-09-16T10:51:43.305Z"
   },
   {
    "duration": 13,
    "start_time": "2023-09-16T10:51:46.974Z"
   },
   {
    "duration": 32,
    "start_time": "2023-09-16T10:57:24.341Z"
   },
   {
    "duration": 130,
    "start_time": "2023-09-16T10:58:16.002Z"
   },
   {
    "duration": 17,
    "start_time": "2023-09-16T10:58:27.970Z"
   },
   {
    "duration": 7,
    "start_time": "2023-09-16T10:58:29.944Z"
   },
   {
    "duration": 27,
    "start_time": "2023-09-16T10:58:34.176Z"
   },
   {
    "duration": 5,
    "start_time": "2023-09-16T11:27:31.576Z"
   },
   {
    "duration": 120,
    "start_time": "2023-09-16T11:27:40.142Z"
   },
   {
    "duration": 17,
    "start_time": "2023-09-16T11:27:45.870Z"
   },
   {
    "duration": 1775,
    "start_time": "2023-09-16T11:28:38.798Z"
   },
   {
    "duration": 84,
    "start_time": "2023-09-16T11:28:55.673Z"
   },
   {
    "duration": 9,
    "start_time": "2023-09-16T11:28:56.877Z"
   },
   {
    "duration": 9,
    "start_time": "2023-09-16T11:29:06.104Z"
   },
   {
    "duration": 21,
    "start_time": "2023-09-16T11:29:09.608Z"
   },
   {
    "duration": 160,
    "start_time": "2023-09-16T11:29:09.917Z"
   },
   {
    "duration": 10,
    "start_time": "2023-09-16T11:29:10.865Z"
   },
   {
    "duration": 3,
    "start_time": "2023-09-16T11:29:25.979Z"
   },
   {
    "duration": 897,
    "start_time": "2023-09-16T11:29:26.794Z"
   },
   {
    "duration": 13,
    "start_time": "2023-09-16T11:29:27.693Z"
   },
   {
    "duration": 181,
    "start_time": "2023-09-16T11:29:27.707Z"
   },
   {
    "duration": 101,
    "start_time": "2023-09-16T11:29:27.890Z"
   },
   {
    "duration": 3,
    "start_time": "2023-09-16T11:29:27.992Z"
   },
   {
    "duration": 27,
    "start_time": "2023-09-16T11:29:27.996Z"
   },
   {
    "duration": 18,
    "start_time": "2023-09-16T11:29:28.025Z"
   },
   {
    "duration": 105,
    "start_time": "2023-09-16T11:29:29.804Z"
   },
   {
    "duration": 79,
    "start_time": "2023-09-16T11:29:30.597Z"
   },
   {
    "duration": 8,
    "start_time": "2023-09-16T11:29:31.132Z"
   },
   {
    "duration": 92,
    "start_time": "2023-09-16T11:29:34.745Z"
   },
   {
    "duration": 13,
    "start_time": "2023-09-16T11:29:35.188Z"
   },
   {
    "duration": 86,
    "start_time": "2023-09-16T11:30:39.372Z"
   },
   {
    "duration": 32,
    "start_time": "2023-09-16T11:30:39.737Z"
   },
   {
    "duration": 1837,
    "start_time": "2023-09-16T11:30:55.178Z"
   },
   {
    "duration": 100,
    "start_time": "2023-09-16T11:31:32.534Z"
   },
   {
    "duration": 15,
    "start_time": "2023-09-16T11:31:34.263Z"
   },
   {
    "duration": 6,
    "start_time": "2023-09-16T11:32:11.111Z"
   },
   {
    "duration": 5,
    "start_time": "2023-09-16T11:32:22.658Z"
   },
   {
    "duration": 70,
    "start_time": "2023-09-16T11:33:11.460Z"
   },
   {
    "duration": 14,
    "start_time": "2023-09-16T11:33:11.893Z"
   },
   {
    "duration": 1764,
    "start_time": "2023-09-16T11:33:16.980Z"
   },
   {
    "duration": 1356,
    "start_time": "2023-09-16T11:33:38.456Z"
   },
   {
    "duration": 2,
    "start_time": "2023-09-16T11:33:46.934Z"
   },
   {
    "duration": 5,
    "start_time": "2023-09-16T11:33:50.073Z"
   },
   {
    "duration": 9,
    "start_time": "2023-09-16T11:34:27.642Z"
   },
   {
    "duration": 10,
    "start_time": "2023-09-16T11:34:37.988Z"
   },
   {
    "duration": 4,
    "start_time": "2023-09-16T11:34:43.768Z"
   },
   {
    "duration": 104,
    "start_time": "2023-09-16T11:34:49.194Z"
   },
   {
    "duration": 5,
    "start_time": "2023-09-16T11:34:53.267Z"
   },
   {
    "duration": 92,
    "start_time": "2023-09-16T11:35:23.224Z"
   },
   {
    "duration": 22,
    "start_time": "2023-09-16T11:35:24.634Z"
   },
   {
    "duration": 4,
    "start_time": "2023-09-16T11:35:28.575Z"
   },
   {
    "duration": 7,
    "start_time": "2023-09-16T11:35:35.930Z"
   },
   {
    "duration": 5,
    "start_time": "2023-09-16T11:35:55.469Z"
   },
   {
    "duration": 62,
    "start_time": "2023-09-16T11:35:59.607Z"
   },
   {
    "duration": 10,
    "start_time": "2023-09-16T11:45:23.257Z"
   },
   {
    "duration": 8,
    "start_time": "2023-09-16T11:45:26.877Z"
   },
   {
    "duration": 2,
    "start_time": "2023-09-16T11:45:47.156Z"
   },
   {
    "duration": 2,
    "start_time": "2023-09-16T11:47:08.468Z"
   },
   {
    "duration": 1755,
    "start_time": "2023-09-16T11:47:29.255Z"
   },
   {
    "duration": 6,
    "start_time": "2023-09-16T11:48:17.956Z"
   },
   {
    "duration": 13,
    "start_time": "2023-09-16T11:48:18.183Z"
   },
   {
    "duration": 13,
    "start_time": "2023-09-16T11:48:21.200Z"
   },
   {
    "duration": 13,
    "start_time": "2023-09-16T11:48:27.783Z"
   },
   {
    "duration": 17,
    "start_time": "2023-09-16T11:48:41.693Z"
   },
   {
    "duration": 19,
    "start_time": "2023-09-16T11:51:20.612Z"
   },
   {
    "duration": 8,
    "start_time": "2023-09-16T11:51:34.669Z"
   },
   {
    "duration": 49,
    "start_time": "2023-09-16T11:51:37.585Z"
   },
   {
    "duration": 248,
    "start_time": "2023-09-16T11:52:08.915Z"
   },
   {
    "duration": 12,
    "start_time": "2023-09-16T11:52:11.266Z"
   },
   {
    "duration": 5,
    "start_time": "2023-09-16T11:52:27.868Z"
   },
   {
    "duration": 79,
    "start_time": "2023-09-16T11:54:06.181Z"
   },
   {
    "duration": 236,
    "start_time": "2023-09-16T11:54:12.768Z"
   },
   {
    "duration": 12,
    "start_time": "2023-09-16T11:54:21.300Z"
   },
   {
    "duration": 16,
    "start_time": "2023-09-16T11:54:40.670Z"
   },
   {
    "duration": 7,
    "start_time": "2023-09-16T11:54:46.676Z"
   },
   {
    "duration": 8,
    "start_time": "2023-09-16T11:54:59.916Z"
   },
   {
    "duration": 33,
    "start_time": "2023-09-16T11:55:01.940Z"
   },
   {
    "duration": 15,
    "start_time": "2023-09-16T11:57:01.281Z"
   },
   {
    "duration": 22,
    "start_time": "2023-09-16T11:58:11.789Z"
   },
   {
    "duration": 99,
    "start_time": "2023-09-16T11:59:01.473Z"
   },
   {
    "duration": 153,
    "start_time": "2023-09-16T11:59:03.729Z"
   },
   {
    "duration": 117,
    "start_time": "2023-09-16T11:59:14.175Z"
   },
   {
    "duration": 17,
    "start_time": "2023-09-16T11:59:28.579Z"
   },
   {
    "duration": 6,
    "start_time": "2023-09-16T12:00:59.967Z"
   },
   {
    "duration": 4,
    "start_time": "2023-09-16T12:01:14.774Z"
   },
   {
    "duration": 41,
    "start_time": "2023-09-16T12:01:35.956Z"
   },
   {
    "duration": 23,
    "start_time": "2023-09-16T12:02:06.679Z"
   },
   {
    "duration": 2148,
    "start_time": "2023-09-16T12:02:50.726Z"
   },
   {
    "duration": 37,
    "start_time": "2023-09-16T12:02:55.230Z"
   },
   {
    "duration": 133,
    "start_time": "2023-09-16T12:02:58.327Z"
   },
   {
    "duration": 15,
    "start_time": "2023-09-16T12:03:13.007Z"
   },
   {
    "duration": 24,
    "start_time": "2023-09-16T12:03:20.163Z"
   },
   {
    "duration": 1693,
    "start_time": "2023-09-16T12:03:27.881Z"
   },
   {
    "duration": 20,
    "start_time": "2023-09-16T12:03:29.576Z"
   },
   {
    "duration": 170,
    "start_time": "2023-09-16T12:03:30.391Z"
   },
   {
    "duration": 117,
    "start_time": "2023-09-16T12:03:30.673Z"
   },
   {
    "duration": 2,
    "start_time": "2023-09-16T12:03:31.227Z"
   },
   {
    "duration": 24,
    "start_time": "2023-09-16T12:03:31.505Z"
   },
   {
    "duration": 17,
    "start_time": "2023-09-16T12:03:31.790Z"
   },
   {
    "duration": 137,
    "start_time": "2023-09-16T12:03:32.426Z"
   },
   {
    "duration": 108,
    "start_time": "2023-09-16T12:03:32.732Z"
   },
   {
    "duration": 31,
    "start_time": "2023-09-16T12:03:33.367Z"
   },
   {
    "duration": 36,
    "start_time": "2023-09-16T12:03:33.867Z"
   },
   {
    "duration": 167,
    "start_time": "2023-09-16T12:03:34.431Z"
   },
   {
    "duration": 31,
    "start_time": "2023-09-16T12:03:35.432Z"
   },
   {
    "duration": 11,
    "start_time": "2023-09-16T12:03:43.684Z"
   },
   {
    "duration": 3,
    "start_time": "2023-09-16T12:03:50.209Z"
   },
   {
    "duration": 47,
    "start_time": "2023-09-16T12:03:50.539Z"
   },
   {
    "duration": 84,
    "start_time": "2023-09-16T12:03:50.846Z"
   },
   {
    "duration": 20,
    "start_time": "2023-09-16T12:03:51.671Z"
   },
   {
    "duration": 311,
    "start_time": "2023-09-16T12:03:52.225Z"
   },
   {
    "duration": 27,
    "start_time": "2023-09-16T12:03:54.336Z"
   },
   {
    "duration": 19,
    "start_time": "2023-09-16T12:03:54.873Z"
   },
   {
    "duration": 326,
    "start_time": "2023-09-16T12:03:56.186Z"
   },
   {
    "duration": 423,
    "start_time": "2023-09-16T12:04:15.673Z"
   },
   {
    "duration": 3,
    "start_time": "2023-09-16T12:05:10.400Z"
   },
   {
    "duration": 28,
    "start_time": "2023-09-16T12:06:08.982Z"
   },
   {
    "duration": 4,
    "start_time": "2023-09-16T12:06:19.377Z"
   },
   {
    "duration": 19,
    "start_time": "2023-09-16T12:06:34.668Z"
   },
   {
    "duration": 9,
    "start_time": "2023-09-16T12:07:10.624Z"
   },
   {
    "duration": 3,
    "start_time": "2023-09-16T12:07:12.667Z"
   },
   {
    "duration": 7,
    "start_time": "2023-09-16T12:07:13.422Z"
   },
   {
    "duration": 59,
    "start_time": "2023-09-16T12:07:46.215Z"
   },
   {
    "duration": 17913,
    "start_time": "2023-09-16T12:08:48.488Z"
   },
   {
    "duration": 53076,
    "start_time": "2023-09-16T12:09:15.236Z"
   },
   {
    "duration": 9,
    "start_time": "2023-09-16T12:11:34.021Z"
   },
   {
    "duration": 39,
    "start_time": "2023-09-16T12:11:54.489Z"
   },
   {
    "duration": 4,
    "start_time": "2023-09-16T12:12:01.234Z"
   },
   {
    "duration": 49,
    "start_time": "2023-09-16T12:12:02.033Z"
   },
   {
    "duration": 5,
    "start_time": "2023-09-16T12:12:03.877Z"
   },
   {
    "duration": 5,
    "start_time": "2023-09-16T12:12:52.928Z"
   },
   {
    "duration": 41,
    "start_time": "2023-09-16T12:15:32.239Z"
   },
   {
    "duration": 4,
    "start_time": "2023-09-16T12:15:41.837Z"
   },
   {
    "duration": 28,
    "start_time": "2023-09-16T12:16:05.128Z"
   },
   {
    "duration": 21,
    "start_time": "2023-09-16T12:17:13.199Z"
   },
   {
    "duration": 8839,
    "start_time": "2023-09-16T12:17:17.544Z"
   },
   {
    "duration": 51594,
    "start_time": "2023-09-16T12:17:28.762Z"
   },
   {
    "duration": 25,
    "start_time": "2023-09-16T12:19:12.268Z"
   },
   {
    "duration": 15,
    "start_time": "2023-09-16T12:50:50.330Z"
   },
   {
    "duration": 296,
    "start_time": "2023-09-16T12:50:53.332Z"
   },
   {
    "duration": 24,
    "start_time": "2023-09-16T12:50:54.810Z"
   },
   {
    "duration": 16,
    "start_time": "2023-09-16T12:51:05.103Z"
   },
   {
    "duration": 54,
    "start_time": "2023-09-16T12:53:27.336Z"
   },
   {
    "duration": 1188,
    "start_time": "2023-09-16T12:53:30.151Z"
   },
   {
    "duration": 51,
    "start_time": "2023-09-16T12:53:33.017Z"
   },
   {
    "duration": 490,
    "start_time": "2023-09-16T12:53:39.619Z"
   },
   {
    "duration": 1228,
    "start_time": "2023-09-16T12:53:40.161Z"
   },
   {
    "duration": 15,
    "start_time": "2023-09-16T12:53:41.391Z"
   },
   {
    "duration": 133,
    "start_time": "2023-09-16T12:53:41.407Z"
   },
   {
    "duration": 134,
    "start_time": "2023-09-16T12:53:41.544Z"
   },
   {
    "duration": 3,
    "start_time": "2023-09-16T12:53:41.679Z"
   },
   {
    "duration": 28,
    "start_time": "2023-09-16T12:53:41.683Z"
   },
   {
    "duration": 33,
    "start_time": "2023-09-16T12:53:41.712Z"
   },
   {
    "duration": 90,
    "start_time": "2023-09-16T12:53:42.255Z"
   },
   {
    "duration": 103,
    "start_time": "2023-09-16T12:53:42.462Z"
   },
   {
    "duration": 17,
    "start_time": "2023-09-16T12:53:43.203Z"
   },
   {
    "duration": 24,
    "start_time": "2023-09-16T12:53:43.644Z"
   },
   {
    "duration": 78,
    "start_time": "2023-09-16T12:53:43.962Z"
   },
   {
    "duration": 17,
    "start_time": "2023-09-16T12:53:44.297Z"
   },
   {
    "duration": 32,
    "start_time": "2023-09-16T12:53:45.325Z"
   },
   {
    "duration": 3,
    "start_time": "2023-09-16T12:53:52.578Z"
   },
   {
    "duration": 25,
    "start_time": "2023-09-16T12:53:53.079Z"
   },
   {
    "duration": 59,
    "start_time": "2023-09-16T12:53:53.544Z"
   },
   {
    "duration": 18,
    "start_time": "2023-09-16T12:53:54.136Z"
   },
   {
    "duration": 318,
    "start_time": "2023-09-16T12:53:59.791Z"
   },
   {
    "duration": 22,
    "start_time": "2023-09-16T12:54:00.939Z"
   },
   {
    "duration": 23,
    "start_time": "2023-09-16T12:54:33.876Z"
   },
   {
    "duration": 1591,
    "start_time": "2023-09-16T14:05:11.751Z"
   },
   {
    "duration": 3,
    "start_time": "2023-09-16T14:05:15.775Z"
   },
   {
    "duration": 1328,
    "start_time": "2023-09-16T14:05:18.659Z"
   },
   {
    "duration": 15,
    "start_time": "2023-09-16T14:05:22.512Z"
   },
   {
    "duration": 137,
    "start_time": "2023-09-16T14:05:22.776Z"
   },
   {
    "duration": 118,
    "start_time": "2023-09-16T14:05:23.049Z"
   },
   {
    "duration": 3,
    "start_time": "2023-09-16T14:05:24.089Z"
   },
   {
    "duration": 27,
    "start_time": "2023-09-16T14:05:24.460Z"
   },
   {
    "duration": 19,
    "start_time": "2023-09-16T14:05:25.140Z"
   },
   {
    "duration": 19,
    "start_time": "2023-09-16T14:05:47.404Z"
   },
   {
    "duration": 1581,
    "start_time": "2023-09-16T14:06:59.387Z"
   },
   {
    "duration": 12,
    "start_time": "2023-09-16T14:07:31.183Z"
   },
   {
    "duration": 1119,
    "start_time": "2023-09-16T14:09:13.815Z"
   },
   {
    "duration": 658,
    "start_time": "2023-09-16T14:09:26.486Z"
   },
   {
    "duration": 16,
    "start_time": "2023-09-16T14:09:50.366Z"
   },
   {
    "duration": 9,
    "start_time": "2023-09-16T14:09:57.830Z"
   },
   {
    "duration": 0,
    "start_time": "2023-09-16T14:11:26.247Z"
   },
   {
    "duration": 133,
    "start_time": "2023-09-16T14:11:41.387Z"
   },
   {
    "duration": 128,
    "start_time": "2023-09-16T14:11:51.183Z"
   },
   {
    "duration": 142,
    "start_time": "2023-09-16T14:12:31.069Z"
   },
   {
    "duration": 109,
    "start_time": "2023-09-16T14:14:00.063Z"
   },
   {
    "duration": 391,
    "start_time": "2023-09-16T14:14:23.507Z"
   },
   {
    "duration": 13,
    "start_time": "2023-09-16T14:14:27.854Z"
   },
   {
    "duration": 13,
    "start_time": "2023-09-16T14:14:33.707Z"
   },
   {
    "duration": 1634,
    "start_time": "2023-09-16T14:14:40.097Z"
   },
   {
    "duration": 5,
    "start_time": "2023-09-16T14:15:20.218Z"
   },
   {
    "duration": 5,
    "start_time": "2023-09-16T14:15:27.547Z"
   },
   {
    "duration": 12,
    "start_time": "2023-09-16T14:15:48.770Z"
   },
   {
    "duration": 37,
    "start_time": "2023-09-16T14:16:59.530Z"
   },
   {
    "duration": 41,
    "start_time": "2023-09-16T14:17:08.956Z"
   },
   {
    "duration": 145,
    "start_time": "2023-09-16T14:18:32.415Z"
   },
   {
    "duration": 123,
    "start_time": "2023-09-16T14:18:35.656Z"
   },
   {
    "duration": 128,
    "start_time": "2023-09-16T14:18:38.446Z"
   },
   {
    "duration": 145,
    "start_time": "2023-09-16T14:20:02.184Z"
   },
   {
    "duration": 132,
    "start_time": "2023-09-16T14:20:09.323Z"
   },
   {
    "duration": 44,
    "start_time": "2023-09-16T14:53:53.837Z"
   },
   {
    "duration": 47,
    "start_time": "2023-09-16T14:53:57.926Z"
   },
   {
    "duration": 49,
    "start_time": "2023-09-16T14:54:01.474Z"
   },
   {
    "duration": 50,
    "start_time": "2023-09-16T14:54:05.807Z"
   },
   {
    "duration": 46,
    "start_time": "2023-09-16T14:55:08.815Z"
   },
   {
    "duration": 3,
    "start_time": "2023-09-16T14:55:34.453Z"
   },
   {
    "duration": 858,
    "start_time": "2023-09-16T14:55:35.043Z"
   },
   {
    "duration": 12,
    "start_time": "2023-09-16T14:55:35.903Z"
   },
   {
    "duration": 145,
    "start_time": "2023-09-16T14:55:35.917Z"
   },
   {
    "duration": 89,
    "start_time": "2023-09-16T14:55:36.064Z"
   },
   {
    "duration": 2,
    "start_time": "2023-09-16T14:55:36.155Z"
   },
   {
    "duration": 46,
    "start_time": "2023-09-16T14:55:36.159Z"
   },
   {
    "duration": 15,
    "start_time": "2023-09-16T14:55:36.246Z"
   },
   {
    "duration": 150,
    "start_time": "2023-09-16T14:55:36.930Z"
   },
   {
    "duration": 35,
    "start_time": "2023-09-16T14:55:37.311Z"
   },
   {
    "duration": 48,
    "start_time": "2023-09-16T14:55:45.877Z"
   },
   {
    "duration": 46,
    "start_time": "2023-09-16T14:55:57.449Z"
   },
   {
    "duration": 40,
    "start_time": "2023-09-16T14:56:06.485Z"
   },
   {
    "duration": 4,
    "start_time": "2023-09-16T14:56:40.883Z"
   },
   {
    "duration": 46,
    "start_time": "2023-09-16T14:56:47.304Z"
   },
   {
    "duration": 4,
    "start_time": "2023-09-16T14:56:51.130Z"
   },
   {
    "duration": 45,
    "start_time": "2023-09-16T14:57:08.689Z"
   },
   {
    "duration": 3,
    "start_time": "2023-09-16T14:57:16.182Z"
   },
   {
    "duration": 25,
    "start_time": "2023-09-16T14:58:31.595Z"
   },
   {
    "duration": 59,
    "start_time": "2023-09-16T15:02:43.767Z"
   },
   {
    "duration": 37,
    "start_time": "2023-09-16T15:02:56.666Z"
   },
   {
    "duration": 941,
    "start_time": "2023-09-16T15:03:23.728Z"
   },
   {
    "duration": 2,
    "start_time": "2023-09-16T15:03:27.667Z"
   },
   {
    "duration": 42,
    "start_time": "2023-09-16T15:03:28.052Z"
   },
   {
    "duration": 17,
    "start_time": "2023-09-16T15:03:28.444Z"
   },
   {
    "duration": 139,
    "start_time": "2023-09-16T15:03:31.950Z"
   },
   {
    "duration": 118,
    "start_time": "2023-09-16T15:04:04.563Z"
   },
   {
    "duration": 117,
    "start_time": "2023-09-16T15:05:36.159Z"
   },
   {
    "duration": 128,
    "start_time": "2023-09-16T15:05:45.227Z"
   },
   {
    "duration": 133,
    "start_time": "2023-09-16T15:06:00.900Z"
   },
   {
    "duration": 126,
    "start_time": "2023-09-16T15:06:06.051Z"
   },
   {
    "duration": 143,
    "start_time": "2023-09-16T15:06:11.698Z"
   },
   {
    "duration": 144,
    "start_time": "2023-09-16T15:06:44.975Z"
   },
   {
    "duration": 49,
    "start_time": "2023-09-16T15:08:13.669Z"
   },
   {
    "duration": 43,
    "start_time": "2023-09-16T15:08:22.882Z"
   },
   {
    "duration": 17,
    "start_time": "2023-09-16T15:08:28.528Z"
   },
   {
    "duration": 49,
    "start_time": "2023-09-16T15:08:32.423Z"
   },
   {
    "duration": 50,
    "start_time": "2023-09-16T15:08:41.539Z"
   },
   {
    "duration": 51,
    "start_time": "2023-09-16T15:08:46.173Z"
   },
   {
    "duration": 47,
    "start_time": "2023-09-16T15:08:49.952Z"
   },
   {
    "duration": 45,
    "start_time": "2023-09-16T15:08:58.846Z"
   },
   {
    "duration": 40,
    "start_time": "2023-09-16T15:09:03.427Z"
   },
   {
    "duration": 44,
    "start_time": "2023-09-16T15:09:06.974Z"
   },
   {
    "duration": 48,
    "start_time": "2023-09-16T15:09:44.681Z"
   },
   {
    "duration": 39,
    "start_time": "2023-09-16T15:10:48.893Z"
   },
   {
    "duration": 6,
    "start_time": "2023-09-16T15:11:29.053Z"
   },
   {
    "duration": 38,
    "start_time": "2023-09-16T15:14:33.424Z"
   },
   {
    "duration": 2,
    "start_time": "2023-09-16T15:15:41.982Z"
   },
   {
    "duration": 73,
    "start_time": "2023-09-16T15:15:53.113Z"
   },
   {
    "duration": 19,
    "start_time": "2023-09-16T15:24:29.980Z"
   },
   {
    "duration": 99,
    "start_time": "2023-09-16T15:24:31.729Z"
   },
   {
    "duration": 61,
    "start_time": "2023-09-16T15:25:40.689Z"
   },
   {
    "duration": 91,
    "start_time": "2023-09-16T15:25:43.684Z"
   },
   {
    "duration": 19,
    "start_time": "2023-09-16T15:27:48.370Z"
   },
   {
    "duration": 9,
    "start_time": "2023-09-16T15:32:29.822Z"
   },
   {
    "duration": 13,
    "start_time": "2023-09-16T15:32:39.749Z"
   },
   {
    "duration": 27,
    "start_time": "2023-09-16T15:33:06.230Z"
   },
   {
    "duration": 4,
    "start_time": "2023-09-16T15:33:09.266Z"
   },
   {
    "duration": 9,
    "start_time": "2023-09-16T15:33:52.366Z"
   },
   {
    "duration": 3,
    "start_time": "2023-09-16T15:34:02.809Z"
   },
   {
    "duration": 4,
    "start_time": "2023-09-16T15:34:09.328Z"
   },
   {
    "duration": 30,
    "start_time": "2023-09-16T15:34:17.927Z"
   },
   {
    "duration": 9,
    "start_time": "2023-09-16T15:34:27.910Z"
   },
   {
    "duration": 15,
    "start_time": "2023-09-16T15:34:31.136Z"
   },
   {
    "duration": 19,
    "start_time": "2023-09-16T15:34:42.438Z"
   },
   {
    "duration": 9,
    "start_time": "2023-09-16T15:34:46.968Z"
   },
   {
    "duration": 4,
    "start_time": "2023-09-16T15:34:49.695Z"
   },
   {
    "duration": 42,
    "start_time": "2023-09-16T15:35:34.127Z"
   },
   {
    "duration": 13,
    "start_time": "2023-09-16T15:35:51.377Z"
   },
   {
    "duration": 20,
    "start_time": "2023-09-16T15:36:08.277Z"
   },
   {
    "duration": 9,
    "start_time": "2023-09-16T15:36:20.990Z"
   },
   {
    "duration": 9,
    "start_time": "2023-09-16T15:36:24.999Z"
   },
   {
    "duration": 23,
    "start_time": "2023-09-16T15:36:37.534Z"
   },
   {
    "duration": 9,
    "start_time": "2023-09-16T15:36:41.627Z"
   },
   {
    "duration": 9,
    "start_time": "2023-09-16T15:36:49.005Z"
   },
   {
    "duration": 9,
    "start_time": "2023-09-16T15:39:11.885Z"
   },
   {
    "duration": 10,
    "start_time": "2023-09-16T15:39:15.990Z"
   },
   {
    "duration": 11,
    "start_time": "2023-09-16T15:39:27.547Z"
   },
   {
    "duration": 14,
    "start_time": "2023-09-16T15:41:04.224Z"
   },
   {
    "duration": 16,
    "start_time": "2023-09-16T15:41:06.048Z"
   },
   {
    "duration": 4,
    "start_time": "2023-09-16T15:41:06.616Z"
   },
   {
    "duration": 12,
    "start_time": "2023-09-16T15:41:54.564Z"
   },
   {
    "duration": 5,
    "start_time": "2023-09-16T15:41:55.010Z"
   },
   {
    "duration": 14,
    "start_time": "2023-09-16T15:46:53.003Z"
   },
   {
    "duration": 81,
    "start_time": "2023-09-16T15:49:32.295Z"
   },
   {
    "duration": 970,
    "start_time": "2023-09-16T15:49:46.393Z"
   },
   {
    "duration": 20,
    "start_time": "2023-09-16T15:49:47.366Z"
   },
   {
    "duration": 4,
    "start_time": "2023-09-16T15:49:51.261Z"
   },
   {
    "duration": 15,
    "start_time": "2023-09-16T15:49:51.575Z"
   },
   {
    "duration": 19,
    "start_time": "2023-09-16T15:49:51.973Z"
   },
   {
    "duration": 158,
    "start_time": "2023-09-16T15:49:56.043Z"
   },
   {
    "duration": 28,
    "start_time": "2023-09-16T15:49:56.895Z"
   },
   {
    "duration": 147,
    "start_time": "2023-09-16T15:49:57.456Z"
   },
   {
    "duration": 25,
    "start_time": "2023-09-16T15:50:01.907Z"
   },
   {
    "duration": 81,
    "start_time": "2023-09-16T15:50:03.153Z"
   },
   {
    "duration": 66,
    "start_time": "2023-09-16T15:50:04.606Z"
   },
   {
    "duration": 19,
    "start_time": "2023-09-16T15:50:10.303Z"
   },
   {
    "duration": 79,
    "start_time": "2023-09-16T15:50:13.741Z"
   },
   {
    "duration": 5,
    "start_time": "2023-09-16T15:50:26.179Z"
   },
   {
    "duration": 98,
    "start_time": "2023-09-16T15:53:46.788Z"
   },
   {
    "duration": 31,
    "start_time": "2023-09-16T15:53:57.261Z"
   },
   {
    "duration": 31,
    "start_time": "2023-09-16T15:54:00.689Z"
   },
   {
    "duration": 12,
    "start_time": "2023-09-16T15:54:43.578Z"
   },
   {
    "duration": 8,
    "start_time": "2023-09-16T15:54:48.753Z"
   },
   {
    "duration": 1665,
    "start_time": "2023-09-17T10:42:12.734Z"
   },
   {
    "duration": 1229,
    "start_time": "2023-09-17T10:42:16.573Z"
   },
   {
    "duration": 15,
    "start_time": "2023-09-17T10:42:17.804Z"
   },
   {
    "duration": 152,
    "start_time": "2023-09-17T10:42:17.828Z"
   },
   {
    "duration": 96,
    "start_time": "2023-09-17T10:42:18.172Z"
   },
   {
    "duration": 2,
    "start_time": "2023-09-17T10:42:18.938Z"
   },
   {
    "duration": 30,
    "start_time": "2023-09-17T10:42:19.237Z"
   },
   {
    "duration": 18,
    "start_time": "2023-09-17T10:42:19.767Z"
   },
   {
    "duration": 133,
    "start_time": "2023-09-17T10:42:22.678Z"
   },
   {
    "duration": 31,
    "start_time": "2023-09-17T10:42:24.471Z"
   },
   {
    "duration": 140,
    "start_time": "2023-09-17T10:42:25.688Z"
   },
   {
    "duration": 29,
    "start_time": "2023-09-17T10:42:29.614Z"
   },
   {
    "duration": 78,
    "start_time": "2023-09-17T10:42:31.868Z"
   },
   {
    "duration": 44,
    "start_time": "2023-09-17T10:42:35.824Z"
   },
   {
    "duration": 194,
    "start_time": "2023-09-17T10:43:23.095Z"
   },
   {
    "duration": 101,
    "start_time": "2023-09-17T10:44:03.433Z"
   },
   {
    "duration": 17,
    "start_time": "2023-09-17T10:44:09.751Z"
   },
   {
    "duration": 8,
    "start_time": "2023-09-17T10:44:23.484Z"
   },
   {
    "duration": 10920,
    "start_time": "2023-09-17T10:44:28.090Z"
   },
   {
    "duration": 3,
    "start_time": "2023-09-17T10:47:21.490Z"
   },
   {
    "duration": 19,
    "start_time": "2023-09-17T10:47:47.386Z"
   },
   {
    "duration": 846,
    "start_time": "2023-09-17T10:48:29.123Z"
   },
   {
    "duration": 1439,
    "start_time": "2023-09-17T10:49:04.177Z"
   },
   {
    "duration": 10,
    "start_time": "2023-09-17T10:49:19.097Z"
   },
   {
    "duration": 812,
    "start_time": "2023-09-17T10:50:10.621Z"
   },
   {
    "duration": 916,
    "start_time": "2023-09-17T10:50:34.394Z"
   },
   {
    "duration": 11,
    "start_time": "2023-09-17T10:50:52.074Z"
   },
   {
    "duration": 1399,
    "start_time": "2023-09-17T10:51:44.205Z"
   },
   {
    "duration": 1633,
    "start_time": "2023-09-17T10:52:13.393Z"
   },
   {
    "duration": 22,
    "start_time": "2023-09-17T10:54:25.384Z"
   },
   {
    "duration": 15,
    "start_time": "2023-09-17T10:54:29.416Z"
   },
   {
    "duration": 34,
    "start_time": "2023-09-17T10:55:05.795Z"
   },
   {
    "duration": 24,
    "start_time": "2023-09-17T10:58:32.295Z"
   },
   {
    "duration": 22,
    "start_time": "2023-09-17T10:58:35.778Z"
   },
   {
    "duration": 56,
    "start_time": "2023-09-17T10:58:39.993Z"
   },
   {
    "duration": 5,
    "start_time": "2023-09-17T11:10:34.297Z"
   },
   {
    "duration": 3,
    "start_time": "2023-09-17T11:10:50.737Z"
   },
   {
    "duration": 5,
    "start_time": "2023-09-17T11:10:52.529Z"
   },
   {
    "duration": 10,
    "start_time": "2023-09-17T11:11:06.334Z"
   },
   {
    "duration": 9,
    "start_time": "2023-09-17T11:11:12.177Z"
   },
   {
    "duration": 5,
    "start_time": "2023-09-17T11:11:29.933Z"
   },
   {
    "duration": 19,
    "start_time": "2023-09-17T11:11:38.291Z"
   },
   {
    "duration": 18,
    "start_time": "2023-09-17T11:14:08.628Z"
   },
   {
    "duration": 16,
    "start_time": "2023-09-17T11:14:51.212Z"
   },
   {
    "duration": 24,
    "start_time": "2023-09-17T11:15:06.939Z"
   },
   {
    "duration": 20,
    "start_time": "2023-09-17T11:15:19.564Z"
   },
   {
    "duration": 31,
    "start_time": "2023-09-17T11:15:21.442Z"
   },
   {
    "duration": 5,
    "start_time": "2023-09-17T11:16:22.311Z"
   },
   {
    "duration": 116,
    "start_time": "2023-09-17T11:16:57.189Z"
   },
   {
    "duration": 64,
    "start_time": "2023-09-17T11:19:44.692Z"
   },
   {
    "duration": 19,
    "start_time": "2023-09-17T11:19:50.699Z"
   },
   {
    "duration": 16,
    "start_time": "2023-09-17T11:19:55.856Z"
   },
   {
    "duration": 15,
    "start_time": "2023-09-17T11:21:14.395Z"
   },
   {
    "duration": 31,
    "start_time": "2023-09-17T11:21:54.152Z"
   },
   {
    "duration": 8,
    "start_time": "2023-09-17T11:21:59.443Z"
   },
   {
    "duration": 9,
    "start_time": "2023-09-17T11:22:01.347Z"
   },
   {
    "duration": 8,
    "start_time": "2023-09-17T11:22:04.960Z"
   },
   {
    "duration": 81,
    "start_time": "2023-09-17T11:22:10.429Z"
   },
   {
    "duration": 84,
    "start_time": "2023-09-17T11:22:17.708Z"
   },
   {
    "duration": 73,
    "start_time": "2023-09-17T11:22:23.034Z"
   },
   {
    "duration": 11,
    "start_time": "2023-09-17T11:22:30.475Z"
   },
   {
    "duration": 9,
    "start_time": "2023-09-17T11:23:41.848Z"
   },
   {
    "duration": 71,
    "start_time": "2023-09-17T11:23:46.523Z"
   },
   {
    "duration": 7,
    "start_time": "2023-09-17T11:23:59.545Z"
   },
   {
    "duration": 8,
    "start_time": "2023-09-17T11:24:07.974Z"
   },
   {
    "duration": 6,
    "start_time": "2023-09-17T11:24:21.106Z"
   },
   {
    "duration": 8,
    "start_time": "2023-09-17T11:24:33.898Z"
   },
   {
    "duration": 5,
    "start_time": "2023-09-17T12:31:28.321Z"
   },
   {
    "duration": 19,
    "start_time": "2023-09-17T12:32:45.613Z"
   },
   {
    "duration": 845,
    "start_time": "2023-09-17T12:32:53.517Z"
   },
   {
    "duration": 13,
    "start_time": "2023-09-17T12:32:54.367Z"
   },
   {
    "duration": 140,
    "start_time": "2023-09-17T12:32:55.434Z"
   },
   {
    "duration": 87,
    "start_time": "2023-09-17T12:32:55.685Z"
   },
   {
    "duration": 3,
    "start_time": "2023-09-17T12:32:56.438Z"
   },
   {
    "duration": 18,
    "start_time": "2023-09-17T12:32:56.841Z"
   },
   {
    "duration": 15,
    "start_time": "2023-09-17T12:32:57.295Z"
   },
   {
    "duration": 129,
    "start_time": "2023-09-17T12:32:58.255Z"
   },
   {
    "duration": 32,
    "start_time": "2023-09-17T12:32:59.545Z"
   },
   {
    "duration": 158,
    "start_time": "2023-09-17T12:33:00.034Z"
   },
   {
    "duration": 37,
    "start_time": "2023-09-17T12:33:01.636Z"
   },
   {
    "duration": 91,
    "start_time": "2023-09-17T12:33:02.300Z"
   },
   {
    "duration": 39,
    "start_time": "2023-09-17T12:33:03.648Z"
   },
   {
    "duration": 5,
    "start_time": "2023-09-17T12:33:09.518Z"
   },
   {
    "duration": 19,
    "start_time": "2023-09-17T12:33:11.749Z"
   },
   {
    "duration": 16,
    "start_time": "2023-09-17T12:33:25.043Z"
   },
   {
    "duration": 686,
    "start_time": "2023-09-17T12:33:42.700Z"
   },
   {
    "duration": 5,
    "start_time": "2023-09-17T12:34:24.033Z"
   },
   {
    "duration": 11,
    "start_time": "2023-09-17T12:34:24.806Z"
   },
   {
    "duration": 486,
    "start_time": "2023-09-17T12:34:25.423Z"
   },
   {
    "duration": 6,
    "start_time": "2023-09-17T12:34:51.298Z"
   },
   {
    "duration": 380,
    "start_time": "2023-09-17T12:34:54.276Z"
   },
   {
    "duration": 9,
    "start_time": "2023-09-17T12:36:31.980Z"
   },
   {
    "duration": 4,
    "start_time": "2023-09-17T12:36:32.825Z"
   },
   {
    "duration": 7,
    "start_time": "2023-09-17T12:36:37.524Z"
   },
   {
    "duration": 358,
    "start_time": "2023-09-17T12:36:38.175Z"
   },
   {
    "duration": 6,
    "start_time": "2023-09-17T12:38:11.297Z"
   },
   {
    "duration": 7,
    "start_time": "2023-09-17T12:38:12.065Z"
   },
   {
    "duration": 343,
    "start_time": "2023-09-17T12:38:12.529Z"
   },
   {
    "duration": 4,
    "start_time": "2023-09-17T12:38:35.783Z"
   },
   {
    "duration": 7,
    "start_time": "2023-09-17T12:38:36.827Z"
   },
   {
    "duration": 330,
    "start_time": "2023-09-17T12:38:37.358Z"
   },
   {
    "duration": 6,
    "start_time": "2023-09-17T12:38:45.940Z"
   },
   {
    "duration": 11,
    "start_time": "2023-09-17T12:38:47.673Z"
   },
   {
    "duration": 357,
    "start_time": "2023-09-17T12:38:47.979Z"
   },
   {
    "duration": 5,
    "start_time": "2023-09-17T12:39:01.471Z"
   },
   {
    "duration": 7,
    "start_time": "2023-09-17T12:39:03.099Z"
   },
   {
    "duration": 324,
    "start_time": "2023-09-17T12:39:03.486Z"
   },
   {
    "duration": 5,
    "start_time": "2023-09-17T12:39:36.683Z"
   },
   {
    "duration": 324,
    "start_time": "2023-09-17T12:39:40.108Z"
   },
   {
    "duration": 6,
    "start_time": "2023-09-17T12:40:46.142Z"
   },
   {
    "duration": 11,
    "start_time": "2023-09-17T12:40:47.072Z"
   },
   {
    "duration": 337,
    "start_time": "2023-09-17T12:40:47.583Z"
   },
   {
    "duration": 5,
    "start_time": "2023-09-17T12:41:04.036Z"
   },
   {
    "duration": 11,
    "start_time": "2023-09-17T12:41:04.480Z"
   },
   {
    "duration": 458,
    "start_time": "2023-09-17T12:41:04.817Z"
   },
   {
    "duration": 6,
    "start_time": "2023-09-17T12:41:51.761Z"
   },
   {
    "duration": 8,
    "start_time": "2023-09-17T12:41:52.330Z"
   },
   {
    "duration": 469,
    "start_time": "2023-09-17T12:41:52.641Z"
   },
   {
    "duration": 5,
    "start_time": "2023-09-17T12:43:14.932Z"
   },
   {
    "duration": 8,
    "start_time": "2023-09-17T12:43:15.260Z"
   },
   {
    "duration": 557,
    "start_time": "2023-09-17T12:43:15.673Z"
   },
   {
    "duration": 6,
    "start_time": "2023-09-17T12:44:00.141Z"
   },
   {
    "duration": 10,
    "start_time": "2023-09-17T12:44:00.494Z"
   },
   {
    "duration": 467,
    "start_time": "2023-09-17T12:44:00.861Z"
   },
   {
    "duration": 5,
    "start_time": "2023-09-17T12:44:25.087Z"
   },
   {
    "duration": 8,
    "start_time": "2023-09-17T12:44:25.516Z"
   },
   {
    "duration": 531,
    "start_time": "2023-09-17T12:44:25.843Z"
   },
   {
    "duration": 5,
    "start_time": "2023-09-17T12:44:51.564Z"
   },
   {
    "duration": 7,
    "start_time": "2023-09-17T12:44:52.244Z"
   },
   {
    "duration": 488,
    "start_time": "2023-09-17T12:44:52.534Z"
   },
   {
    "duration": 3,
    "start_time": "2023-09-17T12:45:26.629Z"
   },
   {
    "duration": 5,
    "start_time": "2023-09-17T12:46:15.237Z"
   },
   {
    "duration": 9,
    "start_time": "2023-09-17T12:46:16.079Z"
   },
   {
    "duration": 575,
    "start_time": "2023-09-17T12:46:16.465Z"
   },
   {
    "duration": 8,
    "start_time": "2023-09-17T12:46:47.809Z"
   },
   {
    "duration": 425,
    "start_time": "2023-09-17T12:46:48.614Z"
   },
   {
    "duration": 7,
    "start_time": "2023-09-17T12:47:00.752Z"
   },
   {
    "duration": 528,
    "start_time": "2023-09-17T12:47:01.531Z"
   },
   {
    "duration": 5,
    "start_time": "2023-09-17T12:49:20.828Z"
   },
   {
    "duration": 11,
    "start_time": "2023-09-17T12:49:21.781Z"
   },
   {
    "duration": 496,
    "start_time": "2023-09-17T12:49:22.115Z"
   },
   {
    "duration": 9,
    "start_time": "2023-09-17T12:49:39.404Z"
   },
   {
    "duration": 9,
    "start_time": "2023-09-17T12:49:40.769Z"
   },
   {
    "duration": 456,
    "start_time": "2023-09-17T12:49:41.142Z"
   },
   {
    "duration": 6,
    "start_time": "2023-09-17T12:50:33.867Z"
   },
   {
    "duration": 8,
    "start_time": "2023-09-17T12:50:35.011Z"
   },
   {
    "duration": 591,
    "start_time": "2023-09-17T12:50:35.545Z"
   },
   {
    "duration": 9,
    "start_time": "2023-09-17T12:52:08.528Z"
   },
   {
    "duration": 7,
    "start_time": "2023-09-17T12:52:08.864Z"
   },
   {
    "duration": 455,
    "start_time": "2023-09-17T12:52:09.205Z"
   },
   {
    "duration": 5,
    "start_time": "2023-09-17T12:52:54.915Z"
   },
   {
    "duration": 11,
    "start_time": "2023-09-17T12:52:55.790Z"
   },
   {
    "duration": 540,
    "start_time": "2023-09-17T12:52:56.234Z"
   },
   {
    "duration": 7,
    "start_time": "2023-09-17T12:54:04.554Z"
   },
   {
    "duration": 8,
    "start_time": "2023-09-17T12:54:04.933Z"
   },
   {
    "duration": 533,
    "start_time": "2023-09-17T12:54:05.616Z"
   },
   {
    "duration": 6,
    "start_time": "2023-09-17T12:54:19.807Z"
   },
   {
    "duration": 8,
    "start_time": "2023-09-17T12:54:20.123Z"
   },
   {
    "duration": 453,
    "start_time": "2023-09-17T12:54:20.459Z"
   },
   {
    "duration": 5,
    "start_time": "2023-09-17T12:54:51.038Z"
   },
   {
    "duration": 7,
    "start_time": "2023-09-17T12:54:51.531Z"
   },
   {
    "duration": 491,
    "start_time": "2023-09-17T12:54:51.900Z"
   },
   {
    "duration": 4,
    "start_time": "2023-09-17T12:55:19.294Z"
   },
   {
    "duration": 9,
    "start_time": "2023-09-17T12:55:20.086Z"
   },
   {
    "duration": 456,
    "start_time": "2023-09-17T12:55:20.965Z"
   },
   {
    "duration": 10,
    "start_time": "2023-09-17T12:57:52.877Z"
   },
   {
    "duration": 13,
    "start_time": "2023-09-17T12:58:12.577Z"
   },
   {
    "duration": 8,
    "start_time": "2023-09-17T13:00:36.736Z"
   },
   {
    "duration": 3,
    "start_time": "2023-09-17T13:00:47.845Z"
   },
   {
    "duration": 5,
    "start_time": "2023-09-17T13:00:52.134Z"
   },
   {
    "duration": 4,
    "start_time": "2023-09-17T13:00:55.886Z"
   },
   {
    "duration": 3,
    "start_time": "2023-09-17T13:01:13.948Z"
   },
   {
    "duration": 5,
    "start_time": "2023-09-17T13:01:18.881Z"
   },
   {
    "duration": 9,
    "start_time": "2023-09-17T13:02:20.309Z"
   },
   {
    "duration": 5,
    "start_time": "2023-09-17T13:02:32.375Z"
   },
   {
    "duration": 9,
    "start_time": "2023-09-17T13:02:35.793Z"
   },
   {
    "duration": 5,
    "start_time": "2023-09-17T13:03:28.978Z"
   },
   {
    "duration": 13,
    "start_time": "2023-09-17T13:06:12.112Z"
   },
   {
    "duration": 10,
    "start_time": "2023-09-17T13:06:12.683Z"
   },
   {
    "duration": 560,
    "start_time": "2023-09-17T13:06:13.014Z"
   },
   {
    "duration": 6,
    "start_time": "2023-09-17T13:06:29.580Z"
   },
   {
    "duration": 8,
    "start_time": "2023-09-17T13:06:29.889Z"
   },
   {
    "duration": 515,
    "start_time": "2023-09-17T13:06:31.480Z"
   },
   {
    "duration": 6,
    "start_time": "2023-09-17T13:06:51.850Z"
   },
   {
    "duration": 494,
    "start_time": "2023-09-17T13:06:56.304Z"
   },
   {
    "duration": 10,
    "start_time": "2023-09-17T13:07:02.011Z"
   },
   {
    "duration": 475,
    "start_time": "2023-09-17T13:07:07.784Z"
   },
   {
    "duration": 7,
    "start_time": "2023-09-17T13:08:52.272Z"
   },
   {
    "duration": 7,
    "start_time": "2023-09-17T13:08:53.278Z"
   },
   {
    "duration": 487,
    "start_time": "2023-09-17T13:08:53.823Z"
   },
   {
    "duration": 6,
    "start_time": "2023-09-17T13:09:08.810Z"
   },
   {
    "duration": 10,
    "start_time": "2023-09-17T13:09:09.252Z"
   },
   {
    "duration": 679,
    "start_time": "2023-09-17T13:09:09.906Z"
   },
   {
    "duration": 40,
    "start_time": "2023-09-17T13:10:02.706Z"
   },
   {
    "duration": 31,
    "start_time": "2023-09-17T13:10:34.677Z"
   },
   {
    "duration": 734,
    "start_time": "2023-09-17T13:10:57.404Z"
   },
   {
    "duration": 243,
    "start_time": "2023-09-17T13:11:10.878Z"
   },
   {
    "duration": 160,
    "start_time": "2023-09-17T13:13:04.791Z"
   },
   {
    "duration": 162,
    "start_time": "2023-09-17T13:13:08.782Z"
   },
   {
    "duration": 5,
    "start_time": "2023-09-17T13:13:31.886Z"
   },
   {
    "duration": 8,
    "start_time": "2023-09-17T13:13:32.228Z"
   },
   {
    "duration": 498,
    "start_time": "2023-09-17T13:13:43.484Z"
   },
   {
    "duration": 17,
    "start_time": "2023-09-17T13:14:30.087Z"
   },
   {
    "duration": 472,
    "start_time": "2023-09-17T13:14:50.579Z"
   },
   {
    "duration": 628,
    "start_time": "2023-09-17T13:15:06.086Z"
   },
   {
    "duration": 72,
    "start_time": "2023-09-17T13:15:13.008Z"
   },
   {
    "duration": 5,
    "start_time": "2023-09-17T13:15:32.608Z"
   },
   {
    "duration": 535,
    "start_time": "2023-09-17T13:15:43.249Z"
   },
   {
    "duration": 15,
    "start_time": "2023-09-17T13:15:52.122Z"
   },
   {
    "duration": 2,
    "start_time": "2023-09-17T13:15:57.239Z"
   },
   {
    "duration": 6,
    "start_time": "2023-09-17T13:16:48.861Z"
   },
   {
    "duration": 15,
    "start_time": "2023-09-17T13:16:49.655Z"
   },
   {
    "duration": 524,
    "start_time": "2023-09-17T13:16:50.789Z"
   },
   {
    "duration": 6,
    "start_time": "2023-09-17T13:17:28.507Z"
   },
   {
    "duration": 505,
    "start_time": "2023-09-17T13:17:30.574Z"
   },
   {
    "duration": 7,
    "start_time": "2023-09-17T13:17:58.121Z"
   },
   {
    "duration": 537,
    "start_time": "2023-09-17T13:18:09.899Z"
   },
   {
    "duration": 7,
    "start_time": "2023-09-17T13:18:54.134Z"
   },
   {
    "duration": 604,
    "start_time": "2023-09-17T13:18:55.814Z"
   },
   {
    "duration": 520,
    "start_time": "2023-09-17T13:18:59.032Z"
   },
   {
    "duration": 615,
    "start_time": "2023-09-17T13:19:16.601Z"
   },
   {
    "duration": 506,
    "start_time": "2023-09-17T13:19:37.075Z"
   },
   {
    "duration": 501,
    "start_time": "2023-09-17T13:19:44.192Z"
   },
   {
    "duration": 6,
    "start_time": "2023-09-17T13:20:00.490Z"
   },
   {
    "duration": 10,
    "start_time": "2023-09-17T13:20:01.369Z"
   },
   {
    "duration": 62,
    "start_time": "2023-09-17T13:20:02.638Z"
   },
   {
    "duration": 5,
    "start_time": "2023-09-17T13:20:11.740Z"
   },
   {
    "duration": 7,
    "start_time": "2023-09-17T13:20:12.482Z"
   },
   {
    "duration": 550,
    "start_time": "2023-09-17T13:20:12.921Z"
   },
   {
    "duration": 522,
    "start_time": "2023-09-17T13:20:17.862Z"
   },
   {
    "duration": 21,
    "start_time": "2023-09-17T13:20:24.197Z"
   },
   {
    "duration": 27,
    "start_time": "2023-09-17T13:20:37.515Z"
   },
   {
    "duration": 497,
    "start_time": "2023-09-17T13:20:52.883Z"
   },
   {
    "duration": 516,
    "start_time": "2023-09-17T13:21:06.600Z"
   },
   {
    "duration": 516,
    "start_time": "2023-09-17T13:21:10.981Z"
   },
   {
    "duration": 23,
    "start_time": "2023-09-17T13:21:20.274Z"
   },
   {
    "duration": 9,
    "start_time": "2023-09-17T13:23:09.874Z"
   },
   {
    "duration": 645,
    "start_time": "2023-09-17T13:23:12.396Z"
   },
   {
    "duration": 632,
    "start_time": "2023-09-17T13:24:21.494Z"
   },
   {
    "duration": 644,
    "start_time": "2023-09-17T13:24:26.478Z"
   },
   {
    "duration": 7,
    "start_time": "2023-09-17T13:25:05.597Z"
   },
   {
    "duration": 8,
    "start_time": "2023-09-17T13:25:11.230Z"
   },
   {
    "duration": 663,
    "start_time": "2023-09-17T13:25:11.792Z"
   },
   {
    "duration": 6,
    "start_time": "2023-09-17T13:25:29.993Z"
   },
   {
    "duration": 7,
    "start_time": "2023-09-17T13:25:30.588Z"
   },
   {
    "duration": 703,
    "start_time": "2023-09-17T13:25:30.988Z"
   },
   {
    "duration": 19,
    "start_time": "2023-09-17T13:26:10.993Z"
   },
   {
    "duration": 630,
    "start_time": "2023-09-17T13:26:47.310Z"
   },
   {
    "duration": 673,
    "start_time": "2023-09-17T13:26:56.293Z"
   },
   {
    "duration": 6,
    "start_time": "2023-09-17T13:27:07.454Z"
   },
   {
    "duration": 8,
    "start_time": "2023-09-17T13:27:08.169Z"
   },
   {
    "duration": 670,
    "start_time": "2023-09-17T13:27:08.661Z"
   },
   {
    "duration": 9,
    "start_time": "2023-09-17T13:27:15.052Z"
   },
   {
    "duration": 7,
    "start_time": "2023-09-17T13:27:28.588Z"
   },
   {
    "duration": 11,
    "start_time": "2023-09-17T13:27:32.945Z"
   },
   {
    "duration": 9,
    "start_time": "2023-09-17T13:27:49.105Z"
   },
   {
    "duration": 8,
    "start_time": "2023-09-17T13:28:21.517Z"
   },
   {
    "duration": 1265,
    "start_time": "2023-09-17T13:28:22.813Z"
   },
   {
    "duration": 545,
    "start_time": "2023-09-17T13:28:38.335Z"
   },
   {
    "duration": 8,
    "start_time": "2023-09-17T13:28:42.004Z"
   },
   {
    "duration": 3,
    "start_time": "2023-09-17T14:12:47.652Z"
   },
   {
    "duration": 56,
    "start_time": "2023-09-17T14:13:54.161Z"
   },
   {
    "duration": 3,
    "start_time": "2023-09-17T14:15:52.923Z"
   },
   {
    "duration": 778,
    "start_time": "2023-09-17T14:15:53.494Z"
   },
   {
    "duration": 12,
    "start_time": "2023-09-17T14:15:54.274Z"
   },
   {
    "duration": 134,
    "start_time": "2023-09-17T14:15:54.287Z"
   },
   {
    "duration": 88,
    "start_time": "2023-09-17T14:15:54.423Z"
   },
   {
    "duration": 117,
    "start_time": "2023-09-17T14:15:54.512Z"
   },
   {
    "duration": 42,
    "start_time": "2023-09-17T14:15:54.752Z"
   },
   {
    "duration": 125,
    "start_time": "2023-09-17T14:15:55.317Z"
   },
   {
    "duration": 57,
    "start_time": "2023-09-17T14:15:56.110Z"
   },
   {
    "duration": 107,
    "start_time": "2023-09-17T14:15:57.195Z"
   },
   {
    "duration": 31,
    "start_time": "2023-09-17T14:15:58.273Z"
   },
   {
    "duration": 6,
    "start_time": "2023-09-17T14:15:59.488Z"
   },
   {
    "duration": 20,
    "start_time": "2023-09-17T14:16:03.517Z"
   },
   {
    "duration": 39,
    "start_time": "2023-09-17T14:16:45.584Z"
   },
   {
    "duration": 29,
    "start_time": "2023-09-17T14:16:58.591Z"
   },
   {
    "duration": 112,
    "start_time": "2023-09-17T14:17:50.808Z"
   },
   {
    "duration": 110,
    "start_time": "2023-09-17T14:18:32.797Z"
   },
   {
    "duration": 141,
    "start_time": "2023-09-17T14:18:46.103Z"
   },
   {
    "duration": 110,
    "start_time": "2023-09-17T14:18:54.146Z"
   },
   {
    "duration": 308,
    "start_time": "2023-09-17T14:19:29.689Z"
   },
   {
    "duration": 26,
    "start_time": "2023-09-17T14:19:33.652Z"
   },
   {
    "duration": 19,
    "start_time": "2023-09-17T14:19:38.110Z"
   },
   {
    "duration": 363,
    "start_time": "2023-09-17T14:20:21.260Z"
   },
   {
    "duration": 20,
    "start_time": "2023-09-17T14:20:22.292Z"
   },
   {
    "duration": 347,
    "start_time": "2023-09-17T14:21:03.773Z"
   },
   {
    "duration": 20,
    "start_time": "2023-09-17T14:21:05.624Z"
   },
   {
    "duration": 69,
    "start_time": "2023-09-17T14:21:23.735Z"
   },
   {
    "duration": 75,
    "start_time": "2023-09-17T14:21:37.911Z"
   },
   {
    "duration": 95,
    "start_time": "2023-09-17T14:21:48.432Z"
   },
   {
    "duration": 97,
    "start_time": "2023-09-17T14:22:12.810Z"
   },
   {
    "duration": 76,
    "start_time": "2023-09-17T14:22:24.741Z"
   },
   {
    "duration": 85,
    "start_time": "2023-09-17T14:22:28.457Z"
   },
   {
    "duration": 72,
    "start_time": "2023-09-17T14:22:40.748Z"
   },
   {
    "duration": 312,
    "start_time": "2023-09-17T14:22:46.951Z"
   },
   {
    "duration": 21,
    "start_time": "2023-09-17T14:22:48.053Z"
   },
   {
    "duration": 354,
    "start_time": "2023-09-17T14:23:20.646Z"
   },
   {
    "duration": 19,
    "start_time": "2023-09-17T14:23:21.988Z"
   },
   {
    "duration": 18,
    "start_time": "2023-09-17T14:23:27.587Z"
   },
   {
    "duration": 508,
    "start_time": "2023-09-17T14:23:39.710Z"
   },
   {
    "duration": 20,
    "start_time": "2023-09-17T14:23:40.899Z"
   },
   {
    "duration": 598,
    "start_time": "2023-09-17T14:23:56.352Z"
   },
   {
    "duration": 19,
    "start_time": "2023-09-17T14:23:57.542Z"
   },
   {
    "duration": 38,
    "start_time": "2023-09-17T14:24:10.226Z"
   },
   {
    "duration": 9,
    "start_time": "2023-09-17T14:26:41.670Z"
   },
   {
    "duration": 59450,
    "start_time": "2023-09-17T14:26:47.877Z"
   },
   {
    "duration": 38,
    "start_time": "2023-09-17T14:27:57.217Z"
   },
   {
    "duration": 20,
    "start_time": "2023-09-17T14:28:16.768Z"
   },
   {
    "duration": 3,
    "start_time": "2023-09-17T14:28:27.986Z"
   },
   {
    "duration": 753,
    "start_time": "2023-09-17T14:28:28.577Z"
   },
   {
    "duration": 12,
    "start_time": "2023-09-17T14:28:29.332Z"
   },
   {
    "duration": 132,
    "start_time": "2023-09-17T14:28:29.349Z"
   },
   {
    "duration": 90,
    "start_time": "2023-09-17T14:28:29.483Z"
   },
   {
    "duration": 111,
    "start_time": "2023-09-17T14:28:29.574Z"
   },
   {
    "duration": 41,
    "start_time": "2023-09-17T14:28:30.333Z"
   },
   {
    "duration": 138,
    "start_time": "2023-09-17T14:28:30.574Z"
   },
   {
    "duration": 46,
    "start_time": "2023-09-17T14:28:31.503Z"
   },
   {
    "duration": 110,
    "start_time": "2023-09-17T14:28:32.130Z"
   },
   {
    "duration": 33,
    "start_time": "2023-09-17T14:28:33.178Z"
   },
   {
    "duration": 6,
    "start_time": "2023-09-17T14:28:34.090Z"
   },
   {
    "duration": 6,
    "start_time": "2023-09-17T14:28:41.299Z"
   },
   {
    "duration": 38,
    "start_time": "2023-09-17T14:29:58.301Z"
   },
   {
    "duration": 77,
    "start_time": "2023-09-17T14:30:10.283Z"
   },
   {
    "duration": 21,
    "start_time": "2023-09-17T14:30:13.329Z"
   },
   {
    "duration": 284,
    "start_time": "2023-09-17T14:30:39.848Z"
   },
   {
    "duration": 471,
    "start_time": "2023-09-17T14:31:52.329Z"
   },
   {
    "duration": 8,
    "start_time": "2023-09-17T14:31:55.475Z"
   },
   {
    "duration": 6,
    "start_time": "2023-09-17T14:32:09.591Z"
   },
   {
    "duration": 67,
    "start_time": "2023-09-17T14:32:11.620Z"
   },
   {
    "duration": 488,
    "start_time": "2023-09-17T14:32:12.439Z"
   },
   {
    "duration": 8,
    "start_time": "2023-09-17T14:32:13.714Z"
   },
   {
    "duration": 7,
    "start_time": "2023-09-17T14:32:32.873Z"
   },
   {
    "duration": 7,
    "start_time": "2023-09-17T14:32:40.922Z"
   },
   {
    "duration": 65,
    "start_time": "2023-09-17T14:32:41.764Z"
   },
   {
    "duration": 8,
    "start_time": "2023-09-17T14:32:42.414Z"
   },
   {
    "duration": 454,
    "start_time": "2023-09-17T14:32:46.579Z"
   },
   {
    "duration": 8,
    "start_time": "2023-09-17T14:32:49.017Z"
   },
   {
    "duration": 463,
    "start_time": "2023-09-17T14:32:58.673Z"
   },
   {
    "duration": 6,
    "start_time": "2023-09-17T14:36:15.193Z"
   },
   {
    "duration": 76,
    "start_time": "2023-09-17T14:36:16.328Z"
   },
   {
    "duration": 8,
    "start_time": "2023-09-17T14:36:17.269Z"
   },
   {
    "duration": 484,
    "start_time": "2023-09-17T14:36:17.937Z"
   },
   {
    "duration": 6,
    "start_time": "2023-09-17T14:36:23.535Z"
   },
   {
    "duration": 487,
    "start_time": "2023-09-17T14:36:26.745Z"
   },
   {
    "duration": 6,
    "start_time": "2023-09-17T14:37:05.114Z"
   },
   {
    "duration": 645,
    "start_time": "2023-09-17T14:37:09.440Z"
   },
   {
    "duration": 5,
    "start_time": "2023-09-17T14:37:35.284Z"
   },
   {
    "duration": 70,
    "start_time": "2023-09-17T14:37:36.302Z"
   },
   {
    "duration": 7,
    "start_time": "2023-09-17T14:37:36.932Z"
   },
   {
    "duration": 449,
    "start_time": "2023-09-17T14:37:40.973Z"
   },
   {
    "duration": 6,
    "start_time": "2023-09-17T14:38:41.073Z"
   },
   {
    "duration": 530,
    "start_time": "2023-09-17T14:38:45.904Z"
   },
   {
    "duration": 6,
    "start_time": "2023-09-17T14:38:57.117Z"
   },
   {
    "duration": 463,
    "start_time": "2023-09-17T14:39:00.908Z"
   },
   {
    "duration": 6,
    "start_time": "2023-09-17T14:39:33.789Z"
   },
   {
    "duration": 69,
    "start_time": "2023-09-17T14:39:35.495Z"
   },
   {
    "duration": 8,
    "start_time": "2023-09-17T14:39:36.120Z"
   },
   {
    "duration": 449,
    "start_time": "2023-09-17T14:39:36.682Z"
   },
   {
    "duration": 6,
    "start_time": "2023-09-17T14:39:55.744Z"
   },
   {
    "duration": 64,
    "start_time": "2023-09-17T14:39:56.627Z"
   },
   {
    "duration": 8,
    "start_time": "2023-09-17T14:39:56.877Z"
   },
   {
    "duration": 466,
    "start_time": "2023-09-17T14:39:57.294Z"
   },
   {
    "duration": 6,
    "start_time": "2023-09-17T14:40:09.494Z"
   },
   {
    "duration": 70,
    "start_time": "2023-09-17T14:40:10.147Z"
   },
   {
    "duration": 6,
    "start_time": "2023-09-17T14:40:10.245Z"
   },
   {
    "duration": 464,
    "start_time": "2023-09-17T14:40:10.680Z"
   },
   {
    "duration": 8,
    "start_time": "2023-09-17T14:41:50.448Z"
   },
   {
    "duration": 467,
    "start_time": "2023-09-17T14:42:10.330Z"
   },
   {
    "duration": 9,
    "start_time": "2023-09-17T14:42:27.816Z"
   },
   {
    "duration": 466,
    "start_time": "2023-09-17T14:42:29.002Z"
   },
   {
    "duration": 1208,
    "start_time": "2023-09-17T14:42:33.188Z"
   },
   {
    "duration": 7,
    "start_time": "2023-09-17T14:42:40.445Z"
   },
   {
    "duration": 451,
    "start_time": "2023-09-17T14:42:41.581Z"
   },
   {
    "duration": 8,
    "start_time": "2023-09-17T14:43:28.525Z"
   },
   {
    "duration": 357,
    "start_time": "2023-09-17T14:43:29.228Z"
   },
   {
    "duration": 6,
    "start_time": "2023-09-17T14:44:03.634Z"
   },
   {
    "duration": 8,
    "start_time": "2023-09-17T14:44:08.217Z"
   },
   {
    "duration": 564,
    "start_time": "2023-09-17T14:44:08.493Z"
   },
   {
    "duration": 9,
    "start_time": "2023-09-17T14:45:10.619Z"
   },
   {
    "duration": 634,
    "start_time": "2023-09-17T14:45:11.067Z"
   },
   {
    "duration": 8,
    "start_time": "2023-09-17T14:46:07.414Z"
   },
   {
    "duration": 641,
    "start_time": "2023-09-17T14:46:07.692Z"
   },
   {
    "duration": 6,
    "start_time": "2023-09-17T14:46:30.144Z"
   },
   {
    "duration": 7,
    "start_time": "2023-09-17T14:46:39.951Z"
   },
   {
    "duration": 633,
    "start_time": "2023-09-17T14:46:40.523Z"
   },
   {
    "duration": 6,
    "start_time": "2023-09-17T14:47:35.687Z"
   },
   {
    "duration": 8,
    "start_time": "2023-09-17T14:47:39.311Z"
   },
   {
    "duration": 483,
    "start_time": "2023-09-17T14:47:40.313Z"
   },
   {
    "duration": 8,
    "start_time": "2023-09-17T14:47:59.981Z"
   },
   {
    "duration": 437,
    "start_time": "2023-09-17T14:48:00.680Z"
   },
   {
    "duration": 8,
    "start_time": "2023-09-17T14:48:37.147Z"
   },
   {
    "duration": 348,
    "start_time": "2023-09-17T14:48:39.260Z"
   },
   {
    "duration": 8,
    "start_time": "2023-09-17T14:49:05.800Z"
   },
   {
    "duration": 471,
    "start_time": "2023-09-17T14:49:06.328Z"
   },
   {
    "duration": 758,
    "start_time": "2023-09-17T14:49:11.632Z"
   },
   {
    "duration": 11,
    "start_time": "2023-09-17T14:49:12.392Z"
   },
   {
    "duration": 145,
    "start_time": "2023-09-17T14:49:12.405Z"
   },
   {
    "duration": 73,
    "start_time": "2023-09-17T14:49:12.576Z"
   },
   {
    "duration": 110,
    "start_time": "2023-09-17T14:49:13.239Z"
   },
   {
    "duration": 34,
    "start_time": "2023-09-17T14:49:14.327Z"
   },
   {
    "duration": 124,
    "start_time": "2023-09-17T14:49:15.857Z"
   },
   {
    "duration": 50,
    "start_time": "2023-09-17T14:49:18.101Z"
   },
   {
    "duration": 129,
    "start_time": "2023-09-17T14:49:19.048Z"
   },
   {
    "duration": 31,
    "start_time": "2023-09-17T14:49:21.505Z"
   },
   {
    "duration": 6,
    "start_time": "2023-09-17T14:49:23.000Z"
   },
   {
    "duration": 69,
    "start_time": "2023-09-17T14:49:27.492Z"
   },
   {
    "duration": 8,
    "start_time": "2023-09-17T14:49:27.991Z"
   },
   {
    "duration": 471,
    "start_time": "2023-09-17T14:49:28.549Z"
   },
   {
    "duration": 465,
    "start_time": "2023-09-17T14:49:36.226Z"
   },
   {
    "duration": 7,
    "start_time": "2023-09-17T14:49:40.937Z"
   },
   {
    "duration": 3,
    "start_time": "2023-09-17T14:50:04.284Z"
   },
   {
    "duration": 796,
    "start_time": "2023-09-17T14:50:04.853Z"
   },
   {
    "duration": 16,
    "start_time": "2023-09-17T14:50:05.652Z"
   },
   {
    "duration": 172,
    "start_time": "2023-09-17T14:50:05.669Z"
   },
   {
    "duration": 88,
    "start_time": "2023-09-17T14:50:05.843Z"
   },
   {
    "duration": 120,
    "start_time": "2023-09-17T14:50:06.423Z"
   },
   {
    "duration": 46,
    "start_time": "2023-09-17T14:50:07.082Z"
   },
   {
    "duration": 134,
    "start_time": "2023-09-17T14:50:10.621Z"
   },
   {
    "duration": 45,
    "start_time": "2023-09-17T14:50:11.235Z"
   },
   {
    "duration": 108,
    "start_time": "2023-09-17T14:50:11.841Z"
   },
   {
    "duration": 32,
    "start_time": "2023-09-17T14:50:13.046Z"
   },
   {
    "duration": 6,
    "start_time": "2023-09-17T14:50:13.419Z"
   },
   {
    "duration": 65,
    "start_time": "2023-09-17T14:50:14.039Z"
   },
   {
    "duration": 7,
    "start_time": "2023-09-17T14:50:14.346Z"
   },
   {
    "duration": 623,
    "start_time": "2023-09-17T14:50:14.942Z"
   },
   {
    "duration": 11,
    "start_time": "2023-09-17T14:50:15.931Z"
   },
   {
    "duration": 454,
    "start_time": "2023-09-17T14:50:51.005Z"
   },
   {
    "duration": 491,
    "start_time": "2023-09-17T14:59:36.085Z"
   },
   {
    "duration": 446,
    "start_time": "2023-09-17T14:59:38.430Z"
   },
   {
    "duration": 3,
    "start_time": "2023-09-17T15:00:45.280Z"
   },
   {
    "duration": 216,
    "start_time": "2023-09-17T15:01:10.307Z"
   },
   {
    "duration": 3,
    "start_time": "2023-09-17T15:03:26.640Z"
   },
   {
    "duration": 425,
    "start_time": "2023-09-17T15:03:29.745Z"
   },
   {
    "duration": 3,
    "start_time": "2023-09-17T15:04:29.293Z"
   },
   {
    "duration": 461,
    "start_time": "2023-09-17T15:04:30.085Z"
   },
   {
    "duration": 23,
    "start_time": "2023-09-17T15:04:36.432Z"
   },
   {
    "duration": 9,
    "start_time": "2023-09-17T15:06:00.329Z"
   },
   {
    "duration": 520,
    "start_time": "2023-09-17T15:06:16.490Z"
   },
   {
    "duration": 8,
    "start_time": "2023-09-17T15:07:08.661Z"
   },
   {
    "duration": 359,
    "start_time": "2023-09-17T15:07:10.522Z"
   },
   {
    "duration": 8,
    "start_time": "2023-09-17T15:07:13.245Z"
   },
   {
    "duration": 7,
    "start_time": "2023-09-17T15:07:21.435Z"
   },
   {
    "duration": 9,
    "start_time": "2023-09-17T15:07:23.661Z"
   },
   {
    "duration": 357,
    "start_time": "2023-09-17T15:07:24.017Z"
   },
   {
    "duration": 7,
    "start_time": "2023-09-17T15:07:27.971Z"
   },
   {
    "duration": 380,
    "start_time": "2023-09-17T15:07:34.228Z"
   },
   {
    "duration": 780,
    "start_time": "2023-09-17T15:07:38.845Z"
   },
   {
    "duration": 13,
    "start_time": "2023-09-17T15:07:39.627Z"
   },
   {
    "duration": 152,
    "start_time": "2023-09-17T15:07:39.641Z"
   },
   {
    "duration": 88,
    "start_time": "2023-09-17T15:07:39.795Z"
   },
   {
    "duration": 124,
    "start_time": "2023-09-17T15:07:39.885Z"
   },
   {
    "duration": 35,
    "start_time": "2023-09-17T15:07:40.038Z"
   },
   {
    "duration": 136,
    "start_time": "2023-09-17T15:07:40.225Z"
   },
   {
    "duration": 39,
    "start_time": "2023-09-17T15:07:41.414Z"
   },
   {
    "duration": 117,
    "start_time": "2023-09-17T15:07:42.367Z"
   },
   {
    "duration": 33,
    "start_time": "2023-09-17T15:07:45.397Z"
   },
   {
    "duration": 7,
    "start_time": "2023-09-17T15:07:46.215Z"
   },
   {
    "duration": 10,
    "start_time": "2023-09-17T15:07:49.515Z"
   },
   {
    "duration": 399,
    "start_time": "2023-09-17T15:07:50.391Z"
   },
   {
    "duration": 357,
    "start_time": "2023-09-17T15:07:57.192Z"
   },
   {
    "duration": 7,
    "start_time": "2023-09-17T15:07:59.244Z"
   },
   {
    "duration": 850,
    "start_time": "2023-09-17T15:08:05.767Z"
   },
   {
    "duration": 12,
    "start_time": "2023-09-17T15:08:06.619Z"
   },
   {
    "duration": 156,
    "start_time": "2023-09-17T15:08:06.632Z"
   },
   {
    "duration": 82,
    "start_time": "2023-09-17T15:08:06.790Z"
   },
   {
    "duration": 117,
    "start_time": "2023-09-17T15:08:06.873Z"
   },
   {
    "duration": 35,
    "start_time": "2023-09-17T15:08:06.992Z"
   },
   {
    "duration": 131,
    "start_time": "2023-09-17T15:08:07.227Z"
   },
   {
    "duration": 39,
    "start_time": "2023-09-17T15:08:07.975Z"
   },
   {
    "duration": 114,
    "start_time": "2023-09-17T15:08:08.637Z"
   },
   {
    "duration": 34,
    "start_time": "2023-09-17T15:08:10.147Z"
   },
   {
    "duration": 6,
    "start_time": "2023-09-17T15:08:10.183Z"
   },
   {
    "duration": 9,
    "start_time": "2023-09-17T15:08:12.765Z"
   },
   {
    "duration": 356,
    "start_time": "2023-09-17T15:08:13.858Z"
   },
   {
    "duration": 12,
    "start_time": "2023-09-17T15:08:16.475Z"
   },
   {
    "duration": 5,
    "start_time": "2023-09-17T15:08:25.699Z"
   },
   {
    "duration": 68,
    "start_time": "2023-09-17T15:09:48.902Z"
   },
   {
    "duration": 20,
    "start_time": "2023-09-17T15:10:01.501Z"
   },
   {
    "duration": 5,
    "start_time": "2023-09-17T15:10:19.876Z"
   },
   {
    "duration": 18,
    "start_time": "2023-09-17T15:10:28.994Z"
   },
   {
    "duration": 20,
    "start_time": "2023-09-17T15:11:10.881Z"
   },
   {
    "duration": 19,
    "start_time": "2023-09-17T15:11:24.356Z"
   },
   {
    "duration": 8,
    "start_time": "2023-09-17T15:11:56.427Z"
   },
   {
    "duration": 21,
    "start_time": "2023-09-17T15:12:04.018Z"
   },
   {
    "duration": 8,
    "start_time": "2023-09-17T15:12:12.642Z"
   },
   {
    "duration": 2,
    "start_time": "2023-09-17T15:12:45.729Z"
   },
   {
    "duration": 5,
    "start_time": "2023-09-17T15:12:47.699Z"
   },
   {
    "duration": 4,
    "start_time": "2023-09-17T15:13:10.098Z"
   },
   {
    "duration": 20,
    "start_time": "2023-09-17T15:13:36.730Z"
   },
   {
    "duration": 4,
    "start_time": "2023-09-17T15:13:51.359Z"
   },
   {
    "duration": 20,
    "start_time": "2023-09-17T15:13:58.761Z"
   },
   {
    "duration": 2,
    "start_time": "2023-09-17T15:14:24.885Z"
   },
   {
    "duration": 70,
    "start_time": "2023-09-17T15:14:27.671Z"
   },
   {
    "duration": 9,
    "start_time": "2023-09-17T15:14:28.500Z"
   },
   {
    "duration": 3,
    "start_time": "2023-09-17T15:14:37.515Z"
   },
   {
    "duration": 20,
    "start_time": "2023-09-17T15:14:42.887Z"
   },
   {
    "duration": 3,
    "start_time": "2023-09-17T15:14:57.332Z"
   },
   {
    "duration": 62,
    "start_time": "2023-09-17T15:15:00.843Z"
   },
   {
    "duration": 4,
    "start_time": "2023-09-17T15:15:04.654Z"
   },
   {
    "duration": 29,
    "start_time": "2023-09-17T15:15:05.962Z"
   },
   {
    "duration": 62,
    "start_time": "2023-09-17T15:15:34.934Z"
   },
   {
    "duration": 9,
    "start_time": "2023-09-17T15:15:36.311Z"
   },
   {
    "duration": 3,
    "start_time": "2023-09-17T15:15:37.672Z"
   },
   {
    "duration": 3,
    "start_time": "2023-09-17T15:15:38.774Z"
   },
   {
    "duration": 20,
    "start_time": "2023-09-17T15:15:41.473Z"
   },
   {
    "duration": 8,
    "start_time": "2023-09-17T15:16:10.137Z"
   },
   {
    "duration": 10,
    "start_time": "2023-09-17T15:16:46.279Z"
   },
   {
    "duration": 12,
    "start_time": "2023-09-17T15:17:00.014Z"
   },
   {
    "duration": 11,
    "start_time": "2023-09-17T15:17:12.372Z"
   },
   {
    "duration": 3,
    "start_time": "2023-09-17T15:18:13.381Z"
   },
   {
    "duration": 752,
    "start_time": "2023-09-17T15:18:13.847Z"
   },
   {
    "duration": 12,
    "start_time": "2023-09-17T15:18:14.601Z"
   },
   {
    "duration": 146,
    "start_time": "2023-09-17T15:18:14.615Z"
   },
   {
    "duration": 78,
    "start_time": "2023-09-17T15:18:14.763Z"
   },
   {
    "duration": 112,
    "start_time": "2023-09-17T15:18:14.849Z"
   },
   {
    "duration": 35,
    "start_time": "2023-09-17T15:18:14.962Z"
   },
   {
    "duration": 134,
    "start_time": "2023-09-17T15:18:15.499Z"
   },
   {
    "duration": 52,
    "start_time": "2023-09-17T15:18:17.720Z"
   },
   {
    "duration": 109,
    "start_time": "2023-09-17T15:18:18.659Z"
   },
   {
    "duration": 37,
    "start_time": "2023-09-17T15:18:19.879Z"
   },
   {
    "duration": 6,
    "start_time": "2023-09-17T15:18:20.711Z"
   },
   {
    "duration": 7,
    "start_time": "2023-09-17T15:18:21.598Z"
   },
   {
    "duration": 354,
    "start_time": "2023-09-17T15:18:22.236Z"
   },
   {
    "duration": 3,
    "start_time": "2023-09-17T15:18:27.621Z"
   },
   {
    "duration": 745,
    "start_time": "2023-09-17T15:18:28.128Z"
   },
   {
    "duration": 12,
    "start_time": "2023-09-17T15:18:28.874Z"
   },
   {
    "duration": 137,
    "start_time": "2023-09-17T15:18:28.887Z"
   },
   {
    "duration": 86,
    "start_time": "2023-09-17T15:18:29.026Z"
   },
   {
    "duration": 125,
    "start_time": "2023-09-17T15:18:29.113Z"
   },
   {
    "duration": 38,
    "start_time": "2023-09-17T15:18:30.332Z"
   },
   {
    "duration": 134,
    "start_time": "2023-09-17T15:18:31.115Z"
   },
   {
    "duration": 53,
    "start_time": "2023-09-17T15:18:34.832Z"
   },
   {
    "duration": 2,
    "start_time": "2023-09-17T15:18:38.509Z"
   },
   {
    "duration": 25,
    "start_time": "2023-09-17T15:18:38.765Z"
   },
   {
    "duration": 17,
    "start_time": "2023-09-17T15:18:39.065Z"
   },
   {
    "duration": 73,
    "start_time": "2023-09-17T15:18:43.705Z"
   },
   {
    "duration": 33,
    "start_time": "2023-09-17T15:18:45.831Z"
   },
   {
    "duration": 7,
    "start_time": "2023-09-17T15:18:46.218Z"
   },
   {
    "duration": 9,
    "start_time": "2023-09-17T15:18:46.838Z"
   },
   {
    "duration": 355,
    "start_time": "2023-09-17T15:18:48.332Z"
   },
   {
    "duration": 43,
    "start_time": "2023-09-17T15:18:52.068Z"
   },
   {
    "duration": 8,
    "start_time": "2023-09-17T15:18:53.624Z"
   },
   {
    "duration": 5,
    "start_time": "2023-09-17T15:19:00.014Z"
   },
   {
    "duration": 4,
    "start_time": "2023-09-17T15:19:01.286Z"
   },
   {
    "duration": 11,
    "start_time": "2023-09-17T15:19:02.292Z"
   },
   {
    "duration": 22,
    "start_time": "2023-09-17T15:19:06.086Z"
   },
   {
    "duration": 3,
    "start_time": "2023-09-17T15:19:09.843Z"
   },
   {
    "duration": 31,
    "start_time": "2023-09-17T15:19:39.041Z"
   },
   {
    "duration": 18,
    "start_time": "2023-09-17T15:19:42.135Z"
   },
   {
    "duration": 30,
    "start_time": "2023-09-17T15:19:50.027Z"
   },
   {
    "duration": 19,
    "start_time": "2023-09-17T15:19:50.421Z"
   },
   {
    "duration": 71,
    "start_time": "2023-09-17T15:20:32.899Z"
   },
   {
    "duration": 4,
    "start_time": "2023-09-17T15:20:42.136Z"
   },
   {
    "duration": 4,
    "start_time": "2023-09-17T15:20:46.645Z"
   },
   {
    "duration": 6,
    "start_time": "2023-09-17T15:21:13.884Z"
   },
   {
    "duration": 498,
    "start_time": "2023-09-17T15:21:14.147Z"
   },
   {
    "duration": 8,
    "start_time": "2023-09-17T15:21:17.885Z"
   },
   {
    "duration": 1645,
    "start_time": "2023-09-17T17:51:45.670Z"
   },
   {
    "duration": 1412,
    "start_time": "2023-09-17T17:51:54.789Z"
   },
   {
    "duration": 22,
    "start_time": "2023-09-17T17:51:56.658Z"
   },
   {
    "duration": 192,
    "start_time": "2023-09-17T17:51:57.267Z"
   },
   {
    "duration": 105,
    "start_time": "2023-09-17T17:51:57.872Z"
   },
   {
    "duration": 149,
    "start_time": "2023-09-17T17:51:58.768Z"
   },
   {
    "duration": 57,
    "start_time": "2023-09-17T17:52:07.033Z"
   },
   {
    "duration": 154,
    "start_time": "2023-09-17T17:52:07.289Z"
   },
   {
    "duration": 61,
    "start_time": "2023-09-17T17:52:08.130Z"
   },
   {
    "duration": 134,
    "start_time": "2023-09-17T17:52:11.186Z"
   },
   {
    "duration": 50,
    "start_time": "2023-09-17T17:52:13.513Z"
   },
   {
    "duration": 50,
    "start_time": "2023-09-17T17:53:01.731Z"
   },
   {
    "duration": 20,
    "start_time": "2023-09-17T17:53:04.756Z"
   },
   {
    "duration": 12,
    "start_time": "2023-09-17T18:03:56.540Z"
   },
   {
    "duration": 107,
    "start_time": "2023-09-17T18:11:58.514Z"
   },
   {
    "duration": 649,
    "start_time": "2023-09-17T18:12:08.948Z"
   },
   {
    "duration": 1039,
    "start_time": "2023-09-17T18:13:44.278Z"
   },
   {
    "duration": 982,
    "start_time": "2023-09-17T18:14:50.089Z"
   },
   {
    "duration": 995,
    "start_time": "2023-09-17T18:16:08.013Z"
   },
   {
    "duration": 220,
    "start_time": "2023-09-17T18:17:09.004Z"
   },
   {
    "duration": 10,
    "start_time": "2023-09-17T18:17:38.178Z"
   },
   {
    "duration": 33,
    "start_time": "2023-09-17T18:17:43.681Z"
   },
   {
    "duration": 20,
    "start_time": "2023-09-17T18:17:53.416Z"
   },
   {
    "duration": 1867,
    "start_time": "2023-09-17T18:18:03.296Z"
   },
   {
    "duration": 15,
    "start_time": "2023-09-17T18:18:11.399Z"
   },
   {
    "duration": 45,
    "start_time": "2023-09-17T18:18:22.913Z"
   },
   {
    "duration": 3,
    "start_time": "2023-09-17T18:18:44.836Z"
   },
   {
    "duration": 1007,
    "start_time": "2023-09-17T18:18:45.578Z"
   },
   {
    "duration": 14,
    "start_time": "2023-09-17T18:18:46.594Z"
   },
   {
    "duration": 215,
    "start_time": "2023-09-17T18:18:46.610Z"
   },
   {
    "duration": 124,
    "start_time": "2023-09-17T18:18:47.199Z"
   },
   {
    "duration": 188,
    "start_time": "2023-09-17T18:18:48.102Z"
   },
   {
    "duration": 37,
    "start_time": "2023-09-17T18:18:48.904Z"
   },
   {
    "duration": 170,
    "start_time": "2023-09-17T18:18:49.290Z"
   },
   {
    "duration": 56,
    "start_time": "2023-09-17T18:18:50.177Z"
   },
   {
    "duration": 190,
    "start_time": "2023-09-17T18:18:50.859Z"
   },
   {
    "duration": 50,
    "start_time": "2023-09-17T18:18:51.862Z"
   },
   {
    "duration": 8,
    "start_time": "2023-09-17T18:18:52.212Z"
   },
   {
    "duration": 1002,
    "start_time": "2023-09-17T18:18:53.132Z"
   },
   {
    "duration": 27,
    "start_time": "2023-09-17T18:19:03.972Z"
   },
   {
    "duration": 999,
    "start_time": "2023-09-17T18:19:18.724Z"
   },
   {
    "duration": 1035,
    "start_time": "2023-09-17T18:19:22.763Z"
   },
   {
    "duration": 44,
    "start_time": "2023-09-17T18:19:52.137Z"
   },
   {
    "duration": 47,
    "start_time": "2023-09-17T18:19:54.235Z"
   },
   {
    "duration": 19,
    "start_time": "2023-09-17T18:19:56.000Z"
   },
   {
    "duration": 186,
    "start_time": "2023-09-17T18:23:56.242Z"
   },
   {
    "duration": 2,
    "start_time": "2023-09-17T18:24:00.093Z"
   },
   {
    "duration": 118,
    "start_time": "2023-09-17T18:24:00.780Z"
   },
   {
    "duration": 17,
    "start_time": "2023-09-17T18:24:01.524Z"
   },
   {
    "duration": 34,
    "start_time": "2023-09-17T18:24:25.743Z"
   },
   {
    "duration": 22,
    "start_time": "2023-09-17T18:24:37.971Z"
   },
   {
    "duration": 162,
    "start_time": "2023-09-17T18:26:51.490Z"
   },
   {
    "duration": 171,
    "start_time": "2023-09-17T18:26:57.115Z"
   },
   {
    "duration": 233,
    "start_time": "2023-09-17T18:27:02.662Z"
   },
   {
    "duration": 4,
    "start_time": "2023-09-17T18:28:15.188Z"
   },
   {
    "duration": 1021,
    "start_time": "2023-09-17T18:28:17.394Z"
   },
   {
    "duration": 13,
    "start_time": "2023-09-17T18:28:19.520Z"
   },
   {
    "duration": 220,
    "start_time": "2023-09-17T18:28:19.909Z"
   },
   {
    "duration": 103,
    "start_time": "2023-09-17T18:28:20.324Z"
   },
   {
    "duration": 145,
    "start_time": "2023-09-17T18:28:21.757Z"
   },
   {
    "duration": 57,
    "start_time": "2023-09-17T18:28:24.578Z"
   },
   {
    "duration": 180,
    "start_time": "2023-09-17T18:28:25.112Z"
   },
   {
    "duration": 64,
    "start_time": "2023-09-17T18:28:26.935Z"
   },
   {
    "duration": 216,
    "start_time": "2023-09-17T18:28:27.941Z"
   },
   {
    "duration": 49,
    "start_time": "2023-09-17T18:28:29.708Z"
   },
   {
    "duration": 15,
    "start_time": "2023-09-17T18:28:30.276Z"
   },
   {
    "duration": 984,
    "start_time": "2023-09-17T18:28:31.096Z"
   },
   {
    "duration": 883,
    "start_time": "2023-09-17T18:28:35.004Z"
   },
   {
    "duration": 1019,
    "start_time": "2023-09-17T18:28:38.664Z"
   },
   {
    "duration": 185,
    "start_time": "2023-09-17T18:28:49.342Z"
   },
   {
    "duration": 443,
    "start_time": "2023-09-17T18:28:52.383Z"
   },
   {
    "duration": 619,
    "start_time": "2023-09-17T18:31:33.573Z"
   },
   {
    "duration": 455,
    "start_time": "2023-09-17T18:32:00.140Z"
   },
   {
    "duration": 4,
    "start_time": "2023-09-17T18:33:01.692Z"
   },
   {
    "duration": 32,
    "start_time": "2023-09-17T18:33:02.181Z"
   },
   {
    "duration": 27,
    "start_time": "2023-09-17T18:33:03.539Z"
   },
   {
    "duration": 15,
    "start_time": "2023-09-17T18:58:01.221Z"
   },
   {
    "duration": 25,
    "start_time": "2023-09-17T18:59:09.775Z"
   },
   {
    "duration": 70,
    "start_time": "2023-09-17T18:59:16.192Z"
   },
   {
    "duration": 108,
    "start_time": "2023-09-17T19:00:14.865Z"
   },
   {
    "duration": 1799,
    "start_time": "2023-09-18T17:16:16.551Z"
   },
   {
    "duration": 1460,
    "start_time": "2023-09-18T17:16:19.589Z"
   },
   {
    "duration": 17,
    "start_time": "2023-09-18T17:16:21.051Z"
   },
   {
    "duration": 180,
    "start_time": "2023-09-18T17:16:21.917Z"
   },
   {
    "duration": 100,
    "start_time": "2023-09-18T17:16:22.297Z"
   },
   {
    "duration": 156,
    "start_time": "2023-09-18T17:16:23.045Z"
   },
   {
    "duration": 48,
    "start_time": "2023-09-18T17:16:24.164Z"
   },
   {
    "duration": 165,
    "start_time": "2023-09-18T17:16:24.514Z"
   },
   {
    "duration": 56,
    "start_time": "2023-09-18T17:16:25.333Z"
   },
   {
    "duration": 202,
    "start_time": "2023-09-18T17:16:25.937Z"
   },
   {
    "duration": 47,
    "start_time": "2023-09-18T17:16:26.892Z"
   },
   {
    "duration": 8,
    "start_time": "2023-09-18T17:16:27.513Z"
   },
   {
    "duration": 970,
    "start_time": "2023-09-18T17:16:29.600Z"
   },
   {
    "duration": 916,
    "start_time": "2023-09-18T17:16:30.641Z"
   },
   {
    "duration": 907,
    "start_time": "2023-09-18T17:16:35.278Z"
   },
   {
    "duration": 145,
    "start_time": "2023-09-18T17:16:38.163Z"
   },
   {
    "duration": 418,
    "start_time": "2023-09-18T17:16:41.722Z"
   },
   {
    "duration": 473,
    "start_time": "2023-09-18T17:16:42.867Z"
   },
   {
    "duration": 402,
    "start_time": "2023-09-18T17:16:43.342Z"
   },
   {
    "duration": 2,
    "start_time": "2023-09-18T17:16:47.107Z"
   },
   {
    "duration": 24,
    "start_time": "2023-09-18T17:16:47.583Z"
   },
   {
    "duration": 29,
    "start_time": "2023-09-18T17:16:48.114Z"
   },
   {
    "duration": 17,
    "start_time": "2023-09-18T17:16:56.051Z"
   },
   {
    "duration": 69,
    "start_time": "2023-09-18T17:16:56.748Z"
   },
   {
    "duration": 121,
    "start_time": "2023-09-18T17:17:49.499Z"
   },
   {
    "duration": 8,
    "start_time": "2023-09-18T17:18:06.320Z"
   },
   {
    "duration": 11,
    "start_time": "2023-09-18T17:27:35.645Z"
   },
   {
    "duration": 4,
    "start_time": "2023-09-18T17:27:40.047Z"
   },
   {
    "duration": 3,
    "start_time": "2023-09-18T17:29:46.879Z"
   },
   {
    "duration": 27,
    "start_time": "2023-09-18T17:33:37.346Z"
   },
   {
    "duration": 25,
    "start_time": "2023-09-18T17:33:49.009Z"
   },
   {
    "duration": 2033,
    "start_time": "2023-09-18T17:33:56.372Z"
   },
   {
    "duration": 28,
    "start_time": "2023-09-18T17:34:00.185Z"
   },
   {
    "duration": 834,
    "start_time": "2023-09-18T17:34:28.905Z"
   },
   {
    "duration": 32,
    "start_time": "2023-09-18T17:34:34.076Z"
   },
   {
    "duration": 1012,
    "start_time": "2023-09-18T17:35:08.363Z"
   },
   {
    "duration": 13,
    "start_time": "2023-09-18T17:35:09.377Z"
   },
   {
    "duration": 190,
    "start_time": "2023-09-18T17:35:09.392Z"
   },
   {
    "duration": 106,
    "start_time": "2023-09-18T17:35:09.584Z"
   },
   {
    "duration": 164,
    "start_time": "2023-09-18T17:35:09.692Z"
   },
   {
    "duration": 41,
    "start_time": "2023-09-18T17:35:10.047Z"
   },
   {
    "duration": 190,
    "start_time": "2023-09-18T17:35:10.246Z"
   },
   {
    "duration": 50,
    "start_time": "2023-09-18T17:35:10.655Z"
   },
   {
    "duration": 138,
    "start_time": "2023-09-18T17:35:11.083Z"
   },
   {
    "duration": 52,
    "start_time": "2023-09-18T17:35:11.514Z"
   },
   {
    "duration": 8,
    "start_time": "2023-09-18T17:35:11.754Z"
   },
   {
    "duration": 840,
    "start_time": "2023-09-18T17:35:11.950Z"
   },
   {
    "duration": 817,
    "start_time": "2023-09-18T17:35:12.792Z"
   },
   {
    "duration": 935,
    "start_time": "2023-09-18T17:35:13.610Z"
   },
   {
    "duration": 155,
    "start_time": "2023-09-18T17:35:14.547Z"
   },
   {
    "duration": 410,
    "start_time": "2023-09-18T17:35:14.703Z"
   },
   {
    "duration": 504,
    "start_time": "2023-09-18T17:35:15.115Z"
   },
   {
    "duration": 431,
    "start_time": "2023-09-18T17:35:15.621Z"
   },
   {
    "duration": 3,
    "start_time": "2023-09-18T17:35:16.058Z"
   },
   {
    "duration": 23,
    "start_time": "2023-09-18T17:35:16.392Z"
   },
   {
    "duration": 17,
    "start_time": "2023-09-18T17:35:16.985Z"
   },
   {
    "duration": 21,
    "start_time": "2023-09-18T17:35:20.273Z"
   },
   {
    "duration": 69,
    "start_time": "2023-09-18T17:35:20.848Z"
   },
   {
    "duration": 21,
    "start_time": "2023-09-18T17:35:38.254Z"
   },
   {
    "duration": 23,
    "start_time": "2023-09-18T17:35:44.863Z"
   },
   {
    "duration": 34,
    "start_time": "2023-09-18T17:35:51.029Z"
   },
   {
    "duration": 662,
    "start_time": "2023-09-18T17:35:58.157Z"
   },
   {
    "duration": 768,
    "start_time": "2023-09-18T17:36:10.871Z"
   },
   {
    "duration": 686,
    "start_time": "2023-09-18T17:36:22.462Z"
   },
   {
    "duration": 719,
    "start_time": "2023-09-18T17:37:18.799Z"
   },
   {
    "duration": 18,
    "start_time": "2023-09-18T17:37:23.086Z"
   },
   {
    "duration": 1047,
    "start_time": "2023-09-18T17:40:21.286Z"
   },
   {
    "duration": 22,
    "start_time": "2023-09-18T17:40:24.790Z"
   },
   {
    "duration": 109,
    "start_time": "2023-09-18T17:42:56.995Z"
   },
   {
    "duration": 5,
    "start_time": "2023-09-18T17:43:01.094Z"
   },
   {
    "duration": 71,
    "start_time": "2023-09-18T17:43:23.079Z"
   },
   {
    "duration": 1048,
    "start_time": "2023-09-18T17:43:34.378Z"
   },
   {
    "duration": 19,
    "start_time": "2023-09-18T17:43:35.429Z"
   },
   {
    "duration": 365,
    "start_time": "2023-09-18T17:43:35.450Z"
   },
   {
    "duration": 136,
    "start_time": "2023-09-18T17:43:35.818Z"
   },
   {
    "duration": 225,
    "start_time": "2023-09-18T17:43:35.956Z"
   },
   {
    "duration": 53,
    "start_time": "2023-09-18T17:43:36.183Z"
   },
   {
    "duration": 172,
    "start_time": "2023-09-18T17:43:36.239Z"
   },
   {
    "duration": 72,
    "start_time": "2023-09-18T17:43:36.413Z"
   },
   {
    "duration": 121,
    "start_time": "2023-09-18T17:43:36.683Z"
   },
   {
    "duration": 39,
    "start_time": "2023-09-18T17:43:37.039Z"
   },
   {
    "duration": 10,
    "start_time": "2023-09-18T17:43:37.223Z"
   },
   {
    "duration": 851,
    "start_time": "2023-09-18T17:43:37.383Z"
   },
   {
    "duration": 833,
    "start_time": "2023-09-18T17:43:38.237Z"
   },
   {
    "duration": 933,
    "start_time": "2023-09-18T17:43:39.072Z"
   },
   {
    "duration": 159,
    "start_time": "2023-09-18T17:43:40.007Z"
   },
   {
    "duration": 458,
    "start_time": "2023-09-18T17:43:40.167Z"
   },
   {
    "duration": 564,
    "start_time": "2023-09-18T17:43:40.627Z"
   },
   {
    "duration": 403,
    "start_time": "2023-09-18T17:43:41.193Z"
   },
   {
    "duration": 3,
    "start_time": "2023-09-18T17:43:41.598Z"
   },
   {
    "duration": 38,
    "start_time": "2023-09-18T17:43:41.602Z"
   },
   {
    "duration": 20,
    "start_time": "2023-09-18T17:43:41.643Z"
   },
   {
    "duration": 1130,
    "start_time": "2023-09-18T17:43:48.076Z"
   },
   {
    "duration": 111,
    "start_time": "2023-09-18T17:43:52.359Z"
   },
   {
    "duration": 21,
    "start_time": "2023-09-18T17:43:56.760Z"
   },
   {
    "duration": 14,
    "start_time": "2023-09-18T17:44:04.007Z"
   },
   {
    "duration": 55,
    "start_time": "2023-09-18T17:44:04.481Z"
   },
   {
    "duration": 13,
    "start_time": "2023-09-18T17:47:59.342Z"
   },
   {
    "duration": 96,
    "start_time": "2023-09-18T17:50:41.266Z"
   },
   {
    "duration": 4,
    "start_time": "2023-09-18T17:50:44.502Z"
   },
   {
    "duration": 25,
    "start_time": "2023-09-18T17:57:17.823Z"
   },
   {
    "duration": 3,
    "start_time": "2023-09-18T17:57:31.951Z"
   },
   {
    "duration": 23007,
    "start_time": "2023-09-18T17:58:13.990Z"
   },
   {
    "duration": 16,
    "start_time": "2023-09-18T18:00:22.698Z"
   },
   {
    "duration": 102328,
    "start_time": "2023-09-18T18:00:52.488Z"
   },
   {
    "duration": 111,
    "start_time": "2023-09-18T18:08:07.950Z"
   },
   {
    "duration": 363,
    "start_time": "2023-09-18T18:08:17.270Z"
   },
   {
    "duration": 119,
    "start_time": "2023-09-18T18:10:26.221Z"
   },
   {
    "duration": 16,
    "start_time": "2023-09-18T18:10:31.933Z"
   },
   {
    "duration": 18,
    "start_time": "2023-09-18T18:11:07.336Z"
   },
   {
    "duration": 15,
    "start_time": "2023-09-18T18:11:21.589Z"
   },
   {
    "duration": 16,
    "start_time": "2023-09-18T18:11:27.043Z"
   },
   {
    "duration": 20,
    "start_time": "2023-09-18T18:11:29.519Z"
   },
   {
    "duration": 29,
    "start_time": "2023-09-18T18:39:24.875Z"
   },
   {
    "duration": 1682,
    "start_time": "2023-09-19T14:01:25.775Z"
   },
   {
    "duration": 1164,
    "start_time": "2023-09-19T14:01:29.874Z"
   },
   {
    "duration": 15,
    "start_time": "2023-09-19T14:01:31.040Z"
   },
   {
    "duration": 167,
    "start_time": "2023-09-19T14:01:31.056Z"
   },
   {
    "duration": 114,
    "start_time": "2023-09-19T14:01:31.225Z"
   },
   {
    "duration": 139,
    "start_time": "2023-09-19T14:01:31.341Z"
   },
   {
    "duration": 46,
    "start_time": "2023-09-19T14:01:31.493Z"
   },
   {
    "duration": 129,
    "start_time": "2023-09-19T14:01:31.705Z"
   },
   {
    "duration": 50,
    "start_time": "2023-09-19T14:01:32.140Z"
   },
   {
    "duration": 117,
    "start_time": "2023-09-19T14:01:32.543Z"
   },
   {
    "duration": 46,
    "start_time": "2023-09-19T14:01:32.818Z"
   },
   {
    "duration": 6,
    "start_time": "2023-09-19T14:01:32.950Z"
   },
   {
    "duration": 809,
    "start_time": "2023-09-19T14:01:33.151Z"
   },
   {
    "duration": 771,
    "start_time": "2023-09-19T14:01:33.962Z"
   },
   {
    "duration": 761,
    "start_time": "2023-09-19T14:01:34.735Z"
   },
   {
    "duration": 138,
    "start_time": "2023-09-19T14:01:35.498Z"
   },
   {
    "duration": 353,
    "start_time": "2023-09-19T14:01:35.638Z"
   },
   {
    "duration": 471,
    "start_time": "2023-09-19T14:01:35.993Z"
   },
   {
    "duration": 357,
    "start_time": "2023-09-19T14:01:36.466Z"
   },
   {
    "duration": 3,
    "start_time": "2023-09-19T14:01:36.824Z"
   },
   {
    "duration": 39,
    "start_time": "2023-09-19T14:01:36.828Z"
   },
   {
    "duration": 26,
    "start_time": "2023-09-19T14:01:36.870Z"
   },
   {
    "duration": 879,
    "start_time": "2023-09-19T14:01:36.897Z"
   },
   {
    "duration": 102,
    "start_time": "2023-09-19T14:01:37.778Z"
   },
   {
    "duration": 8,
    "start_time": "2023-09-19T14:01:38.433Z"
   },
   {
    "duration": 43,
    "start_time": "2023-09-19T14:01:38.980Z"
   },
   {
    "duration": 14,
    "start_time": "2023-09-19T14:01:47.286Z"
   },
   {
    "duration": 89464,
    "start_time": "2023-09-19T14:02:06.658Z"
   },
   {
    "duration": 335,
    "start_time": "2023-09-19T14:05:18.938Z"
   },
   {
    "duration": 14,
    "start_time": "2023-09-19T14:05:20.634Z"
   },
   {
    "duration": 3320265,
    "start_time": "2023-09-19T14:05:27.925Z"
   },
   {
    "duration": 3217857,
    "start_time": "2023-09-19T15:01:02.639Z"
   },
   {
    "duration": 165840,
    "start_time": "2023-09-19T15:55:16.951Z"
   },
   {
    "duration": 6746,
    "start_time": "2023-09-19T15:58:11.258Z"
   },
   {
    "duration": 110,
    "start_time": "2023-09-19T15:58:40.020Z"
   },
   {
    "duration": 47,
    "start_time": "2023-09-19T17:21:26.598Z"
   },
   {
    "duration": 15,
    "start_time": "2023-09-19T17:30:13.415Z"
   },
   {
    "duration": 10,
    "start_time": "2023-09-19T17:30:23.285Z"
   },
   {
    "duration": 10,
    "start_time": "2023-09-19T17:30:29.424Z"
   },
   {
    "duration": 125,
    "start_time": "2023-09-19T17:30:45.091Z"
   },
   {
    "duration": 157395,
    "start_time": "2023-09-19T17:30:47.546Z"
   },
   {
    "duration": 144366,
    "start_time": "2023-09-19T17:35:15.144Z"
   },
   {
    "duration": 145971,
    "start_time": "2023-09-19T17:39:08.002Z"
   },
   {
    "duration": 133845,
    "start_time": "2023-09-19T17:42:33.000Z"
   },
   {
    "duration": 128794,
    "start_time": "2023-09-19T17:52:46.000Z"
   },
   {
    "duration": 130109,
    "start_time": "2023-09-19T17:56:51.840Z"
   },
   {
    "duration": 183,
    "start_time": "2023-09-19T18:02:59.096Z"
   },
   {
    "duration": 3,
    "start_time": "2023-09-19T18:03:03.066Z"
   },
   {
    "duration": 29930,
    "start_time": "2023-09-19T18:03:28.330Z"
   },
   {
    "duration": 79,
    "start_time": "2023-09-19T18:04:29.194Z"
   },
   {
    "duration": 9,
    "start_time": "2023-09-19T18:17:16.383Z"
   },
   {
    "duration": 25,
    "start_time": "2023-09-19T18:17:21.192Z"
   },
   {
    "duration": 15,
    "start_time": "2023-09-19T18:17:27.113Z"
   },
   {
    "duration": 12,
    "start_time": "2023-09-19T18:17:51.919Z"
   },
   {
    "duration": 18,
    "start_time": "2023-09-19T18:18:13.651Z"
   },
   {
    "duration": 14,
    "start_time": "2023-09-19T18:18:27.844Z"
   },
   {
    "duration": 16,
    "start_time": "2023-09-19T18:20:04.316Z"
   },
   {
    "duration": 10,
    "start_time": "2023-09-19T18:20:13.205Z"
   },
   {
    "duration": 12,
    "start_time": "2023-09-19T18:20:39.230Z"
   },
   {
    "duration": 1777,
    "start_time": "2023-09-20T14:02:09.994Z"
   },
   {
    "duration": 1286,
    "start_time": "2023-09-20T14:02:15.110Z"
   },
   {
    "duration": 17,
    "start_time": "2023-09-20T14:02:16.770Z"
   },
   {
    "duration": 147,
    "start_time": "2023-09-20T14:02:17.572Z"
   },
   {
    "duration": 91,
    "start_time": "2023-09-20T14:02:17.824Z"
   },
   {
    "duration": 151,
    "start_time": "2023-09-20T14:02:18.271Z"
   },
   {
    "duration": 57,
    "start_time": "2023-09-20T14:02:18.648Z"
   },
   {
    "duration": 158,
    "start_time": "2023-09-20T14:02:18.872Z"
   },
   {
    "duration": 60,
    "start_time": "2023-09-20T14:02:19.238Z"
   },
   {
    "duration": 120,
    "start_time": "2023-09-20T14:02:19.593Z"
   },
   {
    "duration": 36,
    "start_time": "2023-09-20T14:02:19.937Z"
   },
   {
    "duration": 8,
    "start_time": "2023-09-20T14:02:20.118Z"
   },
   {
    "duration": 895,
    "start_time": "2023-09-20T14:02:20.319Z"
   },
   {
    "duration": 769,
    "start_time": "2023-09-20T14:02:21.217Z"
   },
   {
    "duration": 937,
    "start_time": "2023-09-20T14:02:21.988Z"
   },
   {
    "duration": 149,
    "start_time": "2023-09-20T14:02:22.928Z"
   },
   {
    "duration": 410,
    "start_time": "2023-09-20T14:02:23.079Z"
   },
   {
    "duration": 501,
    "start_time": "2023-09-20T14:02:23.491Z"
   },
   {
    "duration": 422,
    "start_time": "2023-09-20T14:02:23.993Z"
   },
   {
    "duration": 3,
    "start_time": "2023-09-20T14:02:24.417Z"
   },
   {
    "duration": 76,
    "start_time": "2023-09-20T14:02:24.421Z"
   },
   {
    "duration": 37,
    "start_time": "2023-09-20T14:02:24.499Z"
   },
   {
    "duration": 1042,
    "start_time": "2023-09-20T14:02:27.745Z"
   },
   {
    "duration": 124,
    "start_time": "2023-09-20T14:02:28.789Z"
   },
   {
    "duration": 9,
    "start_time": "2023-09-20T14:02:28.917Z"
   },
   {
    "duration": 92,
    "start_time": "2023-09-20T14:02:28.929Z"
   },
   {
    "duration": 104028,
    "start_time": "2023-09-20T14:02:29.519Z"
   },
   {
    "duration": 392,
    "start_time": "2023-09-20T14:04:13.549Z"
   },
   {
    "duration": 16,
    "start_time": "2023-09-20T14:08:23.947Z"
   },
   {
    "duration": 191993,
    "start_time": "2023-09-20T14:08:27.224Z"
   },
   {
    "duration": 8005,
    "start_time": "2023-09-20T14:12:14.733Z"
   },
   {
    "duration": 127,
    "start_time": "2023-09-20T14:12:33.341Z"
   },
   {
    "duration": 158900,
    "start_time": "2023-09-20T14:12:37.483Z"
   },
   {
    "duration": 3,
    "start_time": "2023-09-20T14:16:38.699Z"
   },
   {
    "duration": 35367,
    "start_time": "2023-09-20T14:16:40.831Z"
   },
   {
    "duration": 86,
    "start_time": "2023-09-20T14:19:52.183Z"
   },
   {
    "duration": 49111,
    "start_time": "2023-09-20T14:20:20.499Z"
   },
   {
    "duration": 65493,
    "start_time": "2023-09-20T14:23:55.519Z"
   },
   {
    "duration": 176245,
    "start_time": "2023-09-20T14:25:41.361Z"
   },
   {
    "duration": 3085,
    "start_time": "2023-09-20T14:30:34.826Z"
   },
   {
    "duration": 296,
    "start_time": "2023-09-20T14:31:00.307Z"
   },
   {
    "duration": 4156,
    "start_time": "2023-09-20T15:45:27.217Z"
   },
   {
    "duration": 1294,
    "start_time": "2023-09-20T15:45:31.376Z"
   },
   {
    "duration": 17,
    "start_time": "2023-09-20T15:45:32.672Z"
   },
   {
    "duration": 169,
    "start_time": "2023-09-20T15:45:32.691Z"
   },
   {
    "duration": 100,
    "start_time": "2023-09-20T15:45:32.862Z"
   },
   {
    "duration": 152,
    "start_time": "2023-09-20T15:45:32.963Z"
   },
   {
    "duration": 56,
    "start_time": "2023-09-20T15:45:33.117Z"
   },
   {
    "duration": 158,
    "start_time": "2023-09-20T15:45:33.174Z"
   },
   {
    "duration": 61,
    "start_time": "2023-09-20T15:45:33.334Z"
   },
   {
    "duration": 127,
    "start_time": "2023-09-20T15:45:33.396Z"
   },
   {
    "duration": 15,
    "start_time": "2023-09-20T15:45:34.811Z"
   },
   {
    "duration": 118,
    "start_time": "2023-09-20T15:53:20.190Z"
   },
   {
    "duration": 4,
    "start_time": "2023-09-20T15:53:24.204Z"
   },
   {
    "duration": 958,
    "start_time": "2023-09-20T15:53:24.209Z"
   },
   {
    "duration": 13,
    "start_time": "2023-09-20T15:53:25.168Z"
   },
   {
    "duration": 238,
    "start_time": "2023-09-20T15:53:25.183Z"
   },
   {
    "duration": 89,
    "start_time": "2023-09-20T15:53:25.423Z"
   },
   {
    "duration": 125,
    "start_time": "2023-09-20T15:53:25.514Z"
   },
   {
    "duration": 36,
    "start_time": "2023-09-20T15:53:25.641Z"
   },
   {
    "duration": 145,
    "start_time": "2023-09-20T15:53:25.679Z"
   },
   {
    "duration": 52,
    "start_time": "2023-09-20T15:53:25.826Z"
   },
   {
    "duration": 120,
    "start_time": "2023-09-20T15:53:25.880Z"
   },
   {
    "duration": 47,
    "start_time": "2023-09-20T15:53:26.002Z"
   },
   {
    "duration": 8,
    "start_time": "2023-09-20T15:53:26.051Z"
   },
   {
    "duration": 800,
    "start_time": "2023-09-20T15:53:26.061Z"
   },
   {
    "duration": 728,
    "start_time": "2023-09-20T15:53:26.862Z"
   },
   {
    "duration": 803,
    "start_time": "2023-09-20T15:53:27.592Z"
   },
   {
    "duration": 140,
    "start_time": "2023-09-20T15:53:28.397Z"
   },
   {
    "duration": 414,
    "start_time": "2023-09-20T15:53:28.539Z"
   },
   {
    "duration": 470,
    "start_time": "2023-09-20T15:53:28.955Z"
   },
   {
    "duration": 391,
    "start_time": "2023-09-20T15:53:29.426Z"
   },
   {
    "duration": 2,
    "start_time": "2023-09-20T15:53:29.819Z"
   },
   {
    "duration": 61,
    "start_time": "2023-09-20T15:53:29.823Z"
   },
   {
    "duration": 16,
    "start_time": "2023-09-20T15:53:29.886Z"
   },
   {
    "duration": 1006,
    "start_time": "2023-09-20T15:53:29.904Z"
   },
   {
    "duration": 117,
    "start_time": "2023-09-20T15:53:30.911Z"
   },
   {
    "duration": 20,
    "start_time": "2023-09-20T15:53:31.029Z"
   },
   {
    "duration": 131,
    "start_time": "2023-09-20T15:53:31.055Z"
   },
   {
    "duration": 6,
    "start_time": "2023-09-20T15:53:42.475Z"
   },
   {
    "duration": 2829,
    "start_time": "2023-09-21T16:57:15.393Z"
   },
   {
    "duration": 1413,
    "start_time": "2023-09-21T16:57:20.077Z"
   },
   {
    "duration": 17,
    "start_time": "2023-09-21T16:57:21.493Z"
   },
   {
    "duration": 190,
    "start_time": "2023-09-21T16:57:21.512Z"
   },
   {
    "duration": 172,
    "start_time": "2023-09-21T16:57:21.704Z"
   },
   {
    "duration": 167,
    "start_time": "2023-09-21T16:57:21.878Z"
   },
   {
    "duration": 56,
    "start_time": "2023-09-21T16:57:30.458Z"
   },
   {
    "duration": 160,
    "start_time": "2023-09-21T16:58:00.935Z"
   },
   {
    "duration": 64,
    "start_time": "2023-09-21T16:58:09.100Z"
   },
   {
    "duration": 146,
    "start_time": "2023-09-21T16:59:35.236Z"
   },
   {
    "duration": 98,
    "start_time": "2023-09-21T17:02:23.655Z"
   },
   {
    "duration": 53,
    "start_time": "2023-09-21T17:06:49.573Z"
   },
   {
    "duration": 122,
    "start_time": "2023-09-21T17:08:16.418Z"
   },
   {
    "duration": 34,
    "start_time": "2023-09-21T17:08:17.336Z"
   },
   {
    "duration": 85,
    "start_time": "2023-09-21T17:08:17.863Z"
   },
   {
    "duration": 796,
    "start_time": "2023-09-21T17:08:29.055Z"
   },
   {
    "duration": 709,
    "start_time": "2023-09-21T17:08:35.411Z"
   },
   {
    "duration": 837,
    "start_time": "2023-09-21T17:08:39.907Z"
   },
   {
    "duration": 148,
    "start_time": "2023-09-21T17:08:44.210Z"
   },
   {
    "duration": 359,
    "start_time": "2023-09-21T17:10:25.394Z"
   },
   {
    "duration": 403,
    "start_time": "2023-09-21T17:10:38.282Z"
   },
   {
    "duration": 503,
    "start_time": "2023-09-21T17:10:38.687Z"
   },
   {
    "duration": 391,
    "start_time": "2023-09-21T17:10:40.054Z"
   },
   {
    "duration": 4,
    "start_time": "2023-09-21T17:10:41.382Z"
   },
   {
    "duration": 26,
    "start_time": "2023-09-21T17:10:42.562Z"
   },
   {
    "duration": 19,
    "start_time": "2023-09-21T17:10:43.192Z"
   },
   {
    "duration": 308,
    "start_time": "2023-09-21T17:11:12.611Z"
   },
   {
    "duration": 14,
    "start_time": "2023-09-21T17:11:46.405Z"
   },
   {
    "duration": 121,
    "start_time": "2023-09-21T17:17:16.067Z"
   },
   {
    "duration": 118,
    "start_time": "2023-09-21T17:17:38.126Z"
   },
   {
    "duration": 996,
    "start_time": "2023-09-21T17:20:23.199Z"
   },
   {
    "duration": 27,
    "start_time": "2023-09-21T17:21:03.053Z"
   },
   {
    "duration": 481,
    "start_time": "2023-09-21T17:21:15.912Z"
   },
   {
    "duration": 664,
    "start_time": "2023-09-21T17:21:28.462Z"
   },
   {
    "duration": 100,
    "start_time": "2023-09-21T17:21:36.383Z"
   },
   {
    "duration": 419,
    "start_time": "2023-09-21T17:23:17.090Z"
   },
   {
    "duration": 172,
    "start_time": "2023-09-21T17:23:36.611Z"
   },
   {
    "duration": 362,
    "start_time": "2023-09-21T17:23:55.623Z"
   },
   {
    "duration": 19,
    "start_time": "2023-09-21T17:24:05.321Z"
   },
   {
    "duration": 118,
    "start_time": "2023-09-21T17:24:05.820Z"
   },
   {
    "duration": 580,
    "start_time": "2023-09-21T17:24:06.675Z"
   },
   {
    "duration": 20,
    "start_time": "2023-09-21T17:24:12.228Z"
   },
   {
    "duration": 415,
    "start_time": "2023-09-21T17:25:20.772Z"
   },
   {
    "duration": 30,
    "start_time": "2023-09-21T17:25:37.009Z"
   },
   {
    "duration": 109,
    "start_time": "2023-09-21T17:25:37.665Z"
   },
   {
    "duration": 990,
    "start_time": "2023-09-21T17:25:38.861Z"
   },
   {
    "duration": 62,
    "start_time": "2023-09-21T17:26:59.228Z"
   },
   {
    "duration": 118321,
    "start_time": "2023-09-21T17:29:12.590Z"
   },
   {
    "duration": 216,
    "start_time": "2023-09-21T17:31:40.607Z"
   },
   {
    "duration": 44,
    "start_time": "2023-12-12T18:03:32.383Z"
   }
  ],
  "kernelspec": {
   "display_name": "Python [conda env:practicum]",
   "language": "python",
   "name": "conda-env-practicum-py"
  },
  "language_info": {
   "codemirror_mode": {
    "name": "ipython",
    "version": 3
   },
   "file_extension": ".py",
   "mimetype": "text/x-python",
   "name": "python",
   "nbconvert_exporter": "python",
   "pygments_lexer": "ipython3",
   "version": "3.11.11"
  },
  "toc": {
   "base_numbering": 1,
   "nav_menu": {},
   "number_sections": true,
   "sideBar": true,
   "skip_h1_title": true,
   "title_cell": "Table of Contents",
   "title_sidebar": "Contents",
   "toc_cell": false,
   "toc_position": {},
   "toc_section_display": true,
   "toc_window_display": false
  }
 },
 "nbformat": 4,
 "nbformat_minor": 4
}
